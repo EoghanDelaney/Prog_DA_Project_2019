{
 "cells": [
  {
   "cell_type": "markdown",
   "metadata": {},
   "source": [
    "# Programming for Data Analysis"
   ]
  },
  {
   "cell_type": "markdown",
   "metadata": {},
   "source": [
    "## Project 2019"
   ]
  },
  {
   "cell_type": "markdown",
   "metadata": {},
   "source": [
    "The following project consists of generating a dataset using numpy.random package, with the following steps.\n",
    "\n",
    "* Choose a real-world phenomenon that can be measured and for which you could collect at least one-hundred data points across at least four different variables\n",
    "\n",
    "* Investigate the types of variables involved, their likely distributions, and their relationships with each other.\n",
    "\n",
    "* Synthesise/simulate a data set as closely matching their properties as possible\n",
    "\n",
    "* Detail your research and implement the simulation in a Jupyter notebook – the data set itself can simply be displayed in an output cell within the notebook.\n",
    "\n",
    "I have an interest in Irish players playing in the English Soccer leagues, therefore I have chosen to base my dataset around this phenomenon. Variables including Name, Surname, Age, County of Ireland, Playing Position and League in which they play. I have used a number of sources for my data and these will be listed in each variable section. In this project there are a number of references to \"probability\" and \"likelihood\" in numerical format as a decimal percentage of 1."
   ]
  },
  {
   "cell_type": "code",
   "execution_count": 3,
   "metadata": {},
   "outputs": [],
   "source": [
    "# To begin with we add in all the packages we intend to use\n",
    "import pandas as pd\n",
    "import numpy as np\n",
    "import matplotlib.pyplot as plt\n",
    "import seaborn as sns\n",
    "sns.set(style=\"darkgrid\")"
   ]
  },
  {
   "cell_type": "markdown",
   "metadata": {},
   "source": [
    "As part of this project a number of external sources of data are required and these datasets are stored in a sub-folder within this repository, called **data**."
   ]
  },
  {
   "cell_type": "markdown",
   "metadata": {},
   "source": [
    "### Name"
   ]
  },
  {
   "cell_type": "markdown",
   "metadata": {},
   "source": [
    "The first variable chosen was the first name of the player. This variable was taken from the CSO website \"the Top baby boys names 2014\". Although the source of the data may not be the most current, the statistical calculations to follow hold through. The data was stored in a CSV file and stored in the data folder under the name forenames"
   ]
  },
  {
   "cell_type": "code",
   "execution_count": 4,
   "metadata": {},
   "outputs": [],
   "source": [
    "df_fornames = pd.read_csv(\"data/fornames.csv\")"
   ]
  },
  {
   "cell_type": "code",
   "execution_count": 5,
   "metadata": {},
   "outputs": [
    {
     "data": {
      "text/html": [
       "<div>\n",
       "<style scoped>\n",
       "    .dataframe tbody tr th:only-of-type {\n",
       "        vertical-align: middle;\n",
       "    }\n",
       "\n",
       "    .dataframe tbody tr th {\n",
       "        vertical-align: top;\n",
       "    }\n",
       "\n",
       "    .dataframe thead th {\n",
       "        text-align: right;\n",
       "    }\n",
       "</style>\n",
       "<table border=\"1\" class=\"dataframe\">\n",
       "  <thead>\n",
       "    <tr style=\"text-align: right;\">\n",
       "      <th></th>\n",
       "      <th>Name</th>\n",
       "      <th>Qty</th>\n",
       "      <th>Percentage</th>\n",
       "    </tr>\n",
       "  </thead>\n",
       "  <tbody>\n",
       "    <tr>\n",
       "      <th>0</th>\n",
       "      <td>Jack</td>\n",
       "      <td>786</td>\n",
       "      <td>0.055705</td>\n",
       "    </tr>\n",
       "    <tr>\n",
       "      <th>1</th>\n",
       "      <td>James</td>\n",
       "      <td>695</td>\n",
       "      <td>0.049256</td>\n",
       "    </tr>\n",
       "    <tr>\n",
       "      <th>2</th>\n",
       "      <td>Daniel</td>\n",
       "      <td>638</td>\n",
       "      <td>0.045216</td>\n",
       "    </tr>\n",
       "    <tr>\n",
       "      <th>3</th>\n",
       "      <td>Conor</td>\n",
       "      <td>581</td>\n",
       "      <td>0.041176</td>\n",
       "    </tr>\n",
       "    <tr>\n",
       "      <th>4</th>\n",
       "      <td>Seán</td>\n",
       "      <td>526</td>\n",
       "      <td>0.037279</td>\n",
       "    </tr>\n",
       "  </tbody>\n",
       "</table>\n",
       "</div>"
      ],
      "text/plain": [
       "     Name  Qty  Percentage\n",
       "0    Jack  786    0.055705\n",
       "1   James  695    0.049256\n",
       "2  Daniel  638    0.045216\n",
       "3   Conor  581    0.041176\n",
       "4    Seán  526    0.037279"
      ]
     },
     "execution_count": 5,
     "metadata": {},
     "output_type": "execute_result"
    }
   ],
   "source": [
    "df_fornames.head()"
   ]
  },
  {
   "cell_type": "markdown",
   "metadata": {},
   "source": [
    "The dataset has 3 number columns - Name, Qty and Percentage. This information can be used to randomly generate a boys name using the probability and the variable name. For this we used the \n",
    "\n",
    "**numpy.random.choice(a, size=None, replace=True, p=None)**"
   ]
  },
  {
   "cell_type": "code",
   "execution_count": 6,
   "metadata": {},
   "outputs": [
    {
     "name": "stdout",
     "output_type": "stream",
     "text": [
      "['Noah']\n"
     ]
    }
   ],
   "source": [
    "#First from the df_fornames we define the name array\n",
    "forname_array = df_fornames[\"Name\"].tolist()\n",
    "# We then define the pobility of these names arrising\n",
    "forname_percent = df_fornames[\"Percentage\"].tolist()\n",
    "\n",
    "forname = np.random.choice(forname_array, 1, p=forname_percent)\n",
    "print(forname)"
   ]
  },
  {
   "cell_type": "markdown",
   "metadata": {},
   "source": [
    "https://www.cso.ie/en/releasesandpublications/ep/p-1916/1916irl/people/names/"
   ]
  },
  {
   "cell_type": "markdown",
   "metadata": {},
   "source": [
    "### Surname"
   ]
  },
  {
   "cell_type": "markdown",
   "metadata": {},
   "source": [
    "Similarly to above, the surname follows the same sequence as the forename. The independent.ie revealed the top 20 Irish surnames in December 2019. We then assumed these to be the surname variables. This data was also stored as a CSV file and stored in data folder."
   ]
  },
  {
   "cell_type": "code",
   "execution_count": 7,
   "metadata": {},
   "outputs": [],
   "source": [
    "df_surenames = pd.read_csv(\"data/surname.csv\")"
   ]
  },
  {
   "cell_type": "code",
   "execution_count": 8,
   "metadata": {},
   "outputs": [
    {
     "data": {
      "text/html": [
       "<div>\n",
       "<style scoped>\n",
       "    .dataframe tbody tr th:only-of-type {\n",
       "        vertical-align: middle;\n",
       "    }\n",
       "\n",
       "    .dataframe tbody tr th {\n",
       "        vertical-align: top;\n",
       "    }\n",
       "\n",
       "    .dataframe thead th {\n",
       "        text-align: right;\n",
       "    }\n",
       "</style>\n",
       "<table border=\"1\" class=\"dataframe\">\n",
       "  <thead>\n",
       "    <tr style=\"text-align: right;\">\n",
       "      <th></th>\n",
       "      <th>Surname</th>\n",
       "    </tr>\n",
       "  </thead>\n",
       "  <tbody>\n",
       "    <tr>\n",
       "      <th>0</th>\n",
       "      <td>Murphy</td>\n",
       "    </tr>\n",
       "    <tr>\n",
       "      <th>1</th>\n",
       "      <td>Kelly</td>\n",
       "    </tr>\n",
       "    <tr>\n",
       "      <th>2</th>\n",
       "      <td>Byrne</td>\n",
       "    </tr>\n",
       "    <tr>\n",
       "      <th>3</th>\n",
       "      <td>Ryan</td>\n",
       "    </tr>\n",
       "    <tr>\n",
       "      <th>4</th>\n",
       "      <td>O'Brien</td>\n",
       "    </tr>\n",
       "  </tbody>\n",
       "</table>\n",
       "</div>"
      ],
      "text/plain": [
       "   Surname\n",
       "0   Murphy\n",
       "1    Kelly\n",
       "2    Byrne\n",
       "3     Ryan\n",
       "4  O'Brien"
      ]
     },
     "execution_count": 8,
     "metadata": {},
     "output_type": "execute_result"
    }
   ],
   "source": [
    "df_surenames.head()"
   ]
  },
  {
   "cell_type": "markdown",
   "metadata": {},
   "source": [
    "For this variable we have no quantity or percentage breakdown - therefore we give them all equal likelihood of occurrence 1/20."
   ]
  },
  {
   "cell_type": "code",
   "execution_count": 9,
   "metadata": {},
   "outputs": [
    {
     "name": "stdout",
     "output_type": "stream",
     "text": [
      "O'Neill\n"
     ]
    }
   ],
   "source": [
    "surname = df_surenames[\"Surname\"]\n",
    "S_name = surname[int(np.random.choice(19,1))]\n",
    "print(S_name)"
   ]
  },
  {
   "cell_type": "markdown",
   "metadata": {},
   "source": [
    "https://www.independent.ie/irish-news/revealed-top-20-irish-surnames-31414892.html"
   ]
  },
  {
   "cell_type": "markdown",
   "metadata": {},
   "source": [
    "### Age"
   ]
  },
  {
   "cell_type": "markdown",
   "metadata": {},
   "source": [
    "The age variable was taken as another assumption ages 15 through to 33 with a triangle statistical distribution. We have assumed youngsters start to head to England at the age of 15 and it peaks at 18 and gradually tapers down to the age of 33, where we assumed the career of a professional footballer ends. The thought process behind this is that at a young age, players are scouted by teams and then given short-term contracts and then over time with injuries and not been given contract extensions the probability decreases with age. This assumed distribution takes the form of:\n",
    "\n",
    "**numpy.random.triangular(left, mode, right, size=None)**"
   ]
  },
  {
   "cell_type": "code",
   "execution_count": 10,
   "metadata": {},
   "outputs": [],
   "source": [
    "# the left most age is 15, mode/average is 18 and the right is 33\n",
    "age = np.random.triangular(15, 18, 33, 1)"
   ]
  },
  {
   "cell_type": "code",
   "execution_count": 11,
   "metadata": {},
   "outputs": [
    {
     "name": "stdout",
     "output_type": "stream",
     "text": [
      "[24.56008728]\n"
     ]
    }
   ],
   "source": [
    "print(age)"
   ]
  },
  {
   "cell_type": "markdown",
   "metadata": {},
   "source": [
    "### County"
   ]
  },
  {
   "cell_type": "markdown",
   "metadata": {},
   "source": [
    "As before for the county of origin of each of the players we decided to base this on the probability/likelihood of coming from each county based on population. Wikipedia has taken data from the CSO census of 2016 for the entire island of Ireland. This data was taken and stored in a CSV file in the data folder. The CSV file contains 3 number columns County, Population and Province. We can use the population data to determine the likelihood of the county of origin of each of the players. Further calculations are required."
   ]
  },
  {
   "cell_type": "code",
   "execution_count": 12,
   "metadata": {},
   "outputs": [],
   "source": [
    "df_county = pd.read_csv(\"data/population_per_county.csv\")"
   ]
  },
  {
   "cell_type": "code",
   "execution_count": 13,
   "metadata": {},
   "outputs": [
    {
     "name": "stdout",
     "output_type": "stream",
     "text": [
      "<class 'pandas.core.frame.DataFrame'>\n",
      "RangeIndex: 32 entries, 0 to 31\n",
      "Data columns (total 3 columns):\n",
      "County        32 non-null object\n",
      "Population    32 non-null float64\n",
      "Province      32 non-null object\n",
      "dtypes: float64(1), object(2)\n",
      "memory usage: 848.0+ bytes\n"
     ]
    }
   ],
   "source": [
    "df_county.info()"
   ]
  },
  {
   "cell_type": "code",
   "execution_count": 14,
   "metadata": {},
   "outputs": [
    {
     "data": {
      "text/html": [
       "<div>\n",
       "<style scoped>\n",
       "    .dataframe tbody tr th:only-of-type {\n",
       "        vertical-align: middle;\n",
       "    }\n",
       "\n",
       "    .dataframe tbody tr th {\n",
       "        vertical-align: top;\n",
       "    }\n",
       "\n",
       "    .dataframe thead th {\n",
       "        text-align: right;\n",
       "    }\n",
       "</style>\n",
       "<table border=\"1\" class=\"dataframe\">\n",
       "  <thead>\n",
       "    <tr style=\"text-align: right;\">\n",
       "      <th></th>\n",
       "      <th>County</th>\n",
       "      <th>Population</th>\n",
       "      <th>Province</th>\n",
       "    </tr>\n",
       "  </thead>\n",
       "  <tbody>\n",
       "    <tr>\n",
       "      <th>0</th>\n",
       "      <td>Dublin</td>\n",
       "      <td>1347359.0</td>\n",
       "      <td>Leinster</td>\n",
       "    </tr>\n",
       "    <tr>\n",
       "      <th>1</th>\n",
       "      <td>Antrim</td>\n",
       "      <td>618108.0</td>\n",
       "      <td>Ulster</td>\n",
       "    </tr>\n",
       "    <tr>\n",
       "      <th>2</th>\n",
       "      <td>Cork</td>\n",
       "      <td>542868.0</td>\n",
       "      <td>Munster</td>\n",
       "    </tr>\n",
       "    <tr>\n",
       "      <th>3</th>\n",
       "      <td>Down</td>\n",
       "      <td>531665.0</td>\n",
       "      <td>Ulster</td>\n",
       "    </tr>\n",
       "    <tr>\n",
       "      <th>4</th>\n",
       "      <td>Galway</td>\n",
       "      <td>258058.0</td>\n",
       "      <td>Connacht</td>\n",
       "    </tr>\n",
       "  </tbody>\n",
       "</table>\n",
       "</div>"
      ],
      "text/plain": [
       "   County  Population  Province\n",
       "0  Dublin   1347359.0  Leinster\n",
       "1  Antrim    618108.0    Ulster\n",
       "2    Cork    542868.0   Munster\n",
       "3    Down    531665.0    Ulster\n",
       "4  Galway    258058.0  Connacht"
      ]
     },
     "execution_count": 14,
     "metadata": {},
     "output_type": "execute_result"
    }
   ],
   "source": [
    "df_county.head()"
   ]
  },
  {
   "cell_type": "markdown",
   "metadata": {},
   "source": [
    "In order to determine the probability breakdown per county we need to total the population column. Totalled below - 6,573,732 people. We can then determine the percentage probability breakdown per county."
   ]
  },
  {
   "cell_type": "code",
   "execution_count": 15,
   "metadata": {},
   "outputs": [
    {
     "name": "stdout",
     "output_type": "stream",
     "text": [
      "6573732.0\n"
     ]
    }
   ],
   "source": [
    "pop = df_county['Population'].sum()\n",
    "print(pop)\n",
    "df_county['propibility'] = df_county['Population'] / pop"
   ]
  },
  {
   "cell_type": "code",
   "execution_count": 16,
   "metadata": {},
   "outputs": [
    {
     "data": {
      "text/html": [
       "<div>\n",
       "<style scoped>\n",
       "    .dataframe tbody tr th:only-of-type {\n",
       "        vertical-align: middle;\n",
       "    }\n",
       "\n",
       "    .dataframe tbody tr th {\n",
       "        vertical-align: top;\n",
       "    }\n",
       "\n",
       "    .dataframe thead th {\n",
       "        text-align: right;\n",
       "    }\n",
       "</style>\n",
       "<table border=\"1\" class=\"dataframe\">\n",
       "  <thead>\n",
       "    <tr style=\"text-align: right;\">\n",
       "      <th></th>\n",
       "      <th>County</th>\n",
       "      <th>Population</th>\n",
       "      <th>Province</th>\n",
       "      <th>propibility</th>\n",
       "    </tr>\n",
       "  </thead>\n",
       "  <tbody>\n",
       "    <tr>\n",
       "      <th>0</th>\n",
       "      <td>Dublin</td>\n",
       "      <td>1347359.0</td>\n",
       "      <td>Leinster</td>\n",
       "      <td>0.204961</td>\n",
       "    </tr>\n",
       "    <tr>\n",
       "      <th>1</th>\n",
       "      <td>Antrim</td>\n",
       "      <td>618108.0</td>\n",
       "      <td>Ulster</td>\n",
       "      <td>0.094027</td>\n",
       "    </tr>\n",
       "    <tr>\n",
       "      <th>2</th>\n",
       "      <td>Cork</td>\n",
       "      <td>542868.0</td>\n",
       "      <td>Munster</td>\n",
       "      <td>0.082581</td>\n",
       "    </tr>\n",
       "    <tr>\n",
       "      <th>3</th>\n",
       "      <td>Down</td>\n",
       "      <td>531665.0</td>\n",
       "      <td>Ulster</td>\n",
       "      <td>0.080877</td>\n",
       "    </tr>\n",
       "    <tr>\n",
       "      <th>4</th>\n",
       "      <td>Galway</td>\n",
       "      <td>258058.0</td>\n",
       "      <td>Connacht</td>\n",
       "      <td>0.039256</td>\n",
       "    </tr>\n",
       "  </tbody>\n",
       "</table>\n",
       "</div>"
      ],
      "text/plain": [
       "   County  Population  Province  propibility\n",
       "0  Dublin   1347359.0  Leinster     0.204961\n",
       "1  Antrim    618108.0    Ulster     0.094027\n",
       "2    Cork    542868.0   Munster     0.082581\n",
       "3    Down    531665.0    Ulster     0.080877\n",
       "4  Galway    258058.0  Connacht     0.039256"
      ]
     },
     "execution_count": 16,
     "metadata": {},
     "output_type": "execute_result"
    }
   ],
   "source": [
    "df_county.head()"
   ]
  },
  {
   "cell_type": "markdown",
   "metadata": {},
   "source": [
    "As previous variables we use the choice function to randomly choose a county for the player to come from."
   ]
  },
  {
   "cell_type": "code",
   "execution_count": 17,
   "metadata": {},
   "outputs": [
    {
     "name": "stdout",
     "output_type": "stream",
     "text": [
      "['Dublin']\n"
     ]
    }
   ],
   "source": [
    "county_array = df_county[\"County\"].tolist()\n",
    "county_percent = df_county[\"propibility\"].tolist()\n",
    "\n",
    "county1 = np.random.choice(county_array, 1, p=county_percent)\n",
    "county = str(county1)\n",
    "\n",
    "print(county)"
   ]
  },
  {
   "cell_type": "markdown",
   "metadata": {},
   "source": [
    "https://en.wikipedia.org/wiki/List_of_Irish_counties_by_population"
   ]
  },
  {
   "cell_type": "markdown",
   "metadata": {},
   "source": [
    "### Position"
   ]
  },
  {
   "cell_type": "markdown",
   "metadata": {},
   "source": [
    "The position of the player is a slightly more straight forward calculation. Here we look at a basic team formation of 1 Goalkepper (GK), 4 Defenders (DF), 4 Midfielders (MD) and 2 Forwards (FW). From this we can calculate the probability of each position occurring. As an example the goalkeeper will occur 1 in every 11 players on the pitch. For the position variable we randomly select a position for the player using the numpy.random.choice function as the previous variables.  "
   ]
  },
  {
   "cell_type": "code",
   "execution_count": 18,
   "metadata": {},
   "outputs": [
    {
     "name": "stdout",
     "output_type": "stream",
     "text": [
      "['GK']\n"
     ]
    }
   ],
   "source": [
    "# GK = 1/11  0.09\n",
    "# DF = 4/11  0.36\n",
    "# MD = 4/11  0.36\n",
    "# FW = 2/11  0.19\n",
    "\n",
    "position = ['GK', 'DF', 'MD', 'FW']\n",
    "pos_prob = [0.09, 0.36, 0.36, 0.19]\n",
    "\n",
    "pos = np.random.choice(position, 1, p=pos_prob)\n",
    "print(pos)"
   ]
  },
  {
   "cell_type": "markdown",
   "metadata": {},
   "source": [
    "### League"
   ]
  },
  {
   "cell_type": "markdown",
   "metadata": {},
   "source": [
    "We can now determine which league the player plays in again using the choice function in numpy.random. Soccerway.com has a full database of all players playing in any league in the world. This database can be filtered to determine all the Irish players playing in each league. This information is then stored in a CSV file named leagues in the data folder. This CSV gives a full list of all the current players the league and club they play for."
   ]
  },
  {
   "cell_type": "code",
   "execution_count": 19,
   "metadata": {},
   "outputs": [],
   "source": [
    "df_leagues = pd.read_csv(\"data/leagues.csv\")"
   ]
  },
  {
   "cell_type": "code",
   "execution_count": 20,
   "metadata": {},
   "outputs": [
    {
     "data": {
      "text/html": [
       "<div>\n",
       "<style scoped>\n",
       "    .dataframe tbody tr th:only-of-type {\n",
       "        vertical-align: middle;\n",
       "    }\n",
       "\n",
       "    .dataframe tbody tr th {\n",
       "        vertical-align: top;\n",
       "    }\n",
       "\n",
       "    .dataframe thead th {\n",
       "        text-align: right;\n",
       "    }\n",
       "</style>\n",
       "<table border=\"1\" class=\"dataframe\">\n",
       "  <thead>\n",
       "    <tr style=\"text-align: right;\">\n",
       "      <th></th>\n",
       "      <th>Player</th>\n",
       "      <th>League</th>\n",
       "      <th>Club</th>\n",
       "    </tr>\n",
       "  </thead>\n",
       "  <tbody>\n",
       "    <tr>\n",
       "      <th>0</th>\n",
       "      <td>K. Long</td>\n",
       "      <td>Premier League</td>\n",
       "      <td>Burnley</td>\n",
       "    </tr>\n",
       "    <tr>\n",
       "      <th>1</th>\n",
       "      <td>C. Kelleher</td>\n",
       "      <td>Premier League</td>\n",
       "      <td>Liverpool</td>\n",
       "    </tr>\n",
       "    <tr>\n",
       "      <th>2</th>\n",
       "      <td>L. Richards</td>\n",
       "      <td>Premier League</td>\n",
       "      <td>Wolverhampton Wanderers</td>\n",
       "    </tr>\n",
       "    <tr>\n",
       "      <th>3</th>\n",
       "      <td>G. Kilkenny</td>\n",
       "      <td>Premier League</td>\n",
       "      <td>AFC Bournemouth</td>\n",
       "    </tr>\n",
       "    <tr>\n",
       "      <th>4</th>\n",
       "      <td>S. Coleman</td>\n",
       "      <td>Premier League</td>\n",
       "      <td>Everton</td>\n",
       "    </tr>\n",
       "  </tbody>\n",
       "</table>\n",
       "</div>"
      ],
      "text/plain": [
       "        Player          League                     Club\n",
       "0      K. Long  Premier League                  Burnley\n",
       "1  C. Kelleher  Premier League                Liverpool\n",
       "2  L. Richards  Premier League  Wolverhampton Wanderers\n",
       "3  G. Kilkenny  Premier League          AFC Bournemouth\n",
       "4   S. Coleman  Premier League                  Everton"
      ]
     },
     "execution_count": 20,
     "metadata": {},
     "output_type": "execute_result"
    }
   ],
   "source": [
    "df_leagues.head()"
   ]
  },
  {
   "cell_type": "code",
   "execution_count": 21,
   "metadata": {},
   "outputs": [
    {
     "data": {
      "text/plain": [
       "Player    212\n",
       "League    212\n",
       "Club      212\n",
       "dtype: int64"
      ]
     },
     "execution_count": 21,
     "metadata": {},
     "output_type": "execute_result"
    }
   ],
   "source": [
    "# Number of players in the list!\n",
    "df_leagues.count()"
   ]
  },
  {
   "cell_type": "code",
   "execution_count": 22,
   "metadata": {},
   "outputs": [
    {
     "data": {
      "text/plain": [
       "array(['Premier League', 'Championship', 'League One', 'League Two',\n",
       "       'National League', 'National League N/S', 'Non League Premier',\n",
       "       'Non League Div One'], dtype=object)"
      ]
     },
     "execution_count": 22,
     "metadata": {},
     "output_type": "execute_result"
    }
   ],
   "source": [
    "df_leagues.League.unique()"
   ]
  },
  {
   "cell_type": "markdown",
   "metadata": {},
   "source": [
    "The next step is to determine the probability and name of the league the players are listed in. This column in the CSV file is labelled \"League\"."
   ]
  },
  {
   "cell_type": "code",
   "execution_count": 23,
   "metadata": {},
   "outputs": [
    {
     "name": "stdout",
     "output_type": "stream",
     "text": [
      "League One             0.198113\n",
      "League Two             0.183962\n",
      "Championship           0.169811\n",
      "Premier League         0.127358\n",
      "National League        0.117925\n",
      "National League N/S    0.099057\n",
      "Non League Premier     0.066038\n",
      "Non League Div One     0.037736\n",
      "Name: League, dtype: float64\n",
      "\n",
      " \n",
      "The randomly generated league selected is: \n",
      "['Championship']\n"
     ]
    }
   ],
   "source": [
    "# Define a sub-table \"LeaguesAndProb\" - Leagues and probility\n",
    "LeaguesAndProb= df_leagues['League'].value_counts(normalize=True)\n",
    "league_prob = LeaguesAndProb.values\n",
    "league_name = LeaguesAndProb.index\n",
    "\n",
    "league = np.random.choice(league_name, 1, p=league_prob)\n",
    "print(LeaguesAndProb)\n",
    "print(\"\\n \\nThe randomly generated league selected is: \")\n",
    "print(league)"
   ]
  },
  {
   "cell_type": "markdown",
   "metadata": {},
   "source": [
    "https://ie.soccerway.com/players/players_abroad/ireland-republic/"
   ]
  },
  {
   "cell_type": "markdown",
   "metadata": {},
   "source": [
    "### Final Data Point"
   ]
  },
  {
   "cell_type": "markdown",
   "metadata": {},
   "source": [
    "We can now create a new data frame using all the above variables and the numpy.random functions."
   ]
  },
  {
   "cell_type": "code",
   "execution_count": 24,
   "metadata": {},
   "outputs": [],
   "source": [
    "# Define the dataframe and incude all the column names\n",
    "df_rand_players = pd.DataFrame(columns=['Forname','Surname','County','Age','Position','League'])"
   ]
  },
  {
   "cell_type": "code",
   "execution_count": 25,
   "metadata": {},
   "outputs": [],
   "source": [
    "# Include all the additonal CSV files that do not carry over from the above code.\n",
    "surname = df_surenames[\"Surname\"]\n",
    "\n",
    "# We can now loop trough a qunatity of players to generate in this case we can select 1000\n",
    "\n",
    "for i in range(212):\n",
    "    \n",
    "    # Firstly we declare all the varibales and \n",
    "    name = np.random.choice(forname_array, 1, p=forname_percent)\n",
    "    player_surname = surname[int(np.random.choice(19,1))]\n",
    "    county = np.random.choice(county_array, 1, p=county_percent)\n",
    "    age = np.random.triangular(16, 18, 33, 1)\n",
    "    pos = np.random.choice(position, 1, p=[0.09, 0.36, 0.36, 0.19])\n",
    "    league = np.random.choice(league_name, 1, p=league_prob)\n",
    "    \n",
    "    # We can now append all the players into the datafrome, one after the next populating all the columns.\n",
    "    \n",
    "    df_rand_players = df_rand_players.append({'Forname': name[0],\n",
    "                                           'Surname': player_surname,\n",
    "                                           'County': county[0],\n",
    "                                           'Age': round(age[0],2),\n",
    "                                           'Position': pos[0],\n",
    "                                           'League': league[0]}, ignore_index=True)"
   ]
  },
  {
   "cell_type": "code",
   "execution_count": 26,
   "metadata": {},
   "outputs": [
    {
     "data": {
      "text/html": [
       "<div>\n",
       "<style scoped>\n",
       "    .dataframe tbody tr th:only-of-type {\n",
       "        vertical-align: middle;\n",
       "    }\n",
       "\n",
       "    .dataframe tbody tr th {\n",
       "        vertical-align: top;\n",
       "    }\n",
       "\n",
       "    .dataframe thead th {\n",
       "        text-align: right;\n",
       "    }\n",
       "</style>\n",
       "<table border=\"1\" class=\"dataframe\">\n",
       "  <thead>\n",
       "    <tr style=\"text-align: right;\">\n",
       "      <th></th>\n",
       "      <th>Forname</th>\n",
       "      <th>Surname</th>\n",
       "      <th>County</th>\n",
       "      <th>Age</th>\n",
       "      <th>Position</th>\n",
       "      <th>League</th>\n",
       "    </tr>\n",
       "  </thead>\n",
       "  <tbody>\n",
       "    <tr>\n",
       "      <th>0</th>\n",
       "      <td>Conor</td>\n",
       "      <td>O'Connor</td>\n",
       "      <td>Kildare</td>\n",
       "      <td>21.61</td>\n",
       "      <td>MD</td>\n",
       "      <td>Premier League</td>\n",
       "    </tr>\n",
       "    <tr>\n",
       "      <th>1</th>\n",
       "      <td>Oliver</td>\n",
       "      <td>Brennan</td>\n",
       "      <td>Cork</td>\n",
       "      <td>19.65</td>\n",
       "      <td>DF</td>\n",
       "      <td>Championship</td>\n",
       "    </tr>\n",
       "    <tr>\n",
       "      <th>2</th>\n",
       "      <td>Darragh</td>\n",
       "      <td>Kavanagh</td>\n",
       "      <td>Kilkenny</td>\n",
       "      <td>24.78</td>\n",
       "      <td>FW</td>\n",
       "      <td>Championship</td>\n",
       "    </tr>\n",
       "    <tr>\n",
       "      <th>3</th>\n",
       "      <td>Harry</td>\n",
       "      <td>Fitzgerald</td>\n",
       "      <td>Clare</td>\n",
       "      <td>26.83</td>\n",
       "      <td>DF</td>\n",
       "      <td>Non League Premier</td>\n",
       "    </tr>\n",
       "    <tr>\n",
       "      <th>4</th>\n",
       "      <td>Liam</td>\n",
       "      <td>Daly</td>\n",
       "      <td>Londonderry</td>\n",
       "      <td>20.15</td>\n",
       "      <td>DF</td>\n",
       "      <td>National League N/S</td>\n",
       "    </tr>\n",
       "  </tbody>\n",
       "</table>\n",
       "</div>"
      ],
      "text/plain": [
       "   Forname     Surname       County    Age Position               League\n",
       "0    Conor    O'Connor      Kildare  21.61       MD       Premier League\n",
       "1   Oliver     Brennan         Cork  19.65       DF         Championship\n",
       "2  Darragh    Kavanagh     Kilkenny  24.78       FW         Championship\n",
       "3    Harry  Fitzgerald        Clare  26.83       DF   Non League Premier\n",
       "4     Liam        Daly  Londonderry  20.15       DF  National League N/S"
      ]
     },
     "execution_count": 26,
     "metadata": {},
     "output_type": "execute_result"
    }
   ],
   "source": [
    "df_rand_players.head()"
   ]
  },
  {
   "cell_type": "markdown",
   "metadata": {},
   "source": [
    "We can now introduce an additional column based on other columns in the dataframe. In this project we will look at the number of Irish caps a player has received. This is based on the league in which they play along with their age. If a player plays in the Premier league and is above a certain age they are more likely to have played for the Irish National Team as the leagues decrease and their age decreases, so too does the likelihood of involvement. The following snippet of code will add random number of caps per player based on age and league."
   ]
  },
  {
   "cell_type": "code",
   "execution_count": 27,
   "metadata": {},
   "outputs": [],
   "source": [
    "if \"Irish_Caps\" not in df_rand_players:\n",
    "    df_rand_players[\"Irish_Caps\"] = \"\"\n",
    "\n",
    "for index, row in df_rand_players.iterrows():\n",
    "    age = row['Age']\n",
    "    league = row['League']\n",
    "    cap = float()\n",
    "    if age < 20 and league=='Premier League':\n",
    "        cap = float(np.random.randint(1, 10, 1))\n",
    "    elif age >= 20 and league=='Premier League':\n",
    "        cap = float(np.random.randint(1, 25, 1))\n",
    "    elif age >= 28 and league=='Premier League':\n",
    "        cap = float(np.random.randint(1, 40, 1))\n",
    "    elif age >= 20 and league=='Championship':\n",
    "        cap = float(np.random.randint(0, 2, 1))\n",
    "    elif age >= 20 and league=='Championship':\n",
    "        cap = float(np.random.randint(0, 5, 1))\n",
    "    df_rand_players.at[index, 'Irish_Caps'] = cap\n"
   ]
  },
  {
   "cell_type": "code",
   "execution_count": 28,
   "metadata": {},
   "outputs": [
    {
     "data": {
      "text/html": [
       "<div>\n",
       "<style scoped>\n",
       "    .dataframe tbody tr th:only-of-type {\n",
       "        vertical-align: middle;\n",
       "    }\n",
       "\n",
       "    .dataframe tbody tr th {\n",
       "        vertical-align: top;\n",
       "    }\n",
       "\n",
       "    .dataframe thead th {\n",
       "        text-align: right;\n",
       "    }\n",
       "</style>\n",
       "<table border=\"1\" class=\"dataframe\">\n",
       "  <thead>\n",
       "    <tr style=\"text-align: right;\">\n",
       "      <th></th>\n",
       "      <th>Forname</th>\n",
       "      <th>Surname</th>\n",
       "      <th>County</th>\n",
       "      <th>Age</th>\n",
       "      <th>Position</th>\n",
       "      <th>League</th>\n",
       "      <th>Irish_Caps</th>\n",
       "    </tr>\n",
       "  </thead>\n",
       "  <tbody>\n",
       "    <tr>\n",
       "      <th>0</th>\n",
       "      <td>Conor</td>\n",
       "      <td>O'Connor</td>\n",
       "      <td>Kildare</td>\n",
       "      <td>21.61</td>\n",
       "      <td>MD</td>\n",
       "      <td>Premier League</td>\n",
       "      <td>19</td>\n",
       "    </tr>\n",
       "    <tr>\n",
       "      <th>1</th>\n",
       "      <td>Oliver</td>\n",
       "      <td>Brennan</td>\n",
       "      <td>Cork</td>\n",
       "      <td>19.65</td>\n",
       "      <td>DF</td>\n",
       "      <td>Championship</td>\n",
       "      <td>0</td>\n",
       "    </tr>\n",
       "    <tr>\n",
       "      <th>2</th>\n",
       "      <td>Darragh</td>\n",
       "      <td>Kavanagh</td>\n",
       "      <td>Kilkenny</td>\n",
       "      <td>24.78</td>\n",
       "      <td>FW</td>\n",
       "      <td>Championship</td>\n",
       "      <td>1</td>\n",
       "    </tr>\n",
       "    <tr>\n",
       "      <th>3</th>\n",
       "      <td>Harry</td>\n",
       "      <td>Fitzgerald</td>\n",
       "      <td>Clare</td>\n",
       "      <td>26.83</td>\n",
       "      <td>DF</td>\n",
       "      <td>Non League Premier</td>\n",
       "      <td>0</td>\n",
       "    </tr>\n",
       "    <tr>\n",
       "      <th>4</th>\n",
       "      <td>Liam</td>\n",
       "      <td>Daly</td>\n",
       "      <td>Londonderry</td>\n",
       "      <td>20.15</td>\n",
       "      <td>DF</td>\n",
       "      <td>National League N/S</td>\n",
       "      <td>0</td>\n",
       "    </tr>\n",
       "  </tbody>\n",
       "</table>\n",
       "</div>"
      ],
      "text/plain": [
       "   Forname     Surname       County    Age Position               League  \\\n",
       "0    Conor    O'Connor      Kildare  21.61       MD       Premier League   \n",
       "1   Oliver     Brennan         Cork  19.65       DF         Championship   \n",
       "2  Darragh    Kavanagh     Kilkenny  24.78       FW         Championship   \n",
       "3    Harry  Fitzgerald        Clare  26.83       DF   Non League Premier   \n",
       "4     Liam        Daly  Londonderry  20.15       DF  National League N/S   \n",
       "\n",
       "  Irish_Caps  \n",
       "0         19  \n",
       "1          0  \n",
       "2          1  \n",
       "3          0  \n",
       "4          0  "
      ]
     },
     "execution_count": 28,
     "metadata": {},
     "output_type": "execute_result"
    }
   ],
   "source": [
    "df_rand_players.head()"
   ]
  },
  {
   "cell_type": "code",
   "execution_count": 29,
   "metadata": {},
   "outputs": [
    {
     "data": {
      "text/html": [
       "<div>\n",
       "<style scoped>\n",
       "    .dataframe tbody tr th:only-of-type {\n",
       "        vertical-align: middle;\n",
       "    }\n",
       "\n",
       "    .dataframe tbody tr th {\n",
       "        vertical-align: top;\n",
       "    }\n",
       "\n",
       "    .dataframe thead th {\n",
       "        text-align: right;\n",
       "    }\n",
       "</style>\n",
       "<table border=\"1\" class=\"dataframe\">\n",
       "  <thead>\n",
       "    <tr style=\"text-align: right;\">\n",
       "      <th></th>\n",
       "      <th>Forname</th>\n",
       "      <th>Surname</th>\n",
       "      <th>County</th>\n",
       "      <th>Age</th>\n",
       "      <th>Position</th>\n",
       "      <th>League</th>\n",
       "      <th>Irish_Caps</th>\n",
       "    </tr>\n",
       "  </thead>\n",
       "  <tbody>\n",
       "    <tr>\n",
       "      <th>0</th>\n",
       "      <td>Conor</td>\n",
       "      <td>O'Connor</td>\n",
       "      <td>Kildare</td>\n",
       "      <td>21.61</td>\n",
       "      <td>MD</td>\n",
       "      <td>Premier League</td>\n",
       "      <td>19</td>\n",
       "    </tr>\n",
       "    <tr>\n",
       "      <th>2</th>\n",
       "      <td>Darragh</td>\n",
       "      <td>Kavanagh</td>\n",
       "      <td>Kilkenny</td>\n",
       "      <td>24.78</td>\n",
       "      <td>FW</td>\n",
       "      <td>Championship</td>\n",
       "      <td>1</td>\n",
       "    </tr>\n",
       "    <tr>\n",
       "      <th>8</th>\n",
       "      <td>John</td>\n",
       "      <td>McCarthy</td>\n",
       "      <td>Kildare</td>\n",
       "      <td>26.76</td>\n",
       "      <td>DF</td>\n",
       "      <td>Premier League</td>\n",
       "      <td>23</td>\n",
       "    </tr>\n",
       "    <tr>\n",
       "      <th>11</th>\n",
       "      <td>Charlie</td>\n",
       "      <td>McCarthy</td>\n",
       "      <td>Clare</td>\n",
       "      <td>17.87</td>\n",
       "      <td>FW</td>\n",
       "      <td>Premier League</td>\n",
       "      <td>6</td>\n",
       "    </tr>\n",
       "    <tr>\n",
       "      <th>12</th>\n",
       "      <td>Darragh</td>\n",
       "      <td>O'Neill</td>\n",
       "      <td>Wicklow</td>\n",
       "      <td>23.73</td>\n",
       "      <td>MD</td>\n",
       "      <td>Premier League</td>\n",
       "      <td>20</td>\n",
       "    </tr>\n",
       "  </tbody>\n",
       "</table>\n",
       "</div>"
      ],
      "text/plain": [
       "    Forname   Surname    County    Age Position          League Irish_Caps\n",
       "0     Conor  O'Connor   Kildare  21.61       MD  Premier League         19\n",
       "2   Darragh  Kavanagh  Kilkenny  24.78       FW    Championship          1\n",
       "8      John  McCarthy   Kildare  26.76       DF  Premier League         23\n",
       "11  Charlie  McCarthy     Clare  17.87       FW  Premier League          6\n",
       "12  Darragh   O'Neill   Wicklow  23.73       MD  Premier League         20"
      ]
     },
     "execution_count": 29,
     "metadata": {},
     "output_type": "execute_result"
    }
   ],
   "source": [
    "# We now deine the Irish team based on more than one cap for Ireland\n",
    "irish_players = df_rand_players[df_rand_players['Irish_Caps']>0]\n",
    "irish_players.head()"
   ]
  },
  {
   "cell_type": "markdown",
   "metadata": {},
   "source": [
    "The df_rand_players dataframe was generated using the numpy.random package and a number of its functions. This dataframe was made up of 7 columns - Name, Surname, County, Age, Position, League and Irish Caps. We can now review the dataframe to ensure it has the characteristics we assumed."
   ]
  },
  {
   "cell_type": "markdown",
   "metadata": {},
   "source": [
    "## Analysis"
   ]
  },
  {
   "cell_type": "markdown",
   "metadata": {},
   "source": [
    "We can now review the randomly generated dataset and compare it against the above criteria."
   ]
  },
  {
   "cell_type": "markdown",
   "metadata": {},
   "source": [
    "#### Forename"
   ]
  },
  {
   "cell_type": "markdown",
   "metadata": {},
   "source": [
    "The following section of code will compare the original forename percentage breakdown versus the randomly generated forenames percentage breakdown dataset. From the randomly generated range of values (212 number) the percentage breakdown is listed in the table. The Percentage_x is the original CSV file listed while the Percentage_y is the randomly generated data above using the choice function."
   ]
  },
  {
   "cell_type": "code",
   "execution_count": 30,
   "metadata": {},
   "outputs": [
    {
     "name": "stdout",
     "output_type": "stream",
     "text": [
      "         Name  Qty  Percentage_x  Percentage_y  Difference\n",
      "0        Jack  786      0.055705      0.042453       0.013\n",
      "1       James  695      0.049256      0.047170       0.002\n",
      "2      Daniel  638      0.045216      0.037736       0.007\n",
      "3       Conor  581      0.041176      0.033019       0.008\n",
      "4        Seán  526      0.037279      0.023585       0.014\n",
      "5        Adam  493      0.034940      0.042453      -0.008\n",
      "6        Luke  437      0.030971      0.023585       0.007\n",
      "7        Noah  434      0.030758      0.037736      -0.007\n",
      "8       Harry  398      0.028207      0.028302      -0.000\n",
      "9     Charlie  389      0.027569      0.028302      -0.001\n",
      "10      Dylan  384      0.027215      0.018868       0.008\n",
      "11       Alex  383      0.027144      0.037736      -0.011\n",
      "12      Oisin  381      0.027002      0.018868       0.008\n",
      "13    Michael  379      0.026860      0.014151       0.013\n",
      "14       Liam  378      0.026790      0.033019      -0.006\n",
      "15       Ryan  373      0.026435      0.028302      -0.002\n",
      "16     Thomas  362      0.025656      0.018868       0.007\n",
      "17       Cian  361      0.025585      0.033019      -0.007\n",
      "18    Patrick  358      0.025372      0.037736      -0.012\n",
      "19    Cillian  350      0.024805      0.014151       0.011\n",
      "20    Darragh  347      0.024592      0.042453      -0.018\n",
      "21      Jamie  328      0.023246      0.028302      -0.005\n",
      "22      David  306      0.021687      0.014151       0.008\n",
      "23      Aaron  303      0.021474      0.018868       0.003\n",
      "24       John  293      0.020765      0.037736      -0.017\n",
      "25      Fionn  270      0.019135      0.018868       0.000\n",
      "26       Jake  263      0.018639      0.028302      -0.010\n",
      "27    Matthew  260      0.018427      0.018868      -0.000\n",
      "28     Nathan  255      0.018072      0.014151       0.004\n",
      "29        Ben  252      0.017860      0.014151       0.004\n",
      "30      Ethan  234      0.016584      0.018868      -0.002\n",
      "31       Evan  224      0.015875      0.014151       0.002\n",
      "32       Finn  224      0.015875      0.014151       0.002\n",
      "33       Kyle  222      0.015734      0.014151       0.002\n",
      "34       Rian  215      0.015237      0.004717       0.011\n",
      "35     Callum  214      0.015167      0.014151       0.001\n",
      "36  Alexander  211      0.014954      0.033019      -0.018\n",
      "37     Joshua  203      0.014387      0.014151       0.000\n",
      "38        Max  201      0.014245      0.023585      -0.009\n",
      "39     Oliver  199      0.014103      0.014151      -0.000\n"
     ]
    }
   ],
   "source": [
    "# Define the randonly generated players forename and the percetnage breakdown\n",
    "rough_work_Forename = (df_rand_players['Forname'].value_counts(normalize=True))\n",
    "# Convert the above series into a datframe\n",
    "check_forname = pd.DataFrame({'Name':rough_work_Forename.index, 'Percentage':rough_work_Forename.values})\n",
    "# Now we merge the Original Forenames percentage and the randomly generated percentage\n",
    "firstname_compare = df_fornames.merge(check_forname, how='outer', left_on='Name', right_on='Name')\n",
    "# We now calcualte the percentage difference\n",
    "firstname_compare['Difference'] = round(firstname_compare['Percentage_x'] - firstname_compare['Percentage_y'],3)\n",
    "print(firstname_compare)"
   ]
  },
  {
   "cell_type": "markdown",
   "metadata": {},
   "source": [
    "From the above table we can gain insights into the differences in the data."
   ]
  },
  {
   "cell_type": "code",
   "execution_count": 31,
   "metadata": {},
   "outputs": [
    {
     "name": "stdout",
     "output_type": "stream",
     "text": [
      "Max difference:0.014\n",
      "Min Difference:-0.018\n",
      "Mean Difference:5e-05\n",
      "Random Total:1.0\n",
      "\n"
     ]
    }
   ],
   "source": [
    "first_average = firstname_compare['Difference'].mean()\n",
    "first_max = firstname_compare['Difference'].max()\n",
    "first_min = firstname_compare['Difference'].min()\n",
    "rand_total = firstname_compare['Percentage_y'].sum()\n",
    "print(\"Max difference:\" + str(first_max) + \"\\n\" + \"Min Difference:\" + str(first_min) + \"\\n\" + \"Mean Difference:\" + str(round(first_average,5)) + \"\\n\" + \"Random Total:\" + str(round(rand_total,5)) + \"\\n\")"
   ]
  },
  {
   "cell_type": "markdown",
   "metadata": {},
   "source": [
    "The mean difference in the percentage difference is negligible of 0.005%. The Max difference is 0.014 or 1.4% for the name Sean - the expected value 0.037279 (3.72%) while the randomly generated percentage 0.014151 (1.41%) under half the expected value. The opposite is correct for the min value Cian 0.025585 (2.55%) is expected while the random generated values are 0.042453 (4.24%)."
   ]
  },
  {
   "cell_type": "markdown",
   "metadata": {},
   "source": [
    "#### Surname"
   ]
  },
  {
   "cell_type": "markdown",
   "metadata": {},
   "source": [
    "Shown below, the expected value for all the surnames percentage breakdown is 0.05 or 5%. For the randomly generated dataset the most common surname listed is Kavanagh at 8.49% and the least common is 1.88% Byrne."
   ]
  },
  {
   "cell_type": "code",
   "execution_count": 32,
   "metadata": {},
   "outputs": [
    {
     "name": "stdout",
     "output_type": "stream",
     "text": [
      "Kavanagh      0.084906\n",
      "McDonagh      0.080189\n",
      "Brennan       0.075472\n",
      "Doyle         0.066038\n",
      "Dunne         0.066038\n",
      "O'Reilly      0.061321\n",
      "Kelly         0.061321\n",
      "Daly          0.051887\n",
      "Murphy        0.051887\n",
      "O'Connor      0.051887\n",
      "O'Neill       0.051887\n",
      "McCarthy      0.051887\n",
      "Ryan          0.047170\n",
      "Walsh         0.042453\n",
      "O'Sullivan    0.037736\n",
      "Fitzgerald    0.033019\n",
      "Lynch         0.033019\n",
      "O'Brien       0.033019\n",
      "Byrne         0.018868\n",
      "Name: Surname, dtype: float64\n"
     ]
    }
   ],
   "source": [
    "check_Surname = (df_rand_players['Surname'].value_counts(normalize=True))\n",
    "print(check_Surname)"
   ]
  },
  {
   "cell_type": "markdown",
   "metadata": {},
   "source": [
    "#### Age"
   ]
  },
  {
   "cell_type": "markdown",
   "metadata": {},
   "source": [
    "For the age variable of the player we used a triangular distribution for the random generated age. The range of ages started at 15 and finished at 33 with mean peak at 18. The below code isolates the ages of all the players randomly generated and plots them on a graph. We expect to see a triangle type shape starting at 15, finishing at 33 and weighted more heavily towards the left as the mean is 18 years. "
   ]
  },
  {
   "cell_type": "code",
   "execution_count": 33,
   "metadata": {},
   "outputs": [
    {
     "data": {
      "text/plain": [
       "<matplotlib.axes._subplots.AxesSubplot at 0x2036a7146d8>"
      ]
     },
     "execution_count": 33,
     "metadata": {},
     "output_type": "execute_result"
    },
    {
     "data": {
      "image/png": "[encoded data removed]",
      "text/plain": [
       "<Figure size 432x288 with 1 Axes>"
      ]
     },
     "metadata": {
      "needs_background": "light"
     },
     "output_type": "display_data"
    }
   ],
   "source": [
    "check_age = df_rand_players['Age']\n",
    "sns.distplot(check_age, bins=30, color=\"b\",)"
   ]
  },
  {
   "cell_type": "markdown",
   "metadata": {},
   "source": [
    "The graph plotted has the expected characteristics described in the above section. "
   ]
  },
  {
   "cell_type": "markdown",
   "metadata": {},
   "source": [
    "#### County"
   ]
  },
  {
   "cell_type": "markdown",
   "metadata": {},
   "source": [
    "As with the forename variable above, for the county we create a table of the percentage the county appears in the dataframe. Below is a table containing expected percentage breakdown and the randomly generated percentage breakdown."
   ]
  },
  {
   "cell_type": "code",
   "execution_count": 35,
   "metadata": {},
   "outputs": [
    {
     "name": "stdout",
     "output_type": "stream",
     "text": [
      "         County  Population  propibility  RandGen Percentage  Difference\n",
      "0        Dublin   1347359.0     0.204961            0.221698      -0.017\n",
      "1        Antrim    618108.0     0.094027            0.080189       0.014\n",
      "2          Cork    542868.0     0.082581            0.061321       0.021\n",
      "3          Down    531665.0     0.080877            0.080189       0.001\n",
      "4        Galway    258058.0     0.039256            0.042453      -0.003\n",
      "5   Londonderry    247132.0     0.037594            0.051887      -0.014\n",
      "6       Kildare    222504.0     0.033847            0.042453      -0.009\n",
      "7         Meath    195044.0     0.029670            0.042453      -0.013\n",
      "8      Limerick    194899.0     0.029648            0.023585       0.006\n",
      "9        Tyrone    179000.0     0.027230            0.014151       0.013\n",
      "10       Armagh    174792.0     0.026589            0.009434       0.017\n",
      "11    Tipperary    159553.0     0.024271            0.014151       0.010\n",
      "12      Donegal    159192.0     0.024216            0.037736      -0.014\n",
      "13      Wexford    149722.0     0.022776            0.033019      -0.010\n",
      "14        Kerry    147707.0     0.022469            0.033019      -0.011\n",
      "15      Wicklow    142425.0     0.021666            0.014151       0.008\n",
      "16         Mayo    130507.0     0.019853            0.028302      -0.008\n",
      "17        Louth    128884.0     0.019606            0.018868       0.001\n",
      "18        Clare    118817.0     0.018075            0.037736      -0.020\n",
      "19    Waterford    116176.0     0.017673            0.009434       0.008\n",
      "20     Kilkenny     99232.0     0.015095            0.023585      -0.008\n",
      "21    Westmeath     88770.0     0.013504            0.018868      -0.005\n",
      "22        Laois     84697.0     0.012884                 NaN         NaN\n",
      "23       Offaly     77961.0     0.011859                 NaN         NaN\n",
      "24        Cavan     76176.0     0.011588            0.028302      -0.017\n",
      "25        Sligo     65535.0     0.009969                 NaN         NaN\n",
      "26    Roscommon     64544.0     0.009818            0.009434       0.000\n",
      "27     Monaghan     61386.0     0.009338            0.004717       0.005\n",
      "28    Fermanagh     61170.0     0.009305            0.004717       0.005\n",
      "29       Carlow     56932.0     0.008661            0.004717       0.004\n",
      "30     Longford     40873.0     0.006218            0.004717       0.002\n",
      "31      Leitrim     32044.0     0.004875            0.004717       0.000\n"
     ]
    }
   ],
   "source": [
    "rough_work_County = (df_rand_players['County'].value_counts(normalize=True))\n",
    "check_County = pd.DataFrame({'County':rough_work_County.index, 'RandGen Percentage':rough_work_County.values})\n",
    "\n",
    "county_compare = df_county.merge(check_County, how='outer', left_on='County', right_on='County')\n",
    "\n",
    "county_compare['Difference'] = round(county_compare['propibility'] - county_compare['RandGen Percentage'],3)\n",
    "\n",
    "print(county_compare[['County', 'Population', 'propibility', 'RandGen Percentage', 'Difference']])"
   ]
  },
  {
   "cell_type": "code",
   "execution_count": 36,
   "metadata": {},
   "outputs": [
    {
     "name": "stdout",
     "output_type": "stream",
     "text": [
      "Max difference:0.021\n",
      "Min Difference:-0.02\n",
      "Mean Difference:-0.00117\n",
      "\n"
     ]
    }
   ],
   "source": [
    "county_average = county_compare['Difference'].mean()\n",
    "county_max = county_compare['Difference'].max()\n",
    "county_min = county_compare['Difference'].min()\n",
    "print(\"Max difference:\" + str(county_max) + \"\\n\" + \"Min Difference:\" + str(county_min) + \"\\n\" + \"Mean Difference:\" + str(round(county_average,5)) + \"\\n\")"
   ]
  },
  {
   "cell_type": "markdown",
   "metadata": {},
   "source": [
    "The maximum percentage difference is 2.1% for County Cork - the expected percentage for Cork is 8.25% while the randomly generated variables only make up 6.12%. The minimum difference is -2% for county Clare - 1.8% is expected while the randomly generated values made up 3.77% of the overall total of the 212 observations. After reviewing the above table it is also worth noting that the Counties - Laois,Offaly and Sligo are not represented in the randomly generated data frame, this may be due to the probability percentage of the original list. The counties are all listed below 2% and therefore each time the function is run there is a very slim chance it is selected as the random value."
   ]
  },
  {
   "cell_type": "markdown",
   "metadata": {},
   "source": [
    "#### Position"
   ]
  },
  {
   "cell_type": "markdown",
   "metadata": {},
   "source": [
    "We can now look at the difference between the expected percentage breakdown versus the generated breakdown. The below is the breakdown of the expected percentage breakdown."
   ]
  },
  {
   "cell_type": "code",
   "execution_count": 37,
   "metadata": {},
   "outputs": [
    {
     "name": "stdout",
     "output_type": "stream",
     "text": [
      "DF    0.391509\n",
      "MD    0.320755\n",
      "FW    0.198113\n",
      "GK    0.089623\n",
      "Name: Position, dtype: float64\n"
     ]
    }
   ],
   "source": [
    "# GK = 1/11  0.09\n",
    "# DF = 4/11  0.36\n",
    "# MD = 4/11  0.36\n",
    "# FW = 2/11  0.19\n",
    "\n",
    "rand_position = df_rand_players['Position'].value_counts(normalize=True)\n",
    "print(rand_position)"
   ]
  },
  {
   "cell_type": "markdown",
   "metadata": {},
   "source": [
    "As shown above the expected percentage breakdown differs to that of the randomly generated values. The goalkeeper results are similar 9% real versus 8.9% randomly generated - therefore in the random group of 212 8.9% are goalkeepers 19 number. The defenders and midfielders are expected to be the same 36% - the DF are 39.1% and the MD are 32%. The forwards are expected to be 19% and the random values equal 19.8%"
   ]
  },
  {
   "cell_type": "markdown",
   "metadata": {},
   "source": [
    "#### League"
   ]
  },
  {
   "cell_type": "markdown",
   "metadata": {},
   "source": [
    "As in the previous variables we will now review the Leagues in which the players play. "
   ]
  },
  {
   "cell_type": "code",
   "execution_count": 44,
   "metadata": {},
   "outputs": [
    {
     "name": "stdout",
     "output_type": "stream",
     "text": [
      "                League  Expected Percentage  RandGen Percentage  Difference\n",
      "0           League One             0.198113            0.250000      -0.052\n",
      "1           League Two             0.183962            0.160377       0.024\n",
      "2         Championship             0.169811            0.155660       0.014\n",
      "3       Premier League             0.127358            0.141509      -0.014\n",
      "4      National League             0.117925            0.136792      -0.019\n",
      "5  National League N/S             0.099057            0.089623       0.009\n",
      "6   Non League Premier             0.066038            0.047170       0.019\n",
      "7   Non League Div One             0.037736            0.018868       0.019\n"
     ]
    }
   ],
   "source": [
    "rough_rand_League = df_rand_players['League'].value_counts(normalize=True)\n",
    "\n",
    "rand_league = pd.DataFrame({'League':rough_rand_League.index, 'RandGen Percentage':rough_rand_League.values})\n",
    "expected_league = pd.DataFrame({'League':LeaguesAndProb.index, 'Expected Percentage':LeaguesAndProb.values})\n",
    "\n",
    "league_compare = expected_league.merge(rand_league, how='outer', left_on='League', right_on='League')\n",
    "league_compare['Difference'] = round(league_compare['Expected Percentage'] - league_compare['RandGen Percentage'],3)\n",
    "print(league_compare)"
   ]
  },
  {
   "cell_type": "code",
   "execution_count": 45,
   "metadata": {},
   "outputs": [
    {
     "name": "stdout",
     "output_type": "stream",
     "text": [
      "Max difference:0.024\n",
      "Min Difference:-0.052\n",
      "Mean Difference:0.0\n",
      "\n"
     ]
    }
   ],
   "source": [
    "league_average = league_compare['Difference'].mean()\n",
    "league_max = league_compare['Difference'].max()\n",
    "league_min = league_compare['Difference'].min()\n",
    "print(\"Max difference:\" + str(league_max) + \"\\n\" + \"Min Difference:\" + str(league_min) + \"\\n\" + \"Mean Difference:\" + str(round(league_average,5)) + \"\\n\")"
   ]
  },
  {
   "cell_type": "markdown",
   "metadata": {},
   "source": [
    "We can now review the leagues in which players play. The expected percentage breakdown is 19.8% of Irish players playing in England play in League One while only 12.7% play in the Premier League. The generated values have 25% of Irish players playing in League One and more players 14.1% playing in the Premier League."
   ]
  },
  {
   "cell_type": "markdown",
   "metadata": {},
   "source": [
    "#### Caps"
   ]
  },
  {
   "cell_type": "markdown",
   "metadata": {},
   "source": [
    "For the following variable, Caps, we have no expected statistics. This variables was based on assumed likelihood of a player playing for Ireland the criteria we assumed was that a player was more likely to play in the higher two leagues and age."
   ]
  },
  {
   "cell_type": "code",
   "execution_count": 39,
   "metadata": {},
   "outputs": [
    {
     "name": "stdout",
     "output_type": "stream",
     "text": [
      "       Forname     Surname     County    Age Position          League  \\\n",
      "0        Conor    O'Connor    Kildare  21.61       MD  Premier League   \n",
      "2      Darragh    Kavanagh   Kilkenny  24.78       FW    Championship   \n",
      "8         John    McCarthy    Kildare  26.76       DF  Premier League   \n",
      "11     Charlie    McCarthy      Clare  17.87       FW  Premier League   \n",
      "12     Darragh     O'Neill    Wicklow  23.73       MD  Premier League   \n",
      "14     Patrick     Brennan    Donegal  29.14       DF  Premier League   \n",
      "21        Noah    O'Connor      Cavan  19.34       FW  Premier League   \n",
      "24         Ben  O'Sullivan  Westmeath  23.10       MD  Premier League   \n",
      "31       Ethan       Dunne    Kildare  18.74       DF  Premier League   \n",
      "38      Daniel      Murphy      Kerry  26.46       DF  Premier League   \n",
      "41       Fionn       Walsh     Dublin  27.42       DF  Premier League   \n",
      "42         Ben     O'Neill     Carlow  19.48       MD  Premier League   \n",
      "69     Darragh       Lynch     Dublin  16.63       MD  Premier League   \n",
      "79       James    Kavanagh     Dublin  17.57       MD  Premier League   \n",
      "90   Alexander     Brennan       Mayo  26.69       FW    Championship   \n",
      "91       James        Ryan     Antrim  17.84       DF  Premier League   \n",
      "95        Alex    O'Reilly     Dublin  18.45       DF  Premier League   \n",
      "96       Fionn       Lynch     Dublin  18.60       FW  Premier League   \n",
      "109       Noah       Byrne   Kilkenny  26.63       DF  Premier League   \n",
      "115     Joshua     Brennan    Wexford  18.00       MD  Premier League   \n",
      "116      Fionn    Kavanagh      Louth  17.85       MD  Premier League   \n",
      "139       Kyle    McDonagh      Kerry  18.85       DF  Premier League   \n",
      "141       Jack     O'Neill     Dublin  17.35       MD  Premier League   \n",
      "149    Darragh    McDonagh      Cavan  29.68       FW    Championship   \n",
      "151       Luke       Doyle      Cavan  23.92       FW  Premier League   \n",
      "161     Nathan       Lynch     Antrim  32.71       FW  Premier League   \n",
      "170     Daniel    O'Reilly     Dublin  22.12       FW  Premier League   \n",
      "174      Fionn        Daly     Dublin  19.86       DF  Premier League   \n",
      "175    Charlie       Kelly     Dublin  18.40       DF  Premier League   \n",
      "177     Nathan      Murphy      Meath  19.42       DF  Premier League   \n",
      "183       Noah       Doyle     Dublin  25.68       GK    Championship   \n",
      "189       Adam     O'Neill     Dublin  22.03       FW  Premier League   \n",
      "202      Aaron    Kavanagh      Meath  27.00       DF  Premier League   \n",
      "205      Oisin       Dunne     Dublin  21.42       DF  Premier League   \n",
      "209       Liam       Doyle  Tipperary  22.78       MD    Championship   \n",
      "\n",
      "    Irish_Caps  \n",
      "0           19  \n",
      "2            1  \n",
      "8           23  \n",
      "11           6  \n",
      "12          20  \n",
      "14          14  \n",
      "21           4  \n",
      "24          11  \n",
      "31           2  \n",
      "38          16  \n",
      "41          12  \n",
      "42           9  \n",
      "69           7  \n",
      "79           9  \n",
      "90           1  \n",
      "91           1  \n",
      "95           7  \n",
      "96           6  \n",
      "109         15  \n",
      "115          3  \n",
      "116          3  \n",
      "139          6  \n",
      "141          9  \n",
      "149          1  \n",
      "151          5  \n",
      "161          8  \n",
      "170         21  \n",
      "174          4  \n",
      "175          7  \n",
      "177          9  \n",
      "183          1  \n",
      "189          6  \n",
      "202         12  \n",
      "205          9  \n",
      "209          1  \n"
     ]
    }
   ],
   "source": [
    "irish_capped_players = df_rand_players[df_rand_players.Irish_Caps > 0]\n",
    " \n",
    "print(irish_capped_players)"
   ]
  },
  {
   "cell_type": "code",
   "execution_count": 40,
   "metadata": {},
   "outputs": [
    {
     "name": "stdout",
     "output_type": "stream",
     "text": [
      "Average number of Caps for a player below twenty, playing in the Premier League:5.75\n",
      "Average number of Caps for a player above twenty, playing in the Premier League:14.0\n",
      "Average number of Caps for a player below twenty, playing in the Championship: nan\n",
      "Average number of Caps for a player above twenty, playing in the Championship:1.0\n"
     ]
    }
   ],
   "source": [
    "champ_plus20 = irish_capped_players[(irish_capped_players['Age'] >= 20) & ((irish_capped_players['League'] == 'Championship'))]['Irish_Caps'].mean()\n",
    "champ_sub20 = irish_capped_players[(irish_capped_players['Age'] < 20) & ((irish_capped_players['League'] == 'Championship'))]['Irish_Caps'].mean()\n",
    "\n",
    "prem_sub20 = irish_capped_players[(irish_capped_players['Age'] < 20) & ((irish_capped_players['League'] == 'Premier League'))]['Irish_Caps'].mean()\n",
    "prem_plus20 = irish_capped_players[(irish_capped_players['Age'] >= 20) & ((irish_capped_players['League'] == 'Premier League'))]['Irish_Caps'].mean()\n",
    "print(\"Average number of Caps for a player below twenty, playing in the Premier League:\" + str(round(prem_sub20,2)))\n",
    "print(\"Average number of Caps for a player above twenty, playing in the Premier League:\" + str(round(prem_plus20)))\n",
    "print(\"Average number of Caps for a player below twenty, playing in the Championship: \" + str(champ_sub20))\n",
    "print(\"Average number of Caps for a player above twenty, playing in the Championship:\" + str(round(champ_plus20)))"
   ]
  },
  {
   "cell_type": "markdown",
   "metadata": {},
   "source": [
    "# Conclusion"
   ]
  },
  {
   "cell_type": "markdown",
   "metadata": {},
   "source": [
    "In conclusion, as part of this project we randomly generated a dataframe using the **numpy.random** functions. We mostly used the **choice** function to generate variables and list them in a dataset. The dataset is made up of \n",
    "+ **Name** - the forty most common boys names in Ireland in 2014\n",
    "+ **Surname** - which was the 20 most common Surnames in Ireland in 2019 \n",
    "+ **Age** - of the player which is age range of 15-33 with a mean of 18 \n",
    "+ **County** - the county of origin of the player based on the population of Ireland \n",
    "+ **Position** - the likelihood of the playing position of the player\n",
    "+ **League** - the league in which the player plays\n",
    "+ **Irish Caps** - the number of caps the player has received\n",
    "\n",
    "The second section was to compare the two datasets - the expected versus the randomly generated dataframe. It is clear from the analysis that numpy.random functions have given a fair and relatively accurate reflection of the expected dataset. The functions were all called randomly and without any influence from the overall dataset. The main means of comparison is to determine the percentage breakdown of the dataset for each instances of a variable. One area to note is that there must be a percentage difference between expected and the randomly generated values, as each time is random and non-reliant on the overall dataset.\n",
    "\n",
    "Finally this assignment has given me a good insight into the numpy.random packages and its capabilities. The project has also given me a good basis of how to manipulate dataframes and analyse them."
   ]
  },
  {
   "cell_type": "code",
   "execution_count": null,
   "metadata": {},
   "outputs": [],
   "source": []
  }
 ],
 "metadata": {
  "kernelspec": {
   "display_name": "Python 3",
   "language": "python",
   "name": "python3"
  },
  "language_info": {
   "codemirror_mode": {
    "name": "ipython",
    "version": 3
   },
   "file_extension": ".py",
   "mimetype": "text/x-python",
   "name": "python",
   "nbconvert_exporter": "python",
   "pygments_lexer": "ipython3",
   "version": "3.7.1"
  }
 },
 "nbformat": 4,
 "nbformat_minor": 4
}
