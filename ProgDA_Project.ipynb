{
 "cells": [
  {
   "cell_type": "markdown",
   "metadata": {},
   "source": [
    "# Programming for Data Analysis"
   ]
  },
  {
   "cell_type": "markdown",
   "metadata": {},
   "source": [
    "## Project 2019"
   ]
  },
  {
   "cell_type": "markdown",
   "metadata": {},
   "source": [
    "https://www.cso.ie/en/releasesandpublications/ep/p-1916/1916irl/people/names/"
   ]
  },
  {
   "cell_type": "markdown",
   "metadata": {},
   "source": [
    "https://www.independent.ie/irish-news/revealed-top-20-irish-surnames-31414892.html"
   ]
  },
  {
   "cell_type": "markdown",
   "metadata": {},
   "source": [
    "https://ie.soccerway.com/players/players_abroad/ireland-republic/"
   ]
  },
  {
   "cell_type": "markdown",
   "metadata": {},
   "source": [
    "https://en.wikipedia.org/wiki/List_of_Irish_counties_by_population"
   ]
  },
  {
   "cell_type": "code",
   "execution_count": 61,
   "metadata": {},
   "outputs": [],
   "source": [
    "import pandas as pd\n",
    "import numpy as np\n",
    "import matplotlib.pyplot as plt\n",
    "import seaborn as sns\n",
    "sns.set(style=\"darkgrid\")"
   ]
  },
  {
   "cell_type": "code",
   "execution_count": 62,
   "metadata": {},
   "outputs": [],
   "source": [
    "df_fornames = pd.read_csv(\"data/fornames.csv\")"
   ]
  },
  {
   "cell_type": "code",
   "execution_count": 63,
   "metadata": {},
   "outputs": [],
   "source": [
    "df_surenames = pd.read_csv(\"data/surname.csv\")"
   ]
  },
  {
   "cell_type": "code",
   "execution_count": 64,
   "metadata": {},
   "outputs": [],
   "source": [
    "df_leagues = pd.read_csv(\"data/leagues.csv\")"
   ]
  },
  {
   "cell_type": "code",
   "execution_count": 65,
   "metadata": {},
   "outputs": [],
   "source": [
    "df_county = pd.read_csv(\"data/population_per_county.csv\")"
   ]
  },
  {
   "cell_type": "markdown",
   "metadata": {},
   "source": [
    "Name, Surname, Age, County, Position, League"
   ]
  },
  {
   "cell_type": "markdown",
   "metadata": {},
   "source": [
    "## Name"
   ]
  },
  {
   "cell_type": "code",
   "execution_count": 66,
   "metadata": {},
   "outputs": [
    {
     "data": {
      "text/html": [
       "<div>\n",
       "<style scoped>\n",
       "    .dataframe tbody tr th:only-of-type {\n",
       "        vertical-align: middle;\n",
       "    }\n",
       "\n",
       "    .dataframe tbody tr th {\n",
       "        vertical-align: top;\n",
       "    }\n",
       "\n",
       "    .dataframe thead th {\n",
       "        text-align: right;\n",
       "    }\n",
       "</style>\n",
       "<table border=\"1\" class=\"dataframe\">\n",
       "  <thead>\n",
       "    <tr style=\"text-align: right;\">\n",
       "      <th></th>\n",
       "      <th>Name</th>\n",
       "      <th>Qty</th>\n",
       "      <th>Percentage</th>\n",
       "    </tr>\n",
       "  </thead>\n",
       "  <tbody>\n",
       "    <tr>\n",
       "      <th>0</th>\n",
       "      <td>Jack</td>\n",
       "      <td>786</td>\n",
       "      <td>0.055705</td>\n",
       "    </tr>\n",
       "    <tr>\n",
       "      <th>1</th>\n",
       "      <td>James</td>\n",
       "      <td>695</td>\n",
       "      <td>0.049256</td>\n",
       "    </tr>\n",
       "    <tr>\n",
       "      <th>2</th>\n",
       "      <td>Daniel</td>\n",
       "      <td>638</td>\n",
       "      <td>0.045216</td>\n",
       "    </tr>\n",
       "    <tr>\n",
       "      <th>3</th>\n",
       "      <td>Conor</td>\n",
       "      <td>581</td>\n",
       "      <td>0.041176</td>\n",
       "    </tr>\n",
       "    <tr>\n",
       "      <th>4</th>\n",
       "      <td>Seán</td>\n",
       "      <td>526</td>\n",
       "      <td>0.037279</td>\n",
       "    </tr>\n",
       "  </tbody>\n",
       "</table>\n",
       "</div>"
      ],
      "text/plain": [
       "     Name  Qty  Percentage\n",
       "0    Jack  786    0.055705\n",
       "1   James  695    0.049256\n",
       "2  Daniel  638    0.045216\n",
       "3   Conor  581    0.041176\n",
       "4    Seán  526    0.037279"
      ]
     },
     "execution_count": 66,
     "metadata": {},
     "output_type": "execute_result"
    }
   ],
   "source": [
    "df_fornames.head()"
   ]
  },
  {
   "cell_type": "code",
   "execution_count": 84,
   "metadata": {},
   "outputs": [
    {
     "name": "stdout",
     "output_type": "stream",
     "text": [
      "['Kyle']\n"
     ]
    },
    {
     "data": {
      "text/plain": [
       "numpy.ndarray"
      ]
     },
     "execution_count": 84,
     "metadata": {},
     "output_type": "execute_result"
    }
   ],
   "source": [
    "forname_array = df_fornames[\"Name\"].tolist()\n",
    "forname_percent = df_fornames[\"Percentage\"].tolist()\n",
    "#print(forname_array)\n",
    "#print(forname_percent)\n",
    "\n",
    "\n",
    "forname = np.random.choice(forname_array, 1, p=forname_percent)\n",
    "F_name = str(forname)\n",
    "\n",
    "print(F_name)\n",
    "type(forname)"
   ]
  },
  {
   "cell_type": "markdown",
   "metadata": {},
   "source": [
    "## Surname"
   ]
  },
  {
   "cell_type": "code",
   "execution_count": 78,
   "metadata": {},
   "outputs": [
    {
     "data": {
      "text/html": [
       "<div>\n",
       "<style scoped>\n",
       "    .dataframe tbody tr th:only-of-type {\n",
       "        vertical-align: middle;\n",
       "    }\n",
       "\n",
       "    .dataframe tbody tr th {\n",
       "        vertical-align: top;\n",
       "    }\n",
       "\n",
       "    .dataframe thead th {\n",
       "        text-align: right;\n",
       "    }\n",
       "</style>\n",
       "<table border=\"1\" class=\"dataframe\">\n",
       "  <thead>\n",
       "    <tr style=\"text-align: right;\">\n",
       "      <th></th>\n",
       "      <th>Surname</th>\n",
       "    </tr>\n",
       "  </thead>\n",
       "  <tbody>\n",
       "    <tr>\n",
       "      <th>0</th>\n",
       "      <td>Murphy</td>\n",
       "    </tr>\n",
       "    <tr>\n",
       "      <th>1</th>\n",
       "      <td>Kelly</td>\n",
       "    </tr>\n",
       "    <tr>\n",
       "      <th>2</th>\n",
       "      <td>Byrne</td>\n",
       "    </tr>\n",
       "    <tr>\n",
       "      <th>3</th>\n",
       "      <td>Ryan</td>\n",
       "    </tr>\n",
       "    <tr>\n",
       "      <th>4</th>\n",
       "      <td>O'Brien</td>\n",
       "    </tr>\n",
       "  </tbody>\n",
       "</table>\n",
       "</div>"
      ],
      "text/plain": [
       "    Surname\n",
       "0    Murphy\n",
       "1     Kelly\n",
       "2     Byrne\n",
       "3      Ryan\n",
       "4   O'Brien"
      ]
     },
     "execution_count": 78,
     "metadata": {},
     "output_type": "execute_result"
    }
   ],
   "source": [
    "df_surenames.head()"
   ]
  },
  {
   "cell_type": "code",
   "execution_count": 69,
   "metadata": {},
   "outputs": [
    {
     "name": "stdout",
     "output_type": "stream",
     "text": [
      "0          Murphy\n",
      "1           Kelly\n",
      "2           Byrne\n",
      "3            Ryan\n",
      "4         O'Brien\n",
      "5           Walsh\n",
      "6      O'Sullivan\n",
      "7        O'Connor\n",
      "8           Doyle\n",
      "9        McCarthy\n",
      "10        O'Neill\n",
      "11          Lynch\n",
      "12       O'Reilly\n",
      "13          Dunne\n",
      "14       McDonagh\n",
      "15        Brennan\n",
      "16     Fitzgerald\n",
      "17           Daly\n",
      "18       Kavanagh\n",
      "19          Nolan\n",
      "Name: Surname, dtype: object\n"
     ]
    }
   ],
   "source": [
    "surname = df_surenames[\"Surname\"]\n",
    "print(surname)"
   ]
  },
  {
   "cell_type": "code",
   "execution_count": 81,
   "metadata": {},
   "outputs": [
    {
     "data": {
      "text/plain": [
       "str"
      ]
     },
     "execution_count": 81,
     "metadata": {},
     "output_type": "execute_result"
    }
   ],
   "source": [
    "S_name = surname[int(np.random.choice(19,1))]\n",
    "type(S_name)"
   ]
  },
  {
   "cell_type": "markdown",
   "metadata": {},
   "source": [
    "## Age"
   ]
  },
  {
   "cell_type": "code",
   "execution_count": 116,
   "metadata": {},
   "outputs": [],
   "source": [
    "s = np.random.triangular(16, 18, 33, 100)"
   ]
  },
  {
   "cell_type": "code",
   "execution_count": 117,
   "metadata": {},
   "outputs": [
    {
     "name": "stdout",
     "output_type": "stream",
     "text": [
      "[22.31122139 23.57586063 19.1513891  19.67046645 22.45041092 22.33524763\n",
      " 26.48688007 19.19267799 24.30281127 30.39395775 17.23082823 21.39308454\n",
      " 19.06965915 18.50417553 22.44680787 24.67653816 20.58065954 19.67765943\n",
      " 22.02996573 30.28592312 22.79482363 17.26351586 22.78100951 29.25551354\n",
      " 25.99835568 25.64197561 23.98853486 24.24821506 31.2989933  25.36295786\n",
      " 18.25870047 29.10354498 16.63001336 31.59928285 27.16379234 17.61780729\n",
      " 26.84653528 24.32838697 27.80909778 22.02401639 27.32180602 22.94171495\n",
      " 25.08378462 17.18516118 26.0033107  16.99915002 27.00773814 19.12342133\n",
      " 18.65017197 17.87593465 26.90624561 16.76911701 24.99622164 23.76733408\n",
      " 24.93579636 17.82768461 25.52127615 25.86116981 24.70933733 23.72533504\n",
      " 25.7028618  27.48966241 19.34917697 17.82759808 24.5485704  27.30959731\n",
      " 21.81404425 24.96735626 21.01659662 28.43684953 21.50154716 21.11061492\n",
      " 20.54775343 26.17762933 23.08352351 19.20648205 19.51249336 24.33202846\n",
      " 22.04800048 17.80063242 24.34930379 19.05725115 28.44789875 23.85126602\n",
      " 21.37874679 22.85489434 20.42380621 19.98575259 28.45639562 26.18233005\n",
      " 27.58674817 28.5121756  21.61925856 17.9412509  19.51790556 30.62525269\n",
      " 18.03064107 20.33503901 24.14311625 21.52722385]\n"
     ]
    }
   ],
   "source": [
    "print(s)"
   ]
  },
  {
   "cell_type": "markdown",
   "metadata": {},
   "source": [
    "## County"
   ]
  },
  {
   "cell_type": "code",
   "execution_count": 71,
   "metadata": {},
   "outputs": [
    {
     "name": "stdout",
     "output_type": "stream",
     "text": [
      "<class 'pandas.core.frame.DataFrame'>\n",
      "RangeIndex: 32 entries, 0 to 31\n",
      "Data columns (total 3 columns):\n",
      "County        32 non-null object\n",
      "Population    32 non-null float64\n",
      "Province      32 non-null object\n",
      "dtypes: float64(1), object(2)\n",
      "memory usage: 848.0+ bytes\n"
     ]
    }
   ],
   "source": [
    "df_county.info()"
   ]
  },
  {
   "cell_type": "code",
   "execution_count": 92,
   "metadata": {},
   "outputs": [
    {
     "data": {
      "text/html": [
       "<div>\n",
       "<style scoped>\n",
       "    .dataframe tbody tr th:only-of-type {\n",
       "        vertical-align: middle;\n",
       "    }\n",
       "\n",
       "    .dataframe tbody tr th {\n",
       "        vertical-align: top;\n",
       "    }\n",
       "\n",
       "    .dataframe thead th {\n",
       "        text-align: right;\n",
       "    }\n",
       "</style>\n",
       "<table border=\"1\" class=\"dataframe\">\n",
       "  <thead>\n",
       "    <tr style=\"text-align: right;\">\n",
       "      <th></th>\n",
       "      <th>County</th>\n",
       "      <th>Population</th>\n",
       "      <th>Province</th>\n",
       "    </tr>\n",
       "  </thead>\n",
       "  <tbody>\n",
       "    <tr>\n",
       "      <th>0</th>\n",
       "      <td>Dublin</td>\n",
       "      <td>1347359.0</td>\n",
       "      <td>Leinster</td>\n",
       "    </tr>\n",
       "    <tr>\n",
       "      <th>1</th>\n",
       "      <td>Antrim</td>\n",
       "      <td>618108.0</td>\n",
       "      <td>Ulster</td>\n",
       "    </tr>\n",
       "    <tr>\n",
       "      <th>2</th>\n",
       "      <td>Cork</td>\n",
       "      <td>542868.0</td>\n",
       "      <td>Munster</td>\n",
       "    </tr>\n",
       "    <tr>\n",
       "      <th>3</th>\n",
       "      <td>Down</td>\n",
       "      <td>531665.0</td>\n",
       "      <td>Ulster</td>\n",
       "    </tr>\n",
       "    <tr>\n",
       "      <th>4</th>\n",
       "      <td>Galway</td>\n",
       "      <td>258058.0</td>\n",
       "      <td>Connacht</td>\n",
       "    </tr>\n",
       "  </tbody>\n",
       "</table>\n",
       "</div>"
      ],
      "text/plain": [
       "   County  Population  Province\n",
       "0  Dublin   1347359.0  Leinster\n",
       "1  Antrim    618108.0    Ulster\n",
       "2    Cork    542868.0   Munster\n",
       "3    Down    531665.0    Ulster\n",
       "4  Galway    258058.0  Connacht"
      ]
     },
     "execution_count": 92,
     "metadata": {},
     "output_type": "execute_result"
    }
   ],
   "source": [
    "df_county.head()"
   ]
  },
  {
   "cell_type": "code",
   "execution_count": 99,
   "metadata": {},
   "outputs": [
    {
     "name": "stdout",
     "output_type": "stream",
     "text": [
      "6573732.0\n"
     ]
    }
   ],
   "source": [
    "#print(\"League - Percentage Breakdown of the 244 entries\")\n",
    "#print(df_county.groupby(['County'])['Percentage']\n",
    "pop = df_county['Population'].sum()\n",
    "print(pop)\n",
    "df_county['propibility'] = df_county['Population'] / pop"
   ]
  },
  {
   "cell_type": "code",
   "execution_count": 100,
   "metadata": {},
   "outputs": [
    {
     "data": {
      "text/html": [
       "<div>\n",
       "<style scoped>\n",
       "    .dataframe tbody tr th:only-of-type {\n",
       "        vertical-align: middle;\n",
       "    }\n",
       "\n",
       "    .dataframe tbody tr th {\n",
       "        vertical-align: top;\n",
       "    }\n",
       "\n",
       "    .dataframe thead th {\n",
       "        text-align: right;\n",
       "    }\n",
       "</style>\n",
       "<table border=\"1\" class=\"dataframe\">\n",
       "  <thead>\n",
       "    <tr style=\"text-align: right;\">\n",
       "      <th></th>\n",
       "      <th>County</th>\n",
       "      <th>Population</th>\n",
       "      <th>Province</th>\n",
       "      <th>propibility</th>\n",
       "    </tr>\n",
       "  </thead>\n",
       "  <tbody>\n",
       "    <tr>\n",
       "      <th>0</th>\n",
       "      <td>Dublin</td>\n",
       "      <td>1347359.0</td>\n",
       "      <td>Leinster</td>\n",
       "      <td>0.204961</td>\n",
       "    </tr>\n",
       "    <tr>\n",
       "      <th>1</th>\n",
       "      <td>Antrim</td>\n",
       "      <td>618108.0</td>\n",
       "      <td>Ulster</td>\n",
       "      <td>0.094027</td>\n",
       "    </tr>\n",
       "    <tr>\n",
       "      <th>2</th>\n",
       "      <td>Cork</td>\n",
       "      <td>542868.0</td>\n",
       "      <td>Munster</td>\n",
       "      <td>0.082581</td>\n",
       "    </tr>\n",
       "    <tr>\n",
       "      <th>3</th>\n",
       "      <td>Down</td>\n",
       "      <td>531665.0</td>\n",
       "      <td>Ulster</td>\n",
       "      <td>0.080877</td>\n",
       "    </tr>\n",
       "    <tr>\n",
       "      <th>4</th>\n",
       "      <td>Galway</td>\n",
       "      <td>258058.0</td>\n",
       "      <td>Connacht</td>\n",
       "      <td>0.039256</td>\n",
       "    </tr>\n",
       "  </tbody>\n",
       "</table>\n",
       "</div>"
      ],
      "text/plain": [
       "   County  Population  Province  propibility\n",
       "0  Dublin   1347359.0  Leinster     0.204961\n",
       "1  Antrim    618108.0    Ulster     0.094027\n",
       "2    Cork    542868.0   Munster     0.082581\n",
       "3    Down    531665.0    Ulster     0.080877\n",
       "4  Galway    258058.0  Connacht     0.039256"
      ]
     },
     "execution_count": 100,
     "metadata": {},
     "output_type": "execute_result"
    }
   ],
   "source": [
    "df_county.head()"
   ]
  },
  {
   "cell_type": "code",
   "execution_count": 101,
   "metadata": {},
   "outputs": [
    {
     "name": "stdout",
     "output_type": "stream",
     "text": [
      "['Limerick']\n"
     ]
    },
    {
     "data": {
      "text/plain": [
       "numpy.ndarray"
      ]
     },
     "execution_count": 101,
     "metadata": {},
     "output_type": "execute_result"
    }
   ],
   "source": [
    "county_array = df_county[\"County\"].tolist()\n",
    "county_percent = df_county[\"propibility\"].tolist()\n",
    "#print(forname_array)\n",
    "#print(forname_percent)\n",
    "\n",
    "\n",
    "county1 = np.random.choice(county_array, 1, p=county_percent)\n",
    "county = str(county1)\n",
    "\n",
    "print(county)\n",
    "type(forname)"
   ]
  },
  {
   "cell_type": "markdown",
   "metadata": {},
   "source": [
    "## Position"
   ]
  },
  {
   "cell_type": "code",
   "execution_count": 131,
   "metadata": {},
   "outputs": [
    {
     "name": "stdout",
     "output_type": "stream",
     "text": [
      "FW\n"
     ]
    }
   ],
   "source": [
    "# GK DF MD FW\n",
    "# GK = 1/11  0.09\n",
    "# DF = 4/11  0.36\n",
    "# MD = 4/11  0.36\n",
    "# FW = 2/11  0.19\n",
    "\n",
    "#aa_milne_arr = ['pooh', 'rabbit', 'piglet', 'Christopher']\n",
    "#np.random.choice(aa_milne_arr, 5, p=[0.5, 0.1, 0.1, 0.3])\n",
    "\n",
    "position = ['GK', 'DF', 'MD', 'FW']\n",
    "pos = np.random.choice(position, 1, p=[0.09, 0.36, 0.36, 0.19])\n",
    "print(pos[0])"
   ]
  },
  {
   "cell_type": "markdown",
   "metadata": {},
   "source": [
    "## League"
   ]
  },
  {
   "cell_type": "code",
   "execution_count": 74,
   "metadata": {},
   "outputs": [
    {
     "data": {
      "text/html": [
       "<div>\n",
       "<style scoped>\n",
       "    .dataframe tbody tr th:only-of-type {\n",
       "        vertical-align: middle;\n",
       "    }\n",
       "\n",
       "    .dataframe tbody tr th {\n",
       "        vertical-align: top;\n",
       "    }\n",
       "\n",
       "    .dataframe thead th {\n",
       "        text-align: right;\n",
       "    }\n",
       "</style>\n",
       "<table border=\"1\" class=\"dataframe\">\n",
       "  <thead>\n",
       "    <tr style=\"text-align: right;\">\n",
       "      <th></th>\n",
       "      <th>Player</th>\n",
       "      <th>League</th>\n",
       "      <th>Club</th>\n",
       "    </tr>\n",
       "  </thead>\n",
       "  <tbody>\n",
       "    <tr>\n",
       "      <th>0</th>\n",
       "      <td>K. Long</td>\n",
       "      <td>Premier League</td>\n",
       "      <td>Burnley</td>\n",
       "    </tr>\n",
       "    <tr>\n",
       "      <th>1</th>\n",
       "      <td>C. Kelleher</td>\n",
       "      <td>Premier League</td>\n",
       "      <td>Liverpool</td>\n",
       "    </tr>\n",
       "    <tr>\n",
       "      <th>2</th>\n",
       "      <td>L. Richards</td>\n",
       "      <td>Premier League</td>\n",
       "      <td>Wolverhampton Wanderers</td>\n",
       "    </tr>\n",
       "    <tr>\n",
       "      <th>3</th>\n",
       "      <td>G. Kilkenny</td>\n",
       "      <td>Premier League</td>\n",
       "      <td>AFC Bournemouth</td>\n",
       "    </tr>\n",
       "    <tr>\n",
       "      <th>4</th>\n",
       "      <td>S. Coleman</td>\n",
       "      <td>Premier League</td>\n",
       "      <td>Everton</td>\n",
       "    </tr>\n",
       "  </tbody>\n",
       "</table>\n",
       "</div>"
      ],
      "text/plain": [
       "        Player          League                     Club\n",
       "0      K. Long  Premier League                  Burnley\n",
       "1  C. Kelleher  Premier League                Liverpool\n",
       "2  L. Richards  Premier League  Wolverhampton Wanderers\n",
       "3  G. Kilkenny  Premier League          AFC Bournemouth\n",
       "4   S. Coleman  Premier League                  Everton"
      ]
     },
     "execution_count": 74,
     "metadata": {},
     "output_type": "execute_result"
    }
   ],
   "source": [
    "df_leagues.head()"
   ]
  },
  {
   "cell_type": "code",
   "execution_count": null,
   "metadata": {},
   "outputs": [],
   "source": [
    "#print(\"League - Percentage Breakdown of the 244 entries\")\n",
    "#print(df_leagues['League'].value_counts(normalize=True) * 100)\n",
    "\n"
   ]
  },
  {
   "cell_type": "markdown",
   "metadata": {},
   "source": [
    "## Final Data Point"
   ]
  },
  {
   "cell_type": "code",
   "execution_count": 133,
   "metadata": {},
   "outputs": [
    {
     "name": "stdout",
     "output_type": "stream",
     "text": [
      "Michael, McCarthy,Antrim,18.73,MD,\n",
      "Matthew, McCarthy,Dublin,16.97,MD,\n",
      "Luke, Doyle,Galway,28.23,DF,\n",
      "Charlie, Kelly,Down,20.98,DF,\n",
      "Alexander, O'Sullivan,Dublin,20.92,MD,\n",
      "Luke, Walsh,Dublin,24.84,MD,\n",
      "Seán, O'Brien,Dublin,20.87,MD,\n",
      "Harry, Byrne,Down,20.96,FW,\n",
      "Alexander, Kavanagh,Dublin,27.46,DF,\n",
      "Conor, Dunne,Galway,22.25,MD,\n",
      "Patrick, O'Sullivan,Londonderry,17.78,MD,\n",
      "Liam, O'Connor,Dublin,18.19,DF,\n",
      "Conor, Doyle,Antrim,22.21,DF,\n",
      "Luke, O'Reilly,Antrim,24.18,MD,\n",
      "David, O'Brien,Cork,20.32,MD,\n",
      "Noah, McCarthy,Down,18.24,FW,\n",
      "Oisin, Byrne,Antrim,21.84,DF,\n",
      "Noah, Daly,Dublin,18.03,MD,\n",
      "Noah, O'Neill,Roscommon,19.16,MD,\n",
      "Jamie, O'Reilly,Roscommon,17.97,MD,\n",
      "Oisin, Walsh,Cork,24.11,MD,\n",
      "Harry, Doyle,Londonderry,17.75,DF,\n",
      "Cian, Brennan,Dublin,25.08,DF,\n",
      "Jack, Byrne,Galway,20.64,DF,\n",
      "Finn, O'Brien,Galway,18.26,FW,\n",
      "James, O'Sullivan,Down,18.39,FW,\n",
      "Cillian, Lynch,Dublin,23.02,DF,\n",
      "Luke, Byrne,Laois,19.06,MD,\n",
      "Fionn, Kelly,Antrim,22.07,GK,\n",
      "Adam, O'Brien,Galway,23.82,GK,\n",
      "Jack, Brennan,Antrim,26.93,MD,\n",
      "Adam, O'Sullivan,Down,24.5,FW,\n",
      "Noah, Kelly,Limerick,16.86,DF,\n",
      "Charlie, Byrne,Armagh,26.22,GK,\n",
      "Fionn, Doyle,Dublin,18.08,DF,\n",
      "Luke, O'Sullivan,Londonderry,22.02,MD,\n",
      "Fionn, O'Brien,Kildare,20.36,FW,\n",
      "Daniel, Lynch,Londonderry,24.42,GK,\n",
      "Seán, Ryan,Wexford,27.59,FW,\n",
      "Michael, Fitzgerald,Dublin,22.68,MD,\n",
      "Alexander, O'Brien,Dublin,21.6,MD,\n",
      "Cian, Ryan,Tyrone,22.82,GK,\n",
      "Ben, Dunne,Down,17.49,DF,\n",
      "Seán, O'Reilly,Dublin,21.44,GK,\n",
      "Jack, Dunne,Dublin,21.25,MD,\n",
      "Conor, Dunne,Dublin,27.77,FW,\n",
      "Adam, Ryan,Dublin,19.39,MD,\n",
      "Jack, Walsh,Fermanagh,21.61,MD,\n",
      "Oisin, Dunne,Donegal,21.95,DF,\n",
      "Alex, O'Brien,Cork,18.21,MD,\n",
      "Darragh, Ryan,Monaghan,31.04,MD,\n",
      "Dylan, Kelly,Antrim,24.76,DF,\n",
      "Jake, Doyle,Dublin,18.92,MD,\n",
      "James, Daly,Kildare,17.07,MD,\n",
      "Thomas, Byrne,Fermanagh,17.57,FW,\n",
      "Dylan, Byrne,Wicklow,23.83,MD,\n",
      "Seán, Fitzgerald,Antrim,26.64,MD,\n",
      "Thomas, Kavanagh,Cork,21.01,MD,\n",
      "Oisin, Fitzgerald,Dublin,19.93,DF,\n",
      "David, Byrne,Dublin,21.65,FW,\n",
      "Thomas, O'Connor,Kildare,28.7,MD,\n",
      "Finn, Brennan,Armagh,18.43,DF,\n",
      "Conor, Kavanagh,Meath,19.06,MD,\n",
      "Thomas, Lynch,Dublin,19.05,DF,\n",
      "Joshua, Kavanagh,Kildare,22.76,MD,\n",
      "Oliver, Brennan,Tipperary,23.79,MD,\n",
      "Rian, O'Sullivan,Down,23.85,MD,\n",
      "Dylan, Fitzgerald,Dublin,26.05,FW,\n",
      "Luke, Lynch,Westmeath,18.41,FW,\n",
      "Thomas, Byrne,Louth,16.97,FW,\n",
      "Ryan, Walsh,Down,25.96,FW,\n",
      "Thomas, Byrne,Londonderry,20.58,DF,\n",
      "Ben, Murphy,Dublin,25.69,MD,\n",
      "Jack, O'Reilly,Antrim,23.19,MD,\n",
      "Cillian, Lynch,Down,27.59,DF,\n",
      "Evan, Lynch,Dublin,18.12,MD,\n",
      "Seán, Brennan,Wexford,20.68,DF,\n",
      "Daniel, O'Connor,Armagh,27.83,MD,\n",
      "John, McCarthy,Sligo,26.12,FW,\n",
      "Harry, Dunne,Donegal,24.36,FW,\n",
      "Charlie, O'Connor,Cork,26.92,GK,\n",
      "Luke, Fitzgerald,Wexford,20.54,MD,\n",
      "Michael, Brennan,Louth,17.27,MD,\n",
      "Michael, Walsh,Dublin,18.23,FW,\n",
      "Luke, Daly,Dublin,32.38,MD,\n",
      "James, Kelly,Cavan,22.29,MD,\n",
      "Ethan, Murphy,Dublin,23.18,GK,\n",
      "Harry, Doyle,Kerry,31.87,MD,\n",
      "Ryan, Kelly,Kildare,21.65,FW,\n",
      "Cillian, Dunne,Laois,19.27,MD,\n",
      "Noah, Brennan,Kildare,22.13,DF,\n",
      "Liam, Kavanagh,Tyrone,18.36,DF,\n",
      "Daniel, McDonagh,Westmeath,16.74,GK,\n",
      "Cillian, O'Sullivan,Antrim,18.44,GK,\n",
      "Aaron, Doyle,Down,19.19,MD,\n",
      "Jamie, Fitzgerald,Limerick,30.34,DF,\n",
      "Evan, O'Sullivan,Meath,20.86,DF,\n",
      "Oliver, Fitzgerald,Kildare,16.58,MD,\n",
      "Ethan, Daly,Down,18.65,MD,\n",
      "Noah, Lynch,Donegal,18.56,DF,\n"
     ]
    }
   ],
   "source": [
    "for i in range(100):\n",
    "    name = np.random.choice(forname_array, 1, p=forname_percent)\n",
    "    county = np.random.choice(county_array, 1, p=county_percent)\n",
    "    age = np.random.triangular(16, 18, 33, 1)\n",
    "    pos = np.random.choice(position, 1, p=[0.09, 0.36, 0.36, 0.19])\n",
    "    print(str(name[0]) + \",\" + str(surname[int(np.random.choice(19,1))]) + \",\" + county[0] + \",\" + str(round(age[0],2)) + \",\" + str(pos[0]) + \",\" +)"
   ]
  },
  {
   "cell_type": "code",
   "execution_count": null,
   "metadata": {},
   "outputs": [],
   "source": []
  }
 ],
 "metadata": {
  "kernelspec": {
   "display_name": "Python 3",
   "language": "python",
   "name": "python3"
  },
  "language_info": {
   "codemirror_mode": {
    "name": "ipython",
    "version": 3
   },
   "file_extension": ".py",
   "mimetype": "text/x-python",
   "name": "python",
   "nbconvert_exporter": "python",
   "pygments_lexer": "ipython3",
   "version": "3.7.1"
  }
 },
 "nbformat": 4,
 "nbformat_minor": 4
}
