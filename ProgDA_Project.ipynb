{
 "cells": [
  {
   "cell_type": "markdown",
   "metadata": {},
   "source": [
    "# Programming for Data Analysis"
   ]
  },
  {
   "cell_type": "markdown",
   "metadata": {},
   "source": [
    "## Project 2019"
   ]
  },
  {
   "cell_type": "markdown",
   "metadata": {},
   "source": [
    "The following project consists of generating a dataset using numpy.random package, with the following steps.\n",
    "\n",
    "* Choose a real-world phenomenon that can be measured and for which you could collect at least one-hundred data points across at least four diﬀerent variables\n",
    "\n",
    "* Investigate the types of variables involved, their likely distributions, and their relationships with each other.\n",
    "\n",
    "* Synthesise/simulate a data set as closely matching their properties as possible\n",
    "\n",
    "* Detail your research and implement the simulation in a Jupyter notebook – the data set itself can simply be displayed in an output cell within the notebook.\n",
    "\n",
    "I have an interest in Irish players playing in the English Soccer leagues, therfore I have chosen to base my data set around this phenomenon. Variables including Name, Surname, Age, County of Ireland, Playing Position and League in wich they play. I have used a number of sources for my data and these will be listed in each variable section. "
   ]
  },
  {
   "cell_type": "code",
   "execution_count": 78,
   "metadata": {},
   "outputs": [],
   "source": [
    "# To begin with we add in all the packages we intend to use\n",
    "import pandas as pd\n",
    "import numpy as np\n",
    "import matplotlib.pyplot as plt\n",
    "import seaborn as sns\n",
    "sns.set(style=\"darkgrid\")"
   ]
  },
  {
   "cell_type": "markdown",
   "metadata": {},
   "source": [
    "As part of this project a number of external soucres of data are required and these datasets are stored in a subfolder within this repositiory. "
   ]
  },
  {
   "cell_type": "markdown",
   "metadata": {},
   "source": [
    "### Name"
   ]
  },
  {
   "cell_type": "markdown",
   "metadata": {},
   "source": [
    "The first variable chosen was the first name of the player. This variable was taken from the CSO website \"the Top baby boys names 2014\". Althoughthe source of the data may not be the most current the satisitcal calculations to follow hold though. The data was stored in a CSV file and stored in the data folder under the name formanes"
   ]
  },
  {
   "cell_type": "code",
   "execution_count": 79,
   "metadata": {},
   "outputs": [],
   "source": [
    "df_fornames = pd.read_csv(\"data/fornames.csv\")"
   ]
  },
  {
   "cell_type": "code",
   "execution_count": 80,
   "metadata": {},
   "outputs": [
    {
     "data": {
      "text/html": [
       "<div>\n",
       "<style scoped>\n",
       "    .dataframe tbody tr th:only-of-type {\n",
       "        vertical-align: middle;\n",
       "    }\n",
       "\n",
       "    .dataframe tbody tr th {\n",
       "        vertical-align: top;\n",
       "    }\n",
       "\n",
       "    .dataframe thead th {\n",
       "        text-align: right;\n",
       "    }\n",
       "</style>\n",
       "<table border=\"1\" class=\"dataframe\">\n",
       "  <thead>\n",
       "    <tr style=\"text-align: right;\">\n",
       "      <th></th>\n",
       "      <th>Name</th>\n",
       "      <th>Qty</th>\n",
       "      <th>Percentage</th>\n",
       "    </tr>\n",
       "  </thead>\n",
       "  <tbody>\n",
       "    <tr>\n",
       "      <th>0</th>\n",
       "      <td>Jack</td>\n",
       "      <td>786</td>\n",
       "      <td>0.055705</td>\n",
       "    </tr>\n",
       "    <tr>\n",
       "      <th>1</th>\n",
       "      <td>James</td>\n",
       "      <td>695</td>\n",
       "      <td>0.049256</td>\n",
       "    </tr>\n",
       "    <tr>\n",
       "      <th>2</th>\n",
       "      <td>Daniel</td>\n",
       "      <td>638</td>\n",
       "      <td>0.045216</td>\n",
       "    </tr>\n",
       "    <tr>\n",
       "      <th>3</th>\n",
       "      <td>Conor</td>\n",
       "      <td>581</td>\n",
       "      <td>0.041176</td>\n",
       "    </tr>\n",
       "    <tr>\n",
       "      <th>4</th>\n",
       "      <td>Seán</td>\n",
       "      <td>526</td>\n",
       "      <td>0.037279</td>\n",
       "    </tr>\n",
       "  </tbody>\n",
       "</table>\n",
       "</div>"
      ],
      "text/plain": [
       "     Name  Qty  Percentage\n",
       "0    Jack  786    0.055705\n",
       "1   James  695    0.049256\n",
       "2  Daniel  638    0.045216\n",
       "3   Conor  581    0.041176\n",
       "4    Seán  526    0.037279"
      ]
     },
     "execution_count": 80,
     "metadata": {},
     "output_type": "execute_result"
    }
   ],
   "source": [
    "df_fornames.head()"
   ]
  },
  {
   "cell_type": "markdown",
   "metadata": {},
   "source": [
    "The dataset has 3 number columns - Name, Qty and Percentage. This information can be used to randomly generate a boys name using the probility and the variable name. For this we used the \n",
    "\n",
    "**numpy.random.choice(a, size=None, replace=True, p=None)**"
   ]
  },
  {
   "cell_type": "code",
   "execution_count": 81,
   "metadata": {},
   "outputs": [
    {
     "name": "stdout",
     "output_type": "stream",
     "text": [
      "['Ethan']\n"
     ]
    }
   ],
   "source": [
    "#First from the df_fornames we define the name array\n",
    "forname_array = df_fornames[\"Name\"].tolist()\n",
    "# We then define the pobility of these names arrising\n",
    "forname_percent = df_fornames[\"Percentage\"].tolist()\n",
    "\n",
    "forname = np.random.choice(forname_array, 1, p=forname_percent)\n",
    "print(forname)"
   ]
  },
  {
   "cell_type": "markdown",
   "metadata": {},
   "source": [
    "https://www.cso.ie/en/releasesandpublications/ep/p-1916/1916irl/people/names/"
   ]
  },
  {
   "cell_type": "markdown",
   "metadata": {},
   "source": [
    "### Surname"
   ]
  },
  {
   "cell_type": "markdown",
   "metadata": {},
   "source": [
    "Simialrly to above, the surname follows the same sequence as the forname. The independat.ie reveiled the top 20 Irish surnames in December 2019. We then assumed these to be the surename variables. This data was also stored as a CSV file and stored in data folder."
   ]
  },
  {
   "cell_type": "code",
   "execution_count": 82,
   "metadata": {},
   "outputs": [],
   "source": [
    "df_surenames = pd.read_csv(\"data/surname.csv\")"
   ]
  },
  {
   "cell_type": "code",
   "execution_count": 83,
   "metadata": {},
   "outputs": [
    {
     "data": {
      "text/html": [
       "<div>\n",
       "<style scoped>\n",
       "    .dataframe tbody tr th:only-of-type {\n",
       "        vertical-align: middle;\n",
       "    }\n",
       "\n",
       "    .dataframe tbody tr th {\n",
       "        vertical-align: top;\n",
       "    }\n",
       "\n",
       "    .dataframe thead th {\n",
       "        text-align: right;\n",
       "    }\n",
       "</style>\n",
       "<table border=\"1\" class=\"dataframe\">\n",
       "  <thead>\n",
       "    <tr style=\"text-align: right;\">\n",
       "      <th></th>\n",
       "      <th>Surname</th>\n",
       "    </tr>\n",
       "  </thead>\n",
       "  <tbody>\n",
       "    <tr>\n",
       "      <th>0</th>\n",
       "      <td>Murphy</td>\n",
       "    </tr>\n",
       "    <tr>\n",
       "      <th>1</th>\n",
       "      <td>Kelly</td>\n",
       "    </tr>\n",
       "    <tr>\n",
       "      <th>2</th>\n",
       "      <td>Byrne</td>\n",
       "    </tr>\n",
       "    <tr>\n",
       "      <th>3</th>\n",
       "      <td>Ryan</td>\n",
       "    </tr>\n",
       "    <tr>\n",
       "      <th>4</th>\n",
       "      <td>O'Brien</td>\n",
       "    </tr>\n",
       "  </tbody>\n",
       "</table>\n",
       "</div>"
      ],
      "text/plain": [
       "   Surname\n",
       "0   Murphy\n",
       "1    Kelly\n",
       "2    Byrne\n",
       "3     Ryan\n",
       "4  O'Brien"
      ]
     },
     "execution_count": 83,
     "metadata": {},
     "output_type": "execute_result"
    }
   ],
   "source": [
    "df_surenames.head()"
   ]
  },
  {
   "cell_type": "markdown",
   "metadata": {},
   "source": [
    "For this variable we have no quanitiy or percentage breakdown - therefore we give them all equal likelyhood of accurance 1/20."
   ]
  },
  {
   "cell_type": "code",
   "execution_count": 84,
   "metadata": {},
   "outputs": [
    {
     "name": "stdout",
     "output_type": "stream",
     "text": [
      "Walsh\n"
     ]
    }
   ],
   "source": [
    "surname = df_surenames[\"Surname\"]\n",
    "S_name = surname[int(np.random.choice(19,1))]\n",
    "print(S_name)"
   ]
  },
  {
   "cell_type": "markdown",
   "metadata": {},
   "source": [
    "https://www.independent.ie/irish-news/revealed-top-20-irish-surnames-31414892.html"
   ]
  },
  {
   "cell_type": "markdown",
   "metadata": {},
   "source": [
    "### Age"
   ]
  },
  {
   "cell_type": "markdown",
   "metadata": {},
   "source": [
    "The age variable was taken as another asumption ages 15 through to 33 with a triangle distribution. We have assumed youngsters start to head to England at the age of 15 and it peaks at 18 and gradualy tapers down to the age of 33, where we assumed the carrer of a professional footballer ends. The thought process behind this is that at a young ages players are scouted by teams and then given short-term contracts and then over time with injurys and not been given contract extensions the probibility decreases with age. This assumed distribution takes the form of:\n",
    "\n",
    "**numpy.random.triangular(left, mode, right, size=None)**"
   ]
  },
  {
   "cell_type": "code",
   "execution_count": 85,
   "metadata": {},
   "outputs": [],
   "source": [
    "# the left most age is 15, mode/average is 18 and the right is 33\n",
    "age = np.random.triangular(15, 18, 33, 1)"
   ]
  },
  {
   "cell_type": "code",
   "execution_count": 86,
   "metadata": {},
   "outputs": [
    {
     "name": "stdout",
     "output_type": "stream",
     "text": [
      "[18.71867045]\n"
     ]
    }
   ],
   "source": [
    "print(age)"
   ]
  },
  {
   "cell_type": "markdown",
   "metadata": {},
   "source": [
    "### County"
   ]
  },
  {
   "cell_type": "markdown",
   "metadata": {},
   "source": [
    "As before for the county of origin of each of the players we decided to base this on the probibilty/likelhood of coming from each county from population. Wikepdia has taken data from the CSO census of 2016 for the entire island of Ireland. This data was taken and stored in a CSV file in the data folder. The CSV file contains 3 number columns County, Population and Province. We can use the population data to determine the likelyhood of the county of origin of each of the players. Further calculations are required."
   ]
  },
  {
   "cell_type": "code",
   "execution_count": 87,
   "metadata": {},
   "outputs": [],
   "source": [
    "df_county = pd.read_csv(\"data/population_per_county.csv\")"
   ]
  },
  {
   "cell_type": "code",
   "execution_count": 88,
   "metadata": {},
   "outputs": [
    {
     "name": "stdout",
     "output_type": "stream",
     "text": [
      "<class 'pandas.core.frame.DataFrame'>\n",
      "RangeIndex: 32 entries, 0 to 31\n",
      "Data columns (total 3 columns):\n",
      "County        32 non-null object\n",
      "Population    32 non-null float64\n",
      "Province      32 non-null object\n",
      "dtypes: float64(1), object(2)\n",
      "memory usage: 848.0+ bytes\n"
     ]
    }
   ],
   "source": [
    "df_county.info()"
   ]
  },
  {
   "cell_type": "code",
   "execution_count": 89,
   "metadata": {},
   "outputs": [
    {
     "data": {
      "text/html": [
       "<div>\n",
       "<style scoped>\n",
       "    .dataframe tbody tr th:only-of-type {\n",
       "        vertical-align: middle;\n",
       "    }\n",
       "\n",
       "    .dataframe tbody tr th {\n",
       "        vertical-align: top;\n",
       "    }\n",
       "\n",
       "    .dataframe thead th {\n",
       "        text-align: right;\n",
       "    }\n",
       "</style>\n",
       "<table border=\"1\" class=\"dataframe\">\n",
       "  <thead>\n",
       "    <tr style=\"text-align: right;\">\n",
       "      <th></th>\n",
       "      <th>County</th>\n",
       "      <th>Population</th>\n",
       "      <th>Province</th>\n",
       "    </tr>\n",
       "  </thead>\n",
       "  <tbody>\n",
       "    <tr>\n",
       "      <th>0</th>\n",
       "      <td>Dublin</td>\n",
       "      <td>1347359.0</td>\n",
       "      <td>Leinster</td>\n",
       "    </tr>\n",
       "    <tr>\n",
       "      <th>1</th>\n",
       "      <td>Antrim</td>\n",
       "      <td>618108.0</td>\n",
       "      <td>Ulster</td>\n",
       "    </tr>\n",
       "    <tr>\n",
       "      <th>2</th>\n",
       "      <td>Cork</td>\n",
       "      <td>542868.0</td>\n",
       "      <td>Munster</td>\n",
       "    </tr>\n",
       "    <tr>\n",
       "      <th>3</th>\n",
       "      <td>Down</td>\n",
       "      <td>531665.0</td>\n",
       "      <td>Ulster</td>\n",
       "    </tr>\n",
       "    <tr>\n",
       "      <th>4</th>\n",
       "      <td>Galway</td>\n",
       "      <td>258058.0</td>\n",
       "      <td>Connacht</td>\n",
       "    </tr>\n",
       "  </tbody>\n",
       "</table>\n",
       "</div>"
      ],
      "text/plain": [
       "   County  Population  Province\n",
       "0  Dublin   1347359.0  Leinster\n",
       "1  Antrim    618108.0    Ulster\n",
       "2    Cork    542868.0   Munster\n",
       "3    Down    531665.0    Ulster\n",
       "4  Galway    258058.0  Connacht"
      ]
     },
     "execution_count": 89,
     "metadata": {},
     "output_type": "execute_result"
    }
   ],
   "source": [
    "df_county.head()"
   ]
  },
  {
   "cell_type": "markdown",
   "metadata": {},
   "source": [
    "In order to determine the probibility breakdown per county we need to total the population column. Totaled below - 6,573,732 people. We can then determine the percentage probibility breakdown per county."
   ]
  },
  {
   "cell_type": "code",
   "execution_count": 90,
   "metadata": {},
   "outputs": [
    {
     "name": "stdout",
     "output_type": "stream",
     "text": [
      "6573732.0\n"
     ]
    }
   ],
   "source": [
    "#print(\"League - Percentage Breakdown of the 244 entries\")\n",
    "#print(df_county.groupby(['County'])['Percentage']\n",
    "pop = df_county['Population'].sum()\n",
    "print(pop)\n",
    "df_county['propibility'] = df_county['Population'] / pop"
   ]
  },
  {
   "cell_type": "code",
   "execution_count": 91,
   "metadata": {},
   "outputs": [
    {
     "data": {
      "text/html": [
       "<div>\n",
       "<style scoped>\n",
       "    .dataframe tbody tr th:only-of-type {\n",
       "        vertical-align: middle;\n",
       "    }\n",
       "\n",
       "    .dataframe tbody tr th {\n",
       "        vertical-align: top;\n",
       "    }\n",
       "\n",
       "    .dataframe thead th {\n",
       "        text-align: right;\n",
       "    }\n",
       "</style>\n",
       "<table border=\"1\" class=\"dataframe\">\n",
       "  <thead>\n",
       "    <tr style=\"text-align: right;\">\n",
       "      <th></th>\n",
       "      <th>County</th>\n",
       "      <th>Population</th>\n",
       "      <th>Province</th>\n",
       "      <th>propibility</th>\n",
       "    </tr>\n",
       "  </thead>\n",
       "  <tbody>\n",
       "    <tr>\n",
       "      <th>0</th>\n",
       "      <td>Dublin</td>\n",
       "      <td>1347359.0</td>\n",
       "      <td>Leinster</td>\n",
       "      <td>0.204961</td>\n",
       "    </tr>\n",
       "    <tr>\n",
       "      <th>1</th>\n",
       "      <td>Antrim</td>\n",
       "      <td>618108.0</td>\n",
       "      <td>Ulster</td>\n",
       "      <td>0.094027</td>\n",
       "    </tr>\n",
       "    <tr>\n",
       "      <th>2</th>\n",
       "      <td>Cork</td>\n",
       "      <td>542868.0</td>\n",
       "      <td>Munster</td>\n",
       "      <td>0.082581</td>\n",
       "    </tr>\n",
       "    <tr>\n",
       "      <th>3</th>\n",
       "      <td>Down</td>\n",
       "      <td>531665.0</td>\n",
       "      <td>Ulster</td>\n",
       "      <td>0.080877</td>\n",
       "    </tr>\n",
       "    <tr>\n",
       "      <th>4</th>\n",
       "      <td>Galway</td>\n",
       "      <td>258058.0</td>\n",
       "      <td>Connacht</td>\n",
       "      <td>0.039256</td>\n",
       "    </tr>\n",
       "  </tbody>\n",
       "</table>\n",
       "</div>"
      ],
      "text/plain": [
       "   County  Population  Province  propibility\n",
       "0  Dublin   1347359.0  Leinster     0.204961\n",
       "1  Antrim    618108.0    Ulster     0.094027\n",
       "2    Cork    542868.0   Munster     0.082581\n",
       "3    Down    531665.0    Ulster     0.080877\n",
       "4  Galway    258058.0  Connacht     0.039256"
      ]
     },
     "execution_count": 91,
     "metadata": {},
     "output_type": "execute_result"
    }
   ],
   "source": [
    "df_county.head()"
   ]
  },
  {
   "cell_type": "markdown",
   "metadata": {},
   "source": [
    "As previous variables we use the choice function to randomly choose a county for the player to come from."
   ]
  },
  {
   "cell_type": "code",
   "execution_count": 92,
   "metadata": {},
   "outputs": [
    {
     "name": "stdout",
     "output_type": "stream",
     "text": [
      "['Dublin']\n"
     ]
    }
   ],
   "source": [
    "county_array = df_county[\"County\"].tolist()\n",
    "county_percent = df_county[\"propibility\"].tolist()\n",
    "#print(forname_array)\n",
    "#print(forname_percent)\n",
    "\n",
    "\n",
    "county1 = np.random.choice(county_array, 1, p=county_percent)\n",
    "county = str(county1)\n",
    "\n",
    "print(county)"
   ]
  },
  {
   "cell_type": "markdown",
   "metadata": {},
   "source": [
    "https://en.wikipedia.org/wiki/List_of_Irish_counties_by_population"
   ]
  },
  {
   "cell_type": "markdown",
   "metadata": {},
   "source": [
    "### Position"
   ]
  },
  {
   "cell_type": "markdown",
   "metadata": {},
   "source": [
    "The position of the player is a slightly more straight forward calculation. Here we look a basic team formation of 1 Goalkepper (GK), 4 Defenders (DF), 4 Midfielders (MD) and 2 Forwards (FW). From this we can calculate the probibility of each psositon accuring. As an example the goalkeeper will accure 1 in ever 11 players on the pitch. For the position variable we randomly select a position for the player using the numpy.random.choice function as the previous variables.  "
   ]
  },
  {
   "cell_type": "code",
   "execution_count": 93,
   "metadata": {},
   "outputs": [
    {
     "name": "stdout",
     "output_type": "stream",
     "text": [
      "['FW']\n"
     ]
    }
   ],
   "source": [
    "# GK = 1/11  0.09\n",
    "# DF = 4/11  0.36\n",
    "# MD = 4/11  0.36\n",
    "# FW = 2/11  0.19\n",
    "\n",
    "position = ['GK', 'DF', 'MD', 'FW']\n",
    "pos_prob = [0.09, 0.36, 0.36, 0.19]\n",
    "\n",
    "pos = np.random.choice(position, 1, p=pos_prob)\n",
    "print(pos)"
   ]
  },
  {
   "cell_type": "markdown",
   "metadata": {},
   "source": [
    "### League"
   ]
  },
  {
   "cell_type": "markdown",
   "metadata": {},
   "source": [
    "We can now determine which league the player plays in angain using the choice function in numpy.random. Soccerway.com has a full database of all players playing in any league in the world. This database can be filtered to determine all the Irish players playing in each league. This information is then stored in a CSV file named leagues in the data folder. This CSV gives a full list of all the current players the league and club they play for."
   ]
  },
  {
   "cell_type": "code",
   "execution_count": 94,
   "metadata": {},
   "outputs": [],
   "source": [
    "df_leagues = pd.read_csv(\"data/leagues.csv\")"
   ]
  },
  {
   "cell_type": "code",
   "execution_count": 95,
   "metadata": {},
   "outputs": [
    {
     "data": {
      "text/html": [
       "<div>\n",
       "<style scoped>\n",
       "    .dataframe tbody tr th:only-of-type {\n",
       "        vertical-align: middle;\n",
       "    }\n",
       "\n",
       "    .dataframe tbody tr th {\n",
       "        vertical-align: top;\n",
       "    }\n",
       "\n",
       "    .dataframe thead th {\n",
       "        text-align: right;\n",
       "    }\n",
       "</style>\n",
       "<table border=\"1\" class=\"dataframe\">\n",
       "  <thead>\n",
       "    <tr style=\"text-align: right;\">\n",
       "      <th></th>\n",
       "      <th>Player</th>\n",
       "      <th>League</th>\n",
       "      <th>Club</th>\n",
       "    </tr>\n",
       "  </thead>\n",
       "  <tbody>\n",
       "    <tr>\n",
       "      <th>0</th>\n",
       "      <td>K. Long</td>\n",
       "      <td>Premier League</td>\n",
       "      <td>Burnley</td>\n",
       "    </tr>\n",
       "    <tr>\n",
       "      <th>1</th>\n",
       "      <td>C. Kelleher</td>\n",
       "      <td>Premier League</td>\n",
       "      <td>Liverpool</td>\n",
       "    </tr>\n",
       "    <tr>\n",
       "      <th>2</th>\n",
       "      <td>L. Richards</td>\n",
       "      <td>Premier League</td>\n",
       "      <td>Wolverhampton Wanderers</td>\n",
       "    </tr>\n",
       "    <tr>\n",
       "      <th>3</th>\n",
       "      <td>G. Kilkenny</td>\n",
       "      <td>Premier League</td>\n",
       "      <td>AFC Bournemouth</td>\n",
       "    </tr>\n",
       "    <tr>\n",
       "      <th>4</th>\n",
       "      <td>S. Coleman</td>\n",
       "      <td>Premier League</td>\n",
       "      <td>Everton</td>\n",
       "    </tr>\n",
       "  </tbody>\n",
       "</table>\n",
       "</div>"
      ],
      "text/plain": [
       "        Player          League                     Club\n",
       "0      K. Long  Premier League                  Burnley\n",
       "1  C. Kelleher  Premier League                Liverpool\n",
       "2  L. Richards  Premier League  Wolverhampton Wanderers\n",
       "3  G. Kilkenny  Premier League          AFC Bournemouth\n",
       "4   S. Coleman  Premier League                  Everton"
      ]
     },
     "execution_count": 95,
     "metadata": {},
     "output_type": "execute_result"
    }
   ],
   "source": [
    "df_leagues.head()"
   ]
  },
  {
   "cell_type": "code",
   "execution_count": 96,
   "metadata": {},
   "outputs": [
    {
     "data": {
      "text/plain": [
       "Player    212\n",
       "League    212\n",
       "Club      212\n",
       "dtype: int64"
      ]
     },
     "execution_count": 96,
     "metadata": {},
     "output_type": "execute_result"
    }
   ],
   "source": [
    "# Number of players in the list!\n",
    "df_leagues.count()"
   ]
  },
  {
   "cell_type": "code",
   "execution_count": 97,
   "metadata": {},
   "outputs": [
    {
     "data": {
      "text/plain": [
       "array(['Premier League', 'Championship', 'League One', 'League Two',\n",
       "       'National League', 'National League N/S', 'Non League Premier',\n",
       "       'Non League Div One'], dtype=object)"
      ]
     },
     "execution_count": 97,
     "metadata": {},
     "output_type": "execute_result"
    }
   ],
   "source": [
    "df_leagues.League.unique()"
   ]
  },
  {
   "cell_type": "markdown",
   "metadata": {},
   "source": [
    "The next step is to determine the probility and name of the league the players are listed in. This column in the CSV file is labeled \"League\"."
   ]
  },
  {
   "cell_type": "code",
   "execution_count": 98,
   "metadata": {},
   "outputs": [
    {
     "name": "stdout",
     "output_type": "stream",
     "text": [
      "League One             0.198113\n",
      "League Two             0.183962\n",
      "Championship           0.169811\n",
      "Premier League         0.127358\n",
      "National League        0.117925\n",
      "National League N/S    0.099057\n",
      "Non League Premier     0.066038\n",
      "Non League Div One     0.037736\n",
      "Name: League, dtype: float64\n",
      "\n",
      " \n",
      "The randomly generated league selected is: \n",
      "['National League']\n"
     ]
    }
   ],
   "source": [
    "# Define a sub-table \"LeaguesAndProb\" - Leagues and probility\n",
    "LeaguesAndProb= df_leagues['League'].value_counts(normalize=True)\n",
    "league_prob = LeaguesAndProb.values\n",
    "league_name = LeaguesAndProb.index\n",
    "\n",
    "league = np.random.choice(league_name, 1, p=league_prob)\n",
    "print(LeaguesAndProb)\n",
    "print(\"\\n \\nThe randomly generated league selected is: \")\n",
    "print(league)"
   ]
  },
  {
   "cell_type": "markdown",
   "metadata": {},
   "source": [
    "https://ie.soccerway.com/players/players_abroad/ireland-republic/"
   ]
  },
  {
   "cell_type": "markdown",
   "metadata": {},
   "source": [
    "### Final Data Point"
   ]
  },
  {
   "cell_type": "markdown",
   "metadata": {},
   "source": [
    "We can now create a new data frame using all the above varibales and the numpy.random functions."
   ]
  },
  {
   "cell_type": "code",
   "execution_count": 99,
   "metadata": {},
   "outputs": [],
   "source": [
    "# Define the dataframe and incude all the column names\n",
    "df_rand_players = pd.DataFrame(columns=['Forname','Surname','County','Age','Position','League'])"
   ]
  },
  {
   "cell_type": "code",
   "execution_count": 100,
   "metadata": {},
   "outputs": [],
   "source": [
    "# Include all the additonal CSV files that do not carry over from the above code.\n",
    "surname = df_surenames[\"Surname\"]\n",
    "\n",
    "# We can now loop trough a qunatity of players to generate in this case we can select 1000\n",
    "\n",
    "for i in range(212):\n",
    "    \n",
    "    # Firstly we declare all the varibales and \n",
    "    name = np.random.choice(forname_array, 1, p=forname_percent)\n",
    "    player_surname = surname[int(np.random.choice(19,1))]\n",
    "    county = np.random.choice(county_array, 1, p=county_percent)\n",
    "    age = np.random.triangular(16, 18, 33, 1)\n",
    "    pos = np.random.choice(position, 1, p=[0.09, 0.36, 0.36, 0.19])\n",
    "    league = np.random.choice(league_name, 1, p=league_prob)\n",
    "    \n",
    "    # We can now append all the players into the datafrome, one after the next populating all the columns.\n",
    "    \n",
    "    df_rand_players = df_rand_players.append({'Forname': name[0],\n",
    "                                           'Surname': player_surname,\n",
    "                                           'County': county[0],\n",
    "                                           'Age': round(age[0],2),\n",
    "                                           'Position': pos[0],\n",
    "                                           'League': league[0]}, ignore_index=True)"
   ]
  },
  {
   "cell_type": "code",
   "execution_count": 101,
   "metadata": {},
   "outputs": [
    {
     "data": {
      "text/html": [
       "<div>\n",
       "<style scoped>\n",
       "    .dataframe tbody tr th:only-of-type {\n",
       "        vertical-align: middle;\n",
       "    }\n",
       "\n",
       "    .dataframe tbody tr th {\n",
       "        vertical-align: top;\n",
       "    }\n",
       "\n",
       "    .dataframe thead th {\n",
       "        text-align: right;\n",
       "    }\n",
       "</style>\n",
       "<table border=\"1\" class=\"dataframe\">\n",
       "  <thead>\n",
       "    <tr style=\"text-align: right;\">\n",
       "      <th></th>\n",
       "      <th>Forname</th>\n",
       "      <th>Surname</th>\n",
       "      <th>County</th>\n",
       "      <th>Age</th>\n",
       "      <th>Position</th>\n",
       "      <th>League</th>\n",
       "    </tr>\n",
       "  </thead>\n",
       "  <tbody>\n",
       "    <tr>\n",
       "      <th>0</th>\n",
       "      <td>Kyle</td>\n",
       "      <td>Kelly</td>\n",
       "      <td>Waterford</td>\n",
       "      <td>18.31</td>\n",
       "      <td>DF</td>\n",
       "      <td>National League</td>\n",
       "    </tr>\n",
       "    <tr>\n",
       "      <th>1</th>\n",
       "      <td>Cillian</td>\n",
       "      <td>Murphy</td>\n",
       "      <td>Cork</td>\n",
       "      <td>24.61</td>\n",
       "      <td>MD</td>\n",
       "      <td>League One</td>\n",
       "    </tr>\n",
       "    <tr>\n",
       "      <th>2</th>\n",
       "      <td>Conor</td>\n",
       "      <td>Murphy</td>\n",
       "      <td>Dublin</td>\n",
       "      <td>28.30</td>\n",
       "      <td>MD</td>\n",
       "      <td>League One</td>\n",
       "    </tr>\n",
       "    <tr>\n",
       "      <th>3</th>\n",
       "      <td>Jack</td>\n",
       "      <td>Brennan</td>\n",
       "      <td>Monaghan</td>\n",
       "      <td>20.00</td>\n",
       "      <td>DF</td>\n",
       "      <td>National League</td>\n",
       "    </tr>\n",
       "    <tr>\n",
       "      <th>4</th>\n",
       "      <td>Thomas</td>\n",
       "      <td>O'Connor</td>\n",
       "      <td>Wicklow</td>\n",
       "      <td>29.70</td>\n",
       "      <td>DF</td>\n",
       "      <td>League One</td>\n",
       "    </tr>\n",
       "  </tbody>\n",
       "</table>\n",
       "</div>"
      ],
      "text/plain": [
       "   Forname   Surname     County    Age Position           League\n",
       "0     Kyle     Kelly  Waterford  18.31       DF  National League\n",
       "1  Cillian    Murphy       Cork  24.61       MD       League One\n",
       "2    Conor    Murphy     Dublin  28.30       MD       League One\n",
       "3     Jack   Brennan   Monaghan  20.00       DF  National League\n",
       "4   Thomas  O'Connor    Wicklow  29.70       DF       League One"
      ]
     },
     "execution_count": 101,
     "metadata": {},
     "output_type": "execute_result"
    }
   ],
   "source": [
    "df_rand_players.head()"
   ]
  },
  {
   "cell_type": "code",
   "execution_count": 102,
   "metadata": {},
   "outputs": [],
   "source": [
    "#df_rand_players.drop(df_rand_players.index, inplace=True)\n",
    "#df_rand_players.drop(['Irish_Caps'], axis=1)"
   ]
  },
  {
   "cell_type": "markdown",
   "metadata": {},
   "source": [
    "We can now introduce an additonal column based on other columns in the dataframe. In this project we will look at the number of Irish caps a player has recieved. This is based on the leaugue in which they play along with their age. If a player plays in the Premier league and is above a certain age they are more likely to have played for the Irish National Team as the leagues decrese and their age, so to does the likelyhood of involvment. The following snippet of code will add randon number of caps per player based on age and league."
   ]
  },
  {
   "cell_type": "code",
   "execution_count": 122,
   "metadata": {},
   "outputs": [],
   "source": [
    "if \"Irish_Caps\" not in df_rand_players:\n",
    "    df_rand_players[\"Irish_Caps\"] = \"\"\n",
    "\n",
    "for index, row in df_rand_players.iterrows():\n",
    "    age = row['Age']\n",
    "    league = row['League']\n",
    "    cap = float()\n",
    "    if age < 20 and league=='Premier League':\n",
    "        cap = float(np.random.randint(1, 10, 1))\n",
    "    elif age >= 20 and league=='Premier League':\n",
    "        cap = float(np.random.randint(1, 25, 1))\n",
    "    elif age >= 28 and league=='Premier League':\n",
    "        cap = float(np.random.randint(1, 40, 1))\n",
    "    elif age >= 20 and league=='Championship':\n",
    "        cap = float(np.random.randint(0, 2, 1))\n",
    "    elif age >= 20 and league=='Championship':\n",
    "        cap = float(np.random.randint(0, 5, 1))\n",
    "    df_rand_players.at[index, 'Irish_Caps'] = cap\n"
   ]
  },
  {
   "cell_type": "code",
   "execution_count": 123,
   "metadata": {},
   "outputs": [
    {
     "data": {
      "text/html": [
       "<div>\n",
       "<style scoped>\n",
       "    .dataframe tbody tr th:only-of-type {\n",
       "        vertical-align: middle;\n",
       "    }\n",
       "\n",
       "    .dataframe tbody tr th {\n",
       "        vertical-align: top;\n",
       "    }\n",
       "\n",
       "    .dataframe thead th {\n",
       "        text-align: right;\n",
       "    }\n",
       "</style>\n",
       "<table border=\"1\" class=\"dataframe\">\n",
       "  <thead>\n",
       "    <tr style=\"text-align: right;\">\n",
       "      <th></th>\n",
       "      <th>Forname</th>\n",
       "      <th>Surname</th>\n",
       "      <th>County</th>\n",
       "      <th>Age</th>\n",
       "      <th>Position</th>\n",
       "      <th>League</th>\n",
       "      <th>Irish_Caps</th>\n",
       "    </tr>\n",
       "  </thead>\n",
       "  <tbody>\n",
       "    <tr>\n",
       "      <th>0</th>\n",
       "      <td>Kyle</td>\n",
       "      <td>Kelly</td>\n",
       "      <td>Waterford</td>\n",
       "      <td>18.31</td>\n",
       "      <td>DF</td>\n",
       "      <td>National League</td>\n",
       "      <td>0</td>\n",
       "    </tr>\n",
       "    <tr>\n",
       "      <th>1</th>\n",
       "      <td>Cillian</td>\n",
       "      <td>Murphy</td>\n",
       "      <td>Cork</td>\n",
       "      <td>24.61</td>\n",
       "      <td>MD</td>\n",
       "      <td>League One</td>\n",
       "      <td>0</td>\n",
       "    </tr>\n",
       "    <tr>\n",
       "      <th>2</th>\n",
       "      <td>Conor</td>\n",
       "      <td>Murphy</td>\n",
       "      <td>Dublin</td>\n",
       "      <td>28.30</td>\n",
       "      <td>MD</td>\n",
       "      <td>League One</td>\n",
       "      <td>0</td>\n",
       "    </tr>\n",
       "    <tr>\n",
       "      <th>3</th>\n",
       "      <td>Jack</td>\n",
       "      <td>Brennan</td>\n",
       "      <td>Monaghan</td>\n",
       "      <td>20.00</td>\n",
       "      <td>DF</td>\n",
       "      <td>National League</td>\n",
       "      <td>0</td>\n",
       "    </tr>\n",
       "    <tr>\n",
       "      <th>4</th>\n",
       "      <td>Thomas</td>\n",
       "      <td>O'Connor</td>\n",
       "      <td>Wicklow</td>\n",
       "      <td>29.70</td>\n",
       "      <td>DF</td>\n",
       "      <td>League One</td>\n",
       "      <td>0</td>\n",
       "    </tr>\n",
       "  </tbody>\n",
       "</table>\n",
       "</div>"
      ],
      "text/plain": [
       "   Forname   Surname     County    Age Position           League Irish_Caps\n",
       "0     Kyle     Kelly  Waterford  18.31       DF  National League          0\n",
       "1  Cillian    Murphy       Cork  24.61       MD       League One          0\n",
       "2    Conor    Murphy     Dublin  28.30       MD       League One          0\n",
       "3     Jack   Brennan   Monaghan  20.00       DF  National League          0\n",
       "4   Thomas  O'Connor    Wicklow  29.70       DF       League One          0"
      ]
     },
     "execution_count": 123,
     "metadata": {},
     "output_type": "execute_result"
    }
   ],
   "source": [
    "df_rand_players.head()"
   ]
  },
  {
   "cell_type": "code",
   "execution_count": 124,
   "metadata": {},
   "outputs": [
    {
     "data": {
      "text/html": [
       "<div>\n",
       "<style scoped>\n",
       "    .dataframe tbody tr th:only-of-type {\n",
       "        vertical-align: middle;\n",
       "    }\n",
       "\n",
       "    .dataframe tbody tr th {\n",
       "        vertical-align: top;\n",
       "    }\n",
       "\n",
       "    .dataframe thead th {\n",
       "        text-align: right;\n",
       "    }\n",
       "</style>\n",
       "<table border=\"1\" class=\"dataframe\">\n",
       "  <thead>\n",
       "    <tr style=\"text-align: right;\">\n",
       "      <th></th>\n",
       "      <th>Forname</th>\n",
       "      <th>Surname</th>\n",
       "      <th>County</th>\n",
       "      <th>Age</th>\n",
       "      <th>Position</th>\n",
       "      <th>League</th>\n",
       "      <th>Irish_Caps</th>\n",
       "    </tr>\n",
       "  </thead>\n",
       "  <tbody>\n",
       "    <tr>\n",
       "      <th>6</th>\n",
       "      <td>Ben</td>\n",
       "      <td>McDonagh</td>\n",
       "      <td>Dublin</td>\n",
       "      <td>30.71</td>\n",
       "      <td>MD</td>\n",
       "      <td>Premier League</td>\n",
       "      <td>10</td>\n",
       "    </tr>\n",
       "    <tr>\n",
       "      <th>13</th>\n",
       "      <td>Patrick</td>\n",
       "      <td>Lynch</td>\n",
       "      <td>Clare</td>\n",
       "      <td>19.72</td>\n",
       "      <td>DF</td>\n",
       "      <td>Premier League</td>\n",
       "      <td>9</td>\n",
       "    </tr>\n",
       "    <tr>\n",
       "      <th>16</th>\n",
       "      <td>Conor</td>\n",
       "      <td>Ryan</td>\n",
       "      <td>Dublin</td>\n",
       "      <td>24.23</td>\n",
       "      <td>MD</td>\n",
       "      <td>Premier League</td>\n",
       "      <td>3</td>\n",
       "    </tr>\n",
       "    <tr>\n",
       "      <th>18</th>\n",
       "      <td>Kyle</td>\n",
       "      <td>Ryan</td>\n",
       "      <td>Wexford</td>\n",
       "      <td>22.69</td>\n",
       "      <td>MD</td>\n",
       "      <td>Championship</td>\n",
       "      <td>1</td>\n",
       "    </tr>\n",
       "    <tr>\n",
       "      <th>19</th>\n",
       "      <td>Thomas</td>\n",
       "      <td>O'Brien</td>\n",
       "      <td>Dublin</td>\n",
       "      <td>30.68</td>\n",
       "      <td>GK</td>\n",
       "      <td>Premier League</td>\n",
       "      <td>10</td>\n",
       "    </tr>\n",
       "  </tbody>\n",
       "</table>\n",
       "</div>"
      ],
      "text/plain": [
       "    Forname   Surname   County    Age Position          League Irish_Caps\n",
       "6       Ben  McDonagh   Dublin  30.71       MD  Premier League         10\n",
       "13  Patrick     Lynch    Clare  19.72       DF  Premier League          9\n",
       "16    Conor      Ryan   Dublin  24.23       MD  Premier League          3\n",
       "18     Kyle      Ryan  Wexford  22.69       MD    Championship          1\n",
       "19   Thomas   O'Brien   Dublin  30.68       GK  Premier League         10"
      ]
     },
     "execution_count": 124,
     "metadata": {},
     "output_type": "execute_result"
    }
   ],
   "source": [
    "# We now deine the Irish team based on more than one cap for Ireland\n",
    "irish_players = df_rand_players[df_rand_players['Irish_Caps']>0]\n",
    "irish_players.head()"
   ]
  },
  {
   "cell_type": "markdown",
   "metadata": {},
   "source": [
    "The df_rand_players dataframe was generated using the numpy.random package and a number of its functions. This dataframe was made up of 7 columns - Name, Suranme, County, Age, Position, League and Irish Caps. We can now review the dataframe to ensure it has the carictorisitics we assumed."
   ]
  },
  {
   "cell_type": "markdown",
   "metadata": {},
   "source": [
    "## Analysis"
   ]
  },
  {
   "cell_type": "markdown",
   "metadata": {},
   "source": [
    "#### Forname"
   ]
  },
  {
   "cell_type": "code",
   "execution_count": 106,
   "metadata": {},
   "outputs": [
    {
     "name": "stdout",
     "output_type": "stream",
     "text": [
      "         Name  Qty  Percentage_x  Percentage_y  Difference\n",
      "0        Jack  786      0.055705      0.051887       0.004\n",
      "1       James  695      0.049256      0.042453       0.007\n",
      "2      Daniel  638      0.045216      0.042453       0.003\n",
      "3       Conor  581      0.041176      0.075472      -0.034\n",
      "4        Seán  526      0.037279      0.018868       0.018\n",
      "5        Adam  493      0.034940      0.037736      -0.003\n",
      "6        Luke  437      0.030971      0.028302       0.003\n",
      "7        Noah  434      0.030758      0.028302       0.002\n",
      "8       Harry  398      0.028207      0.033019      -0.005\n",
      "9     Charlie  389      0.027569      0.018868       0.009\n",
      "10      Dylan  384      0.027215      0.028302      -0.001\n",
      "11       Alex  383      0.027144      0.004717       0.022\n",
      "12      Oisin  381      0.027002      0.047170      -0.020\n",
      "13    Michael  379      0.026860      0.037736      -0.011\n",
      "14       Liam  378      0.026790      0.014151       0.013\n",
      "15       Ryan  373      0.026435      0.033019      -0.007\n",
      "16     Thomas  362      0.025656      0.028302      -0.003\n",
      "17       Cian  361      0.025585      0.028302      -0.003\n",
      "18    Patrick  358      0.025372      0.018868       0.007\n",
      "19    Cillian  350      0.024805      0.018868       0.006\n",
      "20    Darragh  347      0.024592      0.014151       0.010\n",
      "21      Jamie  328      0.023246      0.033019      -0.010\n",
      "22      David  306      0.021687      0.009434       0.012\n",
      "23      Aaron  303      0.021474      0.023585      -0.002\n",
      "24       John  293      0.020765      0.014151       0.007\n",
      "25      Fionn  270      0.019135      0.023585      -0.004\n",
      "26       Jake  263      0.018639      0.018868      -0.000\n",
      "27    Matthew  260      0.018427      0.023585      -0.005\n",
      "28     Nathan  255      0.018072      0.014151       0.004\n",
      "29        Ben  252      0.017860      0.014151       0.004\n",
      "30      Ethan  234      0.016584      0.018868      -0.002\n",
      "31       Evan  224      0.015875      0.018868      -0.003\n",
      "32       Finn  224      0.015875      0.009434       0.006\n",
      "33       Kyle  222      0.015734      0.037736      -0.022\n",
      "34       Rian  215      0.015237      0.023585      -0.008\n",
      "35     Callum  214      0.015167      0.023585      -0.008\n",
      "36  Alexander  211      0.014954      0.014151       0.001\n",
      "37     Joshua  203      0.014387      0.014151       0.000\n",
      "38        Max  201      0.014245      0.004717       0.010\n",
      "39     Oliver  199      0.014103      0.009434       0.005\n"
     ]
    }
   ],
   "source": [
    "rough_work_Forename = (df_rand_players['Forname'].value_counts(normalize=True))\n",
    "check_forname = pd.DataFrame({'Name':rough_work_Forename.index, 'Percentage':rough_work_Forename.values})\n",
    "\n",
    "firstname_compare = df_fornames.merge(check_forname, how='outer', left_on='Name', right_on='Name')\n",
    "firstname_compare['Difference'] = round(firstname_compare['Percentage_x'] - firstname_compare['Percentage_y'],3)\n",
    "print(firstname_compare)"
   ]
  },
  {
   "cell_type": "code",
   "execution_count": 107,
   "metadata": {},
   "outputs": [
    {
     "name": "stdout",
     "output_type": "stream",
     "text": [
      "Max difference:0.022\n",
      "Min Difference:-0.034\n",
      "Mean Difference:5e-05\n",
      "\n"
     ]
    }
   ],
   "source": [
    "first_average = firstname_compare['Difference'].mean()\n",
    "first_max = firstname_compare['Difference'].max()\n",
    "first_min = firstname_compare['Difference'].min()\n",
    "print(\"Max difference:\" + str(first_max) + \"\\n\" + \"Min Difference:\" + str(first_min) + \"\\n\" + \"Mean Difference:\" + str(round(first_average,5)) + \"\\n\")"
   ]
  },
  {
   "cell_type": "markdown",
   "metadata": {},
   "source": [
    "#### Surname"
   ]
  },
  {
   "cell_type": "code",
   "execution_count": 108,
   "metadata": {},
   "outputs": [
    {
     "name": "stdout",
     "output_type": "stream",
     "text": [
      "Doyle         0.080189\n",
      "Brennan       0.080189\n",
      "McCarthy      0.075472\n",
      "Byrne         0.070755\n",
      "O'Sullivan    0.066038\n",
      "Ryan          0.061321\n",
      "Murphy        0.061321\n",
      "O'Brien       0.056604\n",
      "McDonagh      0.051887\n",
      "Kelly         0.051887\n",
      "O'Neill       0.047170\n",
      "Kavanagh      0.047170\n",
      "Fitzgerald    0.042453\n",
      "O'Reilly      0.042453\n",
      "Walsh         0.037736\n",
      "O'Connor      0.037736\n",
      "Dunne         0.037736\n",
      "Daly          0.028302\n",
      "Lynch         0.023585\n",
      "Name: Surname, dtype: float64\n"
     ]
    }
   ],
   "source": [
    "check_Surname = (df_rand_players['Surname'].value_counts(normalize=True))\n",
    "print(check_Surname)"
   ]
  },
  {
   "cell_type": "markdown",
   "metadata": {},
   "source": [
    "#### Age"
   ]
  },
  {
   "cell_type": "code",
   "execution_count": 109,
   "metadata": {},
   "outputs": [
    {
     "name": "stderr",
     "output_type": "stream",
     "text": [
      "C:\\Users\\eogha\\Anaconda3\\lib\\site-packages\\scipy\\stats\\stats.py:1713: FutureWarning: Using a non-tuple sequence for multidimensional indexing is deprecated; use `arr[tuple(seq)]` instead of `arr[seq]`. In the future this will be interpreted as an array index, `arr[np.array(seq)]`, which will result either in an error or a different result.\n",
      "  return np.add.reduce(sorted[indexer] * weights, axis=axis) / sumval\n"
     ]
    },
    {
     "data": {
      "text/plain": [
       "<matplotlib.axes._subplots.AxesSubplot at 0x1570ccf4f98>"
      ]
     },
     "execution_count": 109,
     "metadata": {},
     "output_type": "execute_result"
    },
    {
     "data": {
      "image/png": "[encoded data removed]",
      "text/plain": [
       "<Figure size 432x288 with 1 Axes>"
      ]
     },
     "metadata": {},
     "output_type": "display_data"
    }
   ],
   "source": [
    "check_age = df_rand_players['Age']\n",
    "sns.distplot(check_age, color=\"b\",)"
   ]
  },
  {
   "cell_type": "code",
   "execution_count": 110,
   "metadata": {},
   "outputs": [],
   "source": [
    "#df_rand_players.to_csv(r'generated_players.csv', index = None, header=True)"
   ]
  },
  {
   "cell_type": "markdown",
   "metadata": {},
   "source": [
    "#### County"
   ]
  },
  {
   "cell_type": "code",
   "execution_count": 111,
   "metadata": {},
   "outputs": [
    {
     "name": "stdout",
     "output_type": "stream",
     "text": [
      "         County  Population  propibility  RandGen Percentage  Difference\n",
      "0        Dublin   1347359.0     0.204961            0.259434      -0.054\n",
      "1        Antrim    618108.0     0.094027            0.099057      -0.005\n",
      "2          Cork    542868.0     0.082581            0.117925      -0.035\n",
      "3          Down    531665.0     0.080877            0.056604       0.024\n",
      "4        Galway    258058.0     0.039256            0.037736       0.002\n",
      "5   Londonderry    247132.0     0.037594            0.037736      -0.000\n",
      "6       Kildare    222504.0     0.033847            0.023585       0.010\n",
      "7         Meath    195044.0     0.029670            0.009434       0.020\n",
      "8      Limerick    194899.0     0.029648            0.042453      -0.013\n",
      "9        Tyrone    179000.0     0.027230            0.023585       0.004\n",
      "10       Armagh    174792.0     0.026589            0.023585       0.003\n",
      "11    Tipperary    159553.0     0.024271            0.028302      -0.004\n",
      "12      Donegal    159192.0     0.024216            0.028302      -0.004\n",
      "13      Wexford    149722.0     0.022776            0.037736      -0.015\n",
      "14        Kerry    147707.0     0.022469            0.004717       0.018\n",
      "15      Wicklow    142425.0     0.021666            0.014151       0.008\n",
      "16         Mayo    130507.0     0.019853            0.018868       0.001\n",
      "17        Louth    128884.0     0.019606                 NaN         NaN\n",
      "18        Clare    118817.0     0.018075            0.033019      -0.015\n",
      "19    Waterford    116176.0     0.017673            0.009434       0.008\n",
      "20     Kilkenny     99232.0     0.015095            0.004717       0.010\n",
      "21    Westmeath     88770.0     0.013504            0.018868      -0.005\n",
      "22        Laois     84697.0     0.012884            0.004717       0.008\n",
      "23       Offaly     77961.0     0.011859                 NaN         NaN\n",
      "24        Cavan     76176.0     0.011588            0.009434       0.002\n",
      "25        Sligo     65535.0     0.009969            0.009434       0.001\n",
      "26    Roscommon     64544.0     0.009818            0.004717       0.005\n",
      "27     Monaghan     61386.0     0.009338            0.014151      -0.005\n",
      "28    Fermanagh     61170.0     0.009305            0.018868      -0.010\n",
      "29       Carlow     56932.0     0.008661            0.004717       0.004\n",
      "30     Longford     40873.0     0.006218            0.004717       0.002\n",
      "31      Leitrim     32044.0     0.004875                 NaN         NaN\n"
     ]
    }
   ],
   "source": [
    "rough_work_County = (df_rand_players['County'].value_counts(normalize=True))\n",
    "check_County = pd.DataFrame({'County':rough_work_County.index, 'RandGen Percentage':rough_work_County.values})\n",
    "\n",
    "county_compare = df_county.merge(check_County, how='outer', left_on='County', right_on='County')\n",
    "#firstname_compare['Difference'] = round(firstname_compare['Percentage_x'] - firstname_compare['Percentage_y'],3)\n",
    "#firstname_compare['Difference'] = round(firstname_compare['Percentage_x'] - firstname_compare['Percentage_y'],3)\n",
    "county_compare['Difference'] = round(county_compare['propibility'] - county_compare['RandGen Percentage'],3)\n",
    "#print(rough_work_County)\n",
    "print(county_compare[['County', 'Population', 'propibility', 'RandGen Percentage', 'Difference']])"
   ]
  },
  {
   "cell_type": "code",
   "execution_count": 112,
   "metadata": {},
   "outputs": [
    {
     "name": "stdout",
     "output_type": "stream",
     "text": [
      "Max difference:0.024\n",
      "Min Difference:-0.054\n",
      "Mean Difference:-0.00121\n",
      "\n"
     ]
    }
   ],
   "source": [
    "county_average = county_compare['Difference'].mean()\n",
    "county_max = county_compare['Difference'].max()\n",
    "county_min = county_compare['Difference'].min()\n",
    "print(\"Max difference:\" + str(county_max) + \"\\n\" + \"Min Difference:\" + str(county_min) + \"\\n\" + \"Mean Difference:\" + str(round(county_average,5)) + \"\\n\")"
   ]
  },
  {
   "cell_type": "markdown",
   "metadata": {},
   "source": [
    "#### Position"
   ]
  },
  {
   "cell_type": "code",
   "execution_count": 113,
   "metadata": {},
   "outputs": [
    {
     "name": "stdout",
     "output_type": "stream",
     "text": [
      "MD    0.396226\n",
      "DF    0.339623\n",
      "FW    0.193396\n",
      "GK    0.070755\n",
      "Name: Position, dtype: float64\n"
     ]
    }
   ],
   "source": [
    "# GK = 1/11  0.09\n",
    "# DF = 4/11  0.36\n",
    "# MD = 4/11  0.36\n",
    "# FW = 2/11  0.19\n",
    "\n",
    "rand_position = df_rand_players['Position'].value_counts(normalize=True)\n",
    "print(rand_position)"
   ]
  },
  {
   "cell_type": "markdown",
   "metadata": {},
   "source": [
    "#### League"
   ]
  },
  {
   "cell_type": "code",
   "execution_count": 114,
   "metadata": {},
   "outputs": [
    {
     "name": "stdout",
     "output_type": "stream",
     "text": [
      "**** Random Generated Probibility **** \n",
      "\n",
      "Premier League         0.174528\n",
      "Championship           0.169811\n",
      "National League        0.169811\n",
      "League One             0.155660\n",
      "League Two             0.136792\n",
      "National League N/S    0.117925\n",
      "Non League Premier     0.056604\n",
      "Non League Div One     0.018868\n",
      "Name: League, dtype: float64\n",
      "\n",
      " \n",
      " **** Original Probibility ****\n",
      "\n",
      "League One             0.198113\n",
      "League Two             0.183962\n",
      "Championship           0.169811\n",
      "Premier League         0.127358\n",
      "National League        0.117925\n",
      "National League N/S    0.099057\n",
      "Non League Premier     0.066038\n",
      "Non League Div One     0.037736\n",
      "Name: League, dtype: float64\n"
     ]
    }
   ],
   "source": [
    "rand_League = df_rand_players['League'].value_counts(normalize=True)\n",
    "print(\"**** Random Generated Probibility **** \\n\")\n",
    "print(rand_League)\n",
    "print(\"\\n \\n **** Original Probibility ****\\n\")\n",
    "print(LeaguesAndProb)"
   ]
  },
  {
   "cell_type": "markdown",
   "metadata": {},
   "source": [
    "#### Caps"
   ]
  },
  {
   "cell_type": "code",
   "execution_count": 140,
   "metadata": {},
   "outputs": [
    {
     "name": "stdout",
     "output_type": "stream",
     "text": [
      "       Forname     Surname       County    Age Position          League  \\\n",
      "6          Ben    McDonagh       Dublin  30.71       MD  Premier League   \n",
      "13     Patrick       Lynch        Clare  19.72       DF  Premier League   \n",
      "16       Conor        Ryan       Dublin  24.23       MD  Premier League   \n",
      "18        Kyle        Ryan      Wexford  22.69       MD    Championship   \n",
      "19      Thomas     O'Brien       Dublin  30.68       GK  Premier League   \n",
      "20      Daniel     Brennan       Dublin  26.55       MD  Premier League   \n",
      "22       Oisin       Doyle       Dublin  25.33       FW  Premier League   \n",
      "27     Michael  O'Sullivan       Dublin  27.15       FW    Championship   \n",
      "28       Ethan    O'Connor       Dublin  22.36       DF  Premier League   \n",
      "29        Liam  Fitzgerald       Dublin  28.21       MD  Premier League   \n",
      "30       James       Walsh         Down  20.24       MD  Premier League   \n",
      "31        Kyle       Doyle       Antrim  24.81       MD  Premier League   \n",
      "33     Michael       Doyle  Londonderry  17.79       DF  Premier League   \n",
      "36      Thomas       Byrne      Wexford  26.33       MD  Premier League   \n",
      "42       Oisin       Dunne         Cork  18.14       GK  Premier League   \n",
      "48   Alexander       Doyle       Dublin  19.74       GK  Premier League   \n",
      "49        Luke    McCarthy       Dublin  27.58       DF  Premier League   \n",
      "56      Joshua     O'Neill  Londonderry  23.08       DF  Premier League   \n",
      "62      Thomas       Byrne       Dublin  21.18       DF  Premier League   \n",
      "64     Charlie      Murphy       Dublin  17.43       FW  Premier League   \n",
      "66        Noah    McCarthy       Antrim  31.39       MD  Premier League   \n",
      "69       Conor    Kavanagh       Dublin  24.80       DF  Premier League   \n",
      "79       Jamie    McDonagh       Dublin  25.26       FW  Premier League   \n",
      "81     Michael     O'Neill       Dublin  30.90       FW  Premier League   \n",
      "83      Joshua        Daly    Tipperary  23.64       MD    Championship   \n",
      "88        Liam     Brennan       Armagh  26.72       MD  Premier League   \n",
      "89     Charlie  O'Sullivan         Cork  23.24       DF    Championship   \n",
      "95       Aaron    McCarthy       Galway  19.20       MD  Premier League   \n",
      "99      Callum  Fitzgerald      Donegal  30.49       DF    Championship   \n",
      "103       Rian       Doyle        Meath  28.94       FW  Premier League   \n",
      "104       Cian    O'Reilly    Tipperary  29.59       MD  Premier League   \n",
      "107      Ethan    O'Connor         Cork  18.07       MD  Premier League   \n",
      "121      Dylan    McCarthy  Londonderry  26.05       MD  Premier League   \n",
      "143      Dylan     Brennan       Antrim  23.22       MD  Premier League   \n",
      "155       Jack    Kavanagh       Armagh  20.94       FW  Premier League   \n",
      "156      Conor    Kavanagh         Down  26.44       DF  Premier League   \n",
      "162       Seán       Doyle         Cork  23.64       GK  Premier League   \n",
      "170       Ryan     Brennan       Antrim  29.75       DF  Premier League   \n",
      "172       Seán  O'Sullivan       Dublin  21.05       FW    Championship   \n",
      "176      Conor     O'Neill      Donegal  24.46       MD  Premier League   \n",
      "180    Cillian       Kelly       Dublin  21.12       DF    Championship   \n",
      "181      James        Ryan         Cork  20.97       MD    Championship   \n",
      "191      Conor       Lynch         Cork  21.96       MD  Premier League   \n",
      "194     Callum        Ryan    Westmeath  22.01       MD    Championship   \n",
      "200      Fionn  O'Sullivan       Dublin  25.56       DF  Premier League   \n",
      "206      Conor      Murphy       Dublin  31.34       DF    Championship   \n",
      "209      Harry     O'Brien       Dublin  27.44       DF  Premier League   \n",
      "\n",
      "    Irish_Caps  \n",
      "6           10  \n",
      "13           9  \n",
      "16           3  \n",
      "18           1  \n",
      "19          10  \n",
      "20          20  \n",
      "22           9  \n",
      "27           1  \n",
      "28           8  \n",
      "29          11  \n",
      "30           8  \n",
      "31          24  \n",
      "33           1  \n",
      "36          19  \n",
      "42           9  \n",
      "48           9  \n",
      "49          11  \n",
      "56          14  \n",
      "62           2  \n",
      "64           4  \n",
      "66           5  \n",
      "69          20  \n",
      "79           7  \n",
      "81           8  \n",
      "83           1  \n",
      "88           8  \n",
      "89           1  \n",
      "95           7  \n",
      "99           1  \n",
      "103          2  \n",
      "104          9  \n",
      "107          1  \n",
      "121          1  \n",
      "143          1  \n",
      "155         10  \n",
      "156         19  \n",
      "162         19  \n",
      "170          4  \n",
      "172          1  \n",
      "176         22  \n",
      "180          1  \n",
      "181          1  \n",
      "191          8  \n",
      "194          1  \n",
      "200          1  \n",
      "206          1  \n",
      "209          7  \n"
     ]
    }
   ],
   "source": [
    "list(df_rand_players.columns)\n",
    "\n",
    "irish_capped_players = df_rand_players[df_rand_players.Irish_Caps > 0]\n",
    " \n",
    "print(irish_capped_players)\n",
    "#print(irish_capped_players.groupby('League')['Irish_Caps'].mean())"
   ]
  },
  {
   "cell_type": "code",
   "execution_count": 141,
   "metadata": {},
   "outputs": [
    {
     "name": "stdout",
     "output_type": "stream",
     "text": [
      "Average number of Caps for a player below twenty, playing in the Premier League:5.71\n",
      "Average number of Caps for a player above twenty, playing in the Premier League:10.0\n",
      "Average number of Caps for a player below twenty, playing in the Championship: nan\n",
      "Average number of Caps for a player above twenty, playing in the Championship:1.0\n"
     ]
    }
   ],
   "source": [
    "champ_plus20 = irish_capped_players[(irish_capped_players['Age'] >= 20) & ((irish_capped_players['League'] == 'Championship'))]['Irish_Caps'].mean()\n",
    "champ_sub20 = irish_capped_players[(irish_capped_players['Age'] < 20) & ((irish_capped_players['League'] == 'Championship'))]['Irish_Caps'].mean()\n",
    "\n",
    "prem_sub20 = irish_capped_players[(irish_capped_players['Age'] < 20) & ((irish_capped_players['League'] == 'Premier League'))]['Irish_Caps'].mean()\n",
    "prem_plus20 = irish_capped_players[(irish_capped_players['Age'] >= 20) & ((irish_capped_players['League'] == 'Premier League'))]['Irish_Caps'].mean()\n",
    "print(\"Average number of Caps for a player below twenty, playing in the Premier League:\" + str(round(prem_sub20,2)))\n",
    "print(\"Average number of Caps for a player above twenty, playing in the Premier League:\" + str(round(prem_plus20)))\n",
    "print(\"Average number of Caps for a player below twenty, playing in the Championship: \" + str(champ_sub20))\n",
    "print(\"Average number of Caps for a player above twenty, playing in the Championship:\" + str(round(champ_plus20)))"
   ]
  },
  {
   "cell_type": "markdown",
   "metadata": {},
   "source": [
    "# Conclusion"
   ]
  },
  {
   "cell_type": "code",
   "execution_count": null,
   "metadata": {},
   "outputs": [],
   "source": []
  }
 ],
 "metadata": {
  "kernelspec": {
   "display_name": "Python 3",
   "language": "python",
   "name": "python3"
  },
  "language_info": {
   "codemirror_mode": {
    "name": "ipython",
    "version": 3
   },
   "file_extension": ".py",
   "mimetype": "text/x-python",
   "name": "python",
   "nbconvert_exporter": "python",
   "pygments_lexer": "ipython3",
   "version": "3.7.1"
  }
 },
 "nbformat": 4,
 "nbformat_minor": 4
}
