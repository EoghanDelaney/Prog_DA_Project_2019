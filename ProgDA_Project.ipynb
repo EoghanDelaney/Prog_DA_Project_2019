{
 "cells": [
  {
   "cell_type": "markdown",
   "metadata": {},
   "source": [
    "# Programming for Data Analysis"
   ]
  },
  {
   "cell_type": "markdown",
   "metadata": {},
   "source": [
    "## Project 2019"
   ]
  },
  {
   "cell_type": "markdown",
   "metadata": {},
   "source": [
    "The following project consists of generating a dataset using numpy.random package, with the following steps.\n",
    "\n",
    "* Choose a real-world phenomenon that can be measured and for which you could collect at least one-hundred data points across at least four diﬀerent variables\n",
    "\n",
    "* Investigate the types of variables involved, their likely distributions, and their relationships with each other.\n",
    "\n",
    "* Synthesise/simulate a data set as closely matching their properties as possible\n",
    "\n",
    "* Detail your research and implement the simulation in a Jupyter notebook – the data set itself can simply be displayed in an output cell within the notebook.\n",
    "\n",
    "I have an interest in Irish players playing in the English Soccer leagues, therfore I have chosen to base my data set around this phenomenon. Variables including Name, Surname, Age, County of Ireland, Playing Position and League in wich they play. I have used a number of sources for my data and these will be listed in each variable section. "
   ]
  },
  {
   "cell_type": "code",
   "execution_count": 2,
   "metadata": {},
   "outputs": [],
   "source": [
    "# To begin with we add in all the packages we intend to use\n",
    "import pandas as pd\n",
    "import numpy as np\n",
    "import matplotlib.pyplot as plt\n",
    "import seaborn as sns\n",
    "sns.set(style=\"darkgrid\")"
   ]
  },
  {
   "cell_type": "markdown",
   "metadata": {},
   "source": [
    "As part of this project a number of external soucres of data are required and these datasets are stored in a subfolder within this repositiory. "
   ]
  },
  {
   "cell_type": "markdown",
   "metadata": {},
   "source": [
    "## Name"
   ]
  },
  {
   "cell_type": "markdown",
   "metadata": {},
   "source": [
    "The first variable chosen was the first name of the player. This variable was taken from the CSO website \"the Top baby boys names 2014\". Althoughthe source of the data may not be the most current the satisitcal calculations to follow hold though. The data was stored in a CSV file and stored in the data folder under the name formanes"
   ]
  },
  {
   "cell_type": "code",
   "execution_count": 3,
   "metadata": {},
   "outputs": [],
   "source": [
    "df_fornames = pd.read_csv(\"data/fornames.csv\")"
   ]
  },
  {
   "cell_type": "code",
   "execution_count": 7,
   "metadata": {},
   "outputs": [
    {
     "data": {
      "text/html": [
       "<div>\n",
       "<style scoped>\n",
       "    .dataframe tbody tr th:only-of-type {\n",
       "        vertical-align: middle;\n",
       "    }\n",
       "\n",
       "    .dataframe tbody tr th {\n",
       "        vertical-align: top;\n",
       "    }\n",
       "\n",
       "    .dataframe thead th {\n",
       "        text-align: right;\n",
       "    }\n",
       "</style>\n",
       "<table border=\"1\" class=\"dataframe\">\n",
       "  <thead>\n",
       "    <tr style=\"text-align: right;\">\n",
       "      <th></th>\n",
       "      <th>Name</th>\n",
       "      <th>Qty</th>\n",
       "      <th>Percentage</th>\n",
       "    </tr>\n",
       "  </thead>\n",
       "  <tbody>\n",
       "    <tr>\n",
       "      <th>0</th>\n",
       "      <td>Jack</td>\n",
       "      <td>786</td>\n",
       "      <td>0.055705</td>\n",
       "    </tr>\n",
       "    <tr>\n",
       "      <th>1</th>\n",
       "      <td>James</td>\n",
       "      <td>695</td>\n",
       "      <td>0.049256</td>\n",
       "    </tr>\n",
       "    <tr>\n",
       "      <th>2</th>\n",
       "      <td>Daniel</td>\n",
       "      <td>638</td>\n",
       "      <td>0.045216</td>\n",
       "    </tr>\n",
       "    <tr>\n",
       "      <th>3</th>\n",
       "      <td>Conor</td>\n",
       "      <td>581</td>\n",
       "      <td>0.041176</td>\n",
       "    </tr>\n",
       "    <tr>\n",
       "      <th>4</th>\n",
       "      <td>Seán</td>\n",
       "      <td>526</td>\n",
       "      <td>0.037279</td>\n",
       "    </tr>\n",
       "  </tbody>\n",
       "</table>\n",
       "</div>"
      ],
      "text/plain": [
       "     Name  Qty  Percentage\n",
       "0    Jack  786    0.055705\n",
       "1   James  695    0.049256\n",
       "2  Daniel  638    0.045216\n",
       "3   Conor  581    0.041176\n",
       "4    Seán  526    0.037279"
      ]
     },
     "execution_count": 7,
     "metadata": {},
     "output_type": "execute_result"
    }
   ],
   "source": [
    "df_fornames.head()"
   ]
  },
  {
   "cell_type": "markdown",
   "metadata": {},
   "source": [
    "The dataset has 3 number columns - Name, Qty and Percentage. This information can be used to randomly generate a boys name using the probility and the variable name. For this we used the \n",
    "\n",
    "**numpy.random.choice(a, size=None, replace=True, p=None)**"
   ]
  },
  {
   "cell_type": "code",
   "execution_count": 30,
   "metadata": {},
   "outputs": [
    {
     "name": "stdout",
     "output_type": "stream",
     "text": [
      "['Fionn']\n"
     ]
    }
   ],
   "source": [
    "#First from the df_fornames we define the name array\n",
    "forname_array = df_fornames[\"Name\"].tolist()\n",
    "# We then define the pobility of these names arrising\n",
    "forname_percent = df_fornames[\"Percentage\"].tolist()\n",
    "\n",
    "forname = np.random.choice(forname_array, 1, p=forname_percent)\n",
    "print(forname)"
   ]
  },
  {
   "cell_type": "markdown",
   "metadata": {},
   "source": [
    "https://www.cso.ie/en/releasesandpublications/ep/p-1916/1916irl/people/names/"
   ]
  },
  {
   "cell_type": "markdown",
   "metadata": {},
   "source": [
    "## Surname"
   ]
  },
  {
   "cell_type": "markdown",
   "metadata": {},
   "source": [
    "Simialrly to above the surname follows the same sequence as the forname. The independat.ie reveiled the top 20 Irish surnames in December 2019. We then assumed these to be the surename variables. This data was also stored as a CSV file and stored in data folder."
   ]
  },
  {
   "cell_type": "code",
   "execution_count": 4,
   "metadata": {},
   "outputs": [],
   "source": [
    "df_surenames = pd.read_csv(\"data/surname.csv\")"
   ]
  },
  {
   "cell_type": "code",
   "execution_count": 9,
   "metadata": {},
   "outputs": [
    {
     "data": {
      "text/html": [
       "<div>\n",
       "<style scoped>\n",
       "    .dataframe tbody tr th:only-of-type {\n",
       "        vertical-align: middle;\n",
       "    }\n",
       "\n",
       "    .dataframe tbody tr th {\n",
       "        vertical-align: top;\n",
       "    }\n",
       "\n",
       "    .dataframe thead th {\n",
       "        text-align: right;\n",
       "    }\n",
       "</style>\n",
       "<table border=\"1\" class=\"dataframe\">\n",
       "  <thead>\n",
       "    <tr style=\"text-align: right;\">\n",
       "      <th></th>\n",
       "      <th>Surname</th>\n",
       "    </tr>\n",
       "  </thead>\n",
       "  <tbody>\n",
       "    <tr>\n",
       "      <th>0</th>\n",
       "      <td>Murphy</td>\n",
       "    </tr>\n",
       "    <tr>\n",
       "      <th>1</th>\n",
       "      <td>Kelly</td>\n",
       "    </tr>\n",
       "    <tr>\n",
       "      <th>2</th>\n",
       "      <td>Byrne</td>\n",
       "    </tr>\n",
       "    <tr>\n",
       "      <th>3</th>\n",
       "      <td>Ryan</td>\n",
       "    </tr>\n",
       "    <tr>\n",
       "      <th>4</th>\n",
       "      <td>O'Brien</td>\n",
       "    </tr>\n",
       "  </tbody>\n",
       "</table>\n",
       "</div>"
      ],
      "text/plain": [
       "   Surname\n",
       "0   Murphy\n",
       "1    Kelly\n",
       "2    Byrne\n",
       "3     Ryan\n",
       "4  O'Brien"
      ]
     },
     "execution_count": 9,
     "metadata": {},
     "output_type": "execute_result"
    }
   ],
   "source": [
    "df_surenames.head()"
   ]
  },
  {
   "cell_type": "markdown",
   "metadata": {},
   "source": [
    "For this variable we have no quanitiy or percentage breakdown - therefore we give them all equal likelyhood of accurance 1/20."
   ]
  },
  {
   "cell_type": "code",
   "execution_count": 32,
   "metadata": {},
   "outputs": [
    {
     "name": "stdout",
     "output_type": "stream",
     "text": [
      "Doyle\n"
     ]
    }
   ],
   "source": [
    "surname = df_surenames[\"Surname\"]\n",
    "S_name = surname[int(np.random.choice(19,1))]\n",
    "print(S_name)"
   ]
  },
  {
   "cell_type": "markdown",
   "metadata": {},
   "source": [
    "https://www.independent.ie/irish-news/revealed-top-20-irish-surnames-31414892.html"
   ]
  },
  {
   "cell_type": "markdown",
   "metadata": {},
   "source": [
    "## Age"
   ]
  },
  {
   "cell_type": "code",
   "execution_count": 12,
   "metadata": {},
   "outputs": [],
   "source": [
    "age = np.random.triangular(16, 18, 33, 100)"
   ]
  },
  {
   "cell_type": "code",
   "execution_count": 13,
   "metadata": {},
   "outputs": [
    {
     "name": "stdout",
     "output_type": "stream",
     "text": [
      "[25.78060993 20.48187959 18.53622391 19.19293431 22.82384606 22.19027492\n",
      " 18.1447278  25.44557899 20.51288924 26.71069903 23.05190679 19.0444804\n",
      " 18.31647266 18.26698875 22.87086905 17.36110136 27.57600469 18.15184773\n",
      " 17.64879346 26.47782062 16.8444006  29.84576408 26.62402973 17.15586304\n",
      " 23.2075827  18.82847386 18.36240257 17.98033873 21.46072846 20.57503975\n",
      " 16.95359032 19.66333996 20.90322914 24.74750777 22.65951706 17.24019466\n",
      " 23.65761838 27.42666524 28.33642733 19.24512535 24.19842087 16.98291868\n",
      " 21.01737787 19.58227182 23.86208023 16.25511774 22.33143289 19.66726597\n",
      " 22.98473964 31.57723612 17.39387149 28.14040039 22.08814597 23.16897165\n",
      " 25.96861816 21.6396781  21.80341646 27.04634424 29.62747289 20.667872\n",
      " 24.17467738 24.33550644 24.05485231 24.28600277 25.01819482 19.75304706\n",
      " 23.92251132 18.96791823 26.05800972 20.12205215 23.47839316 18.62258683\n",
      " 18.39742898 21.82065253 25.69697856 26.93645594 30.70720222 24.9095817\n",
      " 22.2417301  29.74241623 22.21084009 22.14301724 18.17899589 18.48888902\n",
      " 19.11096796 22.48585036 24.67976571 18.96466596 18.56637147 21.36236362\n",
      " 17.91615622 28.6825553  19.95155957 31.96740597 26.69044314 24.90266594\n",
      " 19.29744418 25.591859   16.62516543 17.11709355]\n"
     ]
    }
   ],
   "source": [
    "print(age)"
   ]
  },
  {
   "cell_type": "markdown",
   "metadata": {},
   "source": [
    "## County"
   ]
  },
  {
   "cell_type": "code",
   "execution_count": 6,
   "metadata": {},
   "outputs": [],
   "source": [
    "df_county = pd.read_csv(\"data/population_per_county.csv\")"
   ]
  },
  {
   "cell_type": "code",
   "execution_count": 14,
   "metadata": {},
   "outputs": [
    {
     "name": "stdout",
     "output_type": "stream",
     "text": [
      "<class 'pandas.core.frame.DataFrame'>\n",
      "RangeIndex: 32 entries, 0 to 31\n",
      "Data columns (total 3 columns):\n",
      "County        32 non-null object\n",
      "Population    32 non-null float64\n",
      "Province      32 non-null object\n",
      "dtypes: float64(1), object(2)\n",
      "memory usage: 848.0+ bytes\n"
     ]
    }
   ],
   "source": [
    "df_county.info()"
   ]
  },
  {
   "cell_type": "code",
   "execution_count": 15,
   "metadata": {},
   "outputs": [
    {
     "data": {
      "text/html": [
       "<div>\n",
       "<style scoped>\n",
       "    .dataframe tbody tr th:only-of-type {\n",
       "        vertical-align: middle;\n",
       "    }\n",
       "\n",
       "    .dataframe tbody tr th {\n",
       "        vertical-align: top;\n",
       "    }\n",
       "\n",
       "    .dataframe thead th {\n",
       "        text-align: right;\n",
       "    }\n",
       "</style>\n",
       "<table border=\"1\" class=\"dataframe\">\n",
       "  <thead>\n",
       "    <tr style=\"text-align: right;\">\n",
       "      <th></th>\n",
       "      <th>County</th>\n",
       "      <th>Population</th>\n",
       "      <th>Province</th>\n",
       "    </tr>\n",
       "  </thead>\n",
       "  <tbody>\n",
       "    <tr>\n",
       "      <th>0</th>\n",
       "      <td>Dublin</td>\n",
       "      <td>1347359.0</td>\n",
       "      <td>Leinster</td>\n",
       "    </tr>\n",
       "    <tr>\n",
       "      <th>1</th>\n",
       "      <td>Antrim</td>\n",
       "      <td>618108.0</td>\n",
       "      <td>Ulster</td>\n",
       "    </tr>\n",
       "    <tr>\n",
       "      <th>2</th>\n",
       "      <td>Cork</td>\n",
       "      <td>542868.0</td>\n",
       "      <td>Munster</td>\n",
       "    </tr>\n",
       "    <tr>\n",
       "      <th>3</th>\n",
       "      <td>Down</td>\n",
       "      <td>531665.0</td>\n",
       "      <td>Ulster</td>\n",
       "    </tr>\n",
       "    <tr>\n",
       "      <th>4</th>\n",
       "      <td>Galway</td>\n",
       "      <td>258058.0</td>\n",
       "      <td>Connacht</td>\n",
       "    </tr>\n",
       "  </tbody>\n",
       "</table>\n",
       "</div>"
      ],
      "text/plain": [
       "   County  Population  Province\n",
       "0  Dublin   1347359.0  Leinster\n",
       "1  Antrim    618108.0    Ulster\n",
       "2    Cork    542868.0   Munster\n",
       "3    Down    531665.0    Ulster\n",
       "4  Galway    258058.0  Connacht"
      ]
     },
     "execution_count": 15,
     "metadata": {},
     "output_type": "execute_result"
    }
   ],
   "source": [
    "df_county.head()"
   ]
  },
  {
   "cell_type": "code",
   "execution_count": 16,
   "metadata": {},
   "outputs": [
    {
     "name": "stdout",
     "output_type": "stream",
     "text": [
      "6573732.0\n"
     ]
    }
   ],
   "source": [
    "#print(\"League - Percentage Breakdown of the 244 entries\")\n",
    "#print(df_county.groupby(['County'])['Percentage']\n",
    "pop = df_county['Population'].sum()\n",
    "print(pop)\n",
    "df_county['propibility'] = df_county['Population'] / pop"
   ]
  },
  {
   "cell_type": "code",
   "execution_count": 17,
   "metadata": {},
   "outputs": [
    {
     "data": {
      "text/html": [
       "<div>\n",
       "<style scoped>\n",
       "    .dataframe tbody tr th:only-of-type {\n",
       "        vertical-align: middle;\n",
       "    }\n",
       "\n",
       "    .dataframe tbody tr th {\n",
       "        vertical-align: top;\n",
       "    }\n",
       "\n",
       "    .dataframe thead th {\n",
       "        text-align: right;\n",
       "    }\n",
       "</style>\n",
       "<table border=\"1\" class=\"dataframe\">\n",
       "  <thead>\n",
       "    <tr style=\"text-align: right;\">\n",
       "      <th></th>\n",
       "      <th>County</th>\n",
       "      <th>Population</th>\n",
       "      <th>Province</th>\n",
       "      <th>propibility</th>\n",
       "    </tr>\n",
       "  </thead>\n",
       "  <tbody>\n",
       "    <tr>\n",
       "      <th>0</th>\n",
       "      <td>Dublin</td>\n",
       "      <td>1347359.0</td>\n",
       "      <td>Leinster</td>\n",
       "      <td>0.204961</td>\n",
       "    </tr>\n",
       "    <tr>\n",
       "      <th>1</th>\n",
       "      <td>Antrim</td>\n",
       "      <td>618108.0</td>\n",
       "      <td>Ulster</td>\n",
       "      <td>0.094027</td>\n",
       "    </tr>\n",
       "    <tr>\n",
       "      <th>2</th>\n",
       "      <td>Cork</td>\n",
       "      <td>542868.0</td>\n",
       "      <td>Munster</td>\n",
       "      <td>0.082581</td>\n",
       "    </tr>\n",
       "    <tr>\n",
       "      <th>3</th>\n",
       "      <td>Down</td>\n",
       "      <td>531665.0</td>\n",
       "      <td>Ulster</td>\n",
       "      <td>0.080877</td>\n",
       "    </tr>\n",
       "    <tr>\n",
       "      <th>4</th>\n",
       "      <td>Galway</td>\n",
       "      <td>258058.0</td>\n",
       "      <td>Connacht</td>\n",
       "      <td>0.039256</td>\n",
       "    </tr>\n",
       "  </tbody>\n",
       "</table>\n",
       "</div>"
      ],
      "text/plain": [
       "   County  Population  Province  propibility\n",
       "0  Dublin   1347359.0  Leinster     0.204961\n",
       "1  Antrim    618108.0    Ulster     0.094027\n",
       "2    Cork    542868.0   Munster     0.082581\n",
       "3    Down    531665.0    Ulster     0.080877\n",
       "4  Galway    258058.0  Connacht     0.039256"
      ]
     },
     "execution_count": 17,
     "metadata": {},
     "output_type": "execute_result"
    }
   ],
   "source": [
    "df_county.head()"
   ]
  },
  {
   "cell_type": "code",
   "execution_count": 18,
   "metadata": {},
   "outputs": [
    {
     "name": "stdout",
     "output_type": "stream",
     "text": [
      "['Dublin']\n"
     ]
    },
    {
     "data": {
      "text/plain": [
       "numpy.ndarray"
      ]
     },
     "execution_count": 18,
     "metadata": {},
     "output_type": "execute_result"
    }
   ],
   "source": [
    "county_array = df_county[\"County\"].tolist()\n",
    "county_percent = df_county[\"propibility\"].tolist()\n",
    "#print(forname_array)\n",
    "#print(forname_percent)\n",
    "\n",
    "\n",
    "county1 = np.random.choice(county_array, 1, p=county_percent)\n",
    "county = str(county1)\n",
    "\n",
    "print(county)\n",
    "type(forname)"
   ]
  },
  {
   "cell_type": "markdown",
   "metadata": {},
   "source": [
    "https://en.wikipedia.org/wiki/List_of_Irish_counties_by_population"
   ]
  },
  {
   "cell_type": "markdown",
   "metadata": {},
   "source": [
    "## Position"
   ]
  },
  {
   "cell_type": "code",
   "execution_count": 19,
   "metadata": {},
   "outputs": [
    {
     "name": "stdout",
     "output_type": "stream",
     "text": [
      "DF\n"
     ]
    }
   ],
   "source": [
    "# GK DF MD FW\n",
    "# GK = 1/11  0.09\n",
    "# DF = 4/11  0.36\n",
    "# MD = 4/11  0.36\n",
    "# FW = 2/11  0.19\n",
    "\n",
    "#aa_milne_arr = ['pooh', 'rabbit', 'piglet', 'Christopher']\n",
    "#np.random.choice(aa_milne_arr, 5, p=[0.5, 0.1, 0.1, 0.3])\n",
    "\n",
    "position = ['GK', 'DF', 'MD', 'FW']\n",
    "pos = np.random.choice(position, 1, p=[0.09, 0.36, 0.36, 0.19])\n",
    "print(pos[0])"
   ]
  },
  {
   "cell_type": "markdown",
   "metadata": {},
   "source": [
    "## League"
   ]
  },
  {
   "cell_type": "code",
   "execution_count": 5,
   "metadata": {},
   "outputs": [],
   "source": [
    "df_leagues = pd.read_csv(\"data/leagues.csv\")"
   ]
  },
  {
   "cell_type": "code",
   "execution_count": 20,
   "metadata": {},
   "outputs": [
    {
     "data": {
      "text/html": [
       "<div>\n",
       "<style scoped>\n",
       "    .dataframe tbody tr th:only-of-type {\n",
       "        vertical-align: middle;\n",
       "    }\n",
       "\n",
       "    .dataframe tbody tr th {\n",
       "        vertical-align: top;\n",
       "    }\n",
       "\n",
       "    .dataframe thead th {\n",
       "        text-align: right;\n",
       "    }\n",
       "</style>\n",
       "<table border=\"1\" class=\"dataframe\">\n",
       "  <thead>\n",
       "    <tr style=\"text-align: right;\">\n",
       "      <th></th>\n",
       "      <th>Player</th>\n",
       "      <th>League</th>\n",
       "      <th>Club</th>\n",
       "    </tr>\n",
       "  </thead>\n",
       "  <tbody>\n",
       "    <tr>\n",
       "      <th>0</th>\n",
       "      <td>K. Long</td>\n",
       "      <td>Premier League</td>\n",
       "      <td>Burnley</td>\n",
       "    </tr>\n",
       "    <tr>\n",
       "      <th>1</th>\n",
       "      <td>C. Kelleher</td>\n",
       "      <td>Premier League</td>\n",
       "      <td>Liverpool</td>\n",
       "    </tr>\n",
       "    <tr>\n",
       "      <th>2</th>\n",
       "      <td>L. Richards</td>\n",
       "      <td>Premier League</td>\n",
       "      <td>Wolverhampton Wanderers</td>\n",
       "    </tr>\n",
       "    <tr>\n",
       "      <th>3</th>\n",
       "      <td>G. Kilkenny</td>\n",
       "      <td>Premier League</td>\n",
       "      <td>AFC Bournemouth</td>\n",
       "    </tr>\n",
       "    <tr>\n",
       "      <th>4</th>\n",
       "      <td>S. Coleman</td>\n",
       "      <td>Premier League</td>\n",
       "      <td>Everton</td>\n",
       "    </tr>\n",
       "  </tbody>\n",
       "</table>\n",
       "</div>"
      ],
      "text/plain": [
       "        Player          League                     Club\n",
       "0      K. Long  Premier League                  Burnley\n",
       "1  C. Kelleher  Premier League                Liverpool\n",
       "2  L. Richards  Premier League  Wolverhampton Wanderers\n",
       "3  G. Kilkenny  Premier League          AFC Bournemouth\n",
       "4   S. Coleman  Premier League                  Everton"
      ]
     },
     "execution_count": 20,
     "metadata": {},
     "output_type": "execute_result"
    }
   ],
   "source": [
    "df_leagues.head()"
   ]
  },
  {
   "cell_type": "code",
   "execution_count": 21,
   "metadata": {},
   "outputs": [
    {
     "name": "stdout",
     "output_type": "stream",
     "text": [
      "National League\n"
     ]
    }
   ],
   "source": [
    "y= df_leagues['League'].value_counts(normalize=True)\n",
    "league_prob = y.values\n",
    "league_name = y.index\n",
    "\n",
    "league = np.random.choice(league_name, 1, p=league_prob)\n",
    "print(league[0])"
   ]
  },
  {
   "cell_type": "markdown",
   "metadata": {},
   "source": [
    "https://ie.soccerway.com/players/players_abroad/ireland-republic/"
   ]
  },
  {
   "cell_type": "markdown",
   "metadata": {},
   "source": [
    "## Final Data Point"
   ]
  },
  {
   "cell_type": "code",
   "execution_count": 22,
   "metadata": {},
   "outputs": [],
   "source": [
    "df_rand_players = pd.DataFrame(columns=['Forname','Surname','County','Age','Position','League'])"
   ]
  },
  {
   "cell_type": "code",
   "execution_count": 23,
   "metadata": {},
   "outputs": [
    {
     "name": "stdout",
     "output_type": "stream",
     "text": [
      "Oliver,O'Neill,Dublin,17.51,MD,Championship\n",
      "Cillian,Kavanagh,Down,20.07,DF,Non League Div One\n",
      "Oliver,Ryan,Mayo,19.69,DF,League Two\n",
      "Oisin,Byrne,Roscommon,19.54,MD,League Two\n",
      "Michael,O'Connor,Limerick,20.55,GK,National League\n",
      "Kyle,Doyle,Down,21.56,MD,League Two\n",
      "Daniel,O'Connor,Dublin,17.07,FW,Non League Premier\n",
      "Luke,Fitzgerald,Antrim,22.67,DF,National League N/S\n",
      "Harry,O'Reilly,Dublin,20.94,DF,League One\n",
      "Kyle,Dunne,Waterford,20.79,MD,Championship\n"
     ]
    }
   ],
   "source": [
    "surname = df_surenames[\"Surname\"]\n",
    "for i in range(10):\n",
    "    name = np.random.choice(forname_array, 1, p=forname_percent)\n",
    "    player_surname = surname[int(np.random.choice(19,1))]\n",
    "    county = np.random.choice(county_array, 1, p=county_percent)\n",
    "    age = np.random.triangular(16, 18, 33, 1)\n",
    "    pos = np.random.choice(position, 1, p=[0.09, 0.36, 0.36, 0.19])\n",
    "    league = np.random.choice(league_name, 1, p=league_prob)\n",
    "    player_details = (str(name[0]) + \",\" + str(player_surname) + \",\" + county[0] + \",\" + str(round(age[0],2)) + \",\" + str(pos[0]) + \",\" + str(league[0]))\n",
    "    print(player_details)\n",
    "    df_rand_players = df_rand_players.append({'Forname': name[0],\n",
    "                                           'Surname': player_surname,\n",
    "                                           'County': county[0],\n",
    "                                           'Age': round(age[0],2),\n",
    "                                           'Position': pos[0],\n",
    "                                           'League': league[0]}, ignore_index=True)"
   ]
  },
  {
   "cell_type": "code",
   "execution_count": 24,
   "metadata": {},
   "outputs": [
    {
     "name": "stdout",
     "output_type": "stream",
     "text": [
      "   Forname     Surname     County    Age Position               League\n",
      "0   Oliver     O'Neill     Dublin  17.51       MD         Championship\n",
      "1  Cillian    Kavanagh       Down  20.07       DF   Non League Div One\n",
      "2   Oliver        Ryan       Mayo  19.69       DF           League Two\n",
      "3    Oisin       Byrne  Roscommon  19.54       MD           League Two\n",
      "4  Michael    O'Connor   Limerick  20.55       GK      National League\n",
      "5     Kyle       Doyle       Down  21.56       MD           League Two\n",
      "6   Daniel    O'Connor     Dublin  17.07       FW   Non League Premier\n",
      "7     Luke  Fitzgerald     Antrim  22.67       DF  National League N/S\n",
      "8    Harry    O'Reilly     Dublin  20.94       DF           League One\n",
      "9     Kyle       Dunne  Waterford  20.79       MD         Championship\n"
     ]
    }
   ],
   "source": [
    "print(df_rand_players)"
   ]
  },
  {
   "cell_type": "code",
   "execution_count": 25,
   "metadata": {},
   "outputs": [],
   "source": [
    "#df_rand_players.drop(df_rand_players.index, inplace=True)\n",
    "#df_rand_players.drop(['New_Columns'], axis=1)"
   ]
  },
  {
   "cell_type": "code",
   "execution_count": 26,
   "metadata": {},
   "outputs": [
    {
     "name": "stderr",
     "output_type": "stream",
     "text": [
      "C:\\Users\\eogha\\Anaconda3\\lib\\site-packages\\ipykernel_launcher.py:15: DeprecationWarning: This function is deprecated. Please call randint(1, 2 + 1) instead\n",
      "  from ipykernel import kernelapp as app\n"
     ]
    }
   ],
   "source": [
    "if \"Irish_Caps\" not in df_rand_players:\n",
    "    df_rand_players[\"Irish_Caps\"] = \"\"\n",
    "\n",
    "for index, row in df_rand_players.iterrows():\n",
    "    age = row['Age']\n",
    "    league = row['League']\n",
    "    cap = ''\n",
    "    if age < 20 and league=='Premier League':\n",
    "        cap = np.random.random_integers(1, 10, 1)\n",
    "    elif age >= 20 and league=='Premier League':\n",
    "        cap = np.random.random_integers(1, 25, 1)\n",
    "    elif age >= 28 and league=='Premier League':\n",
    "        cap = np.random.random_integers(1, 40, 1)\n",
    "    elif age >= 20 and league=='Championship':\n",
    "        cap = np.random.random_integers(1, 2, 1)\n",
    "    elif age >= 20 and league=='Championship':\n",
    "        cap = np.random.random_integers(1, 5, 1)\n",
    "    df_rand_players.at[index, 'Irish_Caps'] = cap\n"
   ]
  },
  {
   "cell_type": "code",
   "execution_count": 27,
   "metadata": {},
   "outputs": [
    {
     "name": "stdout",
     "output_type": "stream",
     "text": [
      "   Forname     Surname     County    Age Position               League  \\\n",
      "0   Oliver     O'Neill     Dublin  17.51       MD         Championship   \n",
      "1  Cillian    Kavanagh       Down  20.07       DF   Non League Div One   \n",
      "2   Oliver        Ryan       Mayo  19.69       DF           League Two   \n",
      "3    Oisin       Byrne  Roscommon  19.54       MD           League Two   \n",
      "4  Michael    O'Connor   Limerick  20.55       GK      National League   \n",
      "5     Kyle       Doyle       Down  21.56       MD           League Two   \n",
      "6   Daniel    O'Connor     Dublin  17.07       FW   Non League Premier   \n",
      "7     Luke  Fitzgerald     Antrim  22.67       DF  National League N/S   \n",
      "8    Harry    O'Reilly     Dublin  20.94       DF           League One   \n",
      "9     Kyle       Dunne  Waterford  20.79       MD         Championship   \n",
      "\n",
      "  Irish_Caps  \n",
      "0             \n",
      "1             \n",
      "2             \n",
      "3             \n",
      "4             \n",
      "5             \n",
      "6             \n",
      "7             \n",
      "8             \n",
      "9        [1]  \n"
     ]
    }
   ],
   "source": [
    "print(df_rand_players)"
   ]
  },
  {
   "cell_type": "code",
   "execution_count": 28,
   "metadata": {},
   "outputs": [
    {
     "name": "stdout",
     "output_type": "stream",
     "text": [
      "<class 'pandas.core.frame.DataFrame'>\n",
      "RangeIndex: 10 entries, 0 to 9\n",
      "Data columns (total 7 columns):\n",
      "Forname       10 non-null object\n",
      "Surname       10 non-null object\n",
      "County        10 non-null object\n",
      "Age           10 non-null float64\n",
      "Position      10 non-null object\n",
      "League        10 non-null object\n",
      "Irish_Caps    10 non-null object\n",
      "dtypes: float64(1), object(6)\n",
      "memory usage: 640.0+ bytes\n"
     ]
    }
   ],
   "source": [
    "df_rand_players.info()"
   ]
  },
  {
   "cell_type": "code",
   "execution_count": 29,
   "metadata": {},
   "outputs": [],
   "source": [
    "df_rand_players.to_csv(r'generated_players.csv', index = None, header=True)"
   ]
  },
  {
   "cell_type": "code",
   "execution_count": null,
   "metadata": {},
   "outputs": [],
   "source": []
  }
 ],
 "metadata": {
  "kernelspec": {
   "display_name": "Python 3",
   "language": "python",
   "name": "python3"
  },
  "language_info": {
   "codemirror_mode": {
    "name": "ipython",
    "version": 3
   },
   "file_extension": ".py",
   "mimetype": "text/x-python",
   "name": "python",
   "nbconvert_exporter": "python",
   "pygments_lexer": "ipython3",
   "version": "3.7.1"
  }
 },
 "nbformat": 4,
 "nbformat_minor": 4
}
