{
 "cells": [
  {
   "cell_type": "markdown",
   "metadata": {},
   "source": [
    "# Programming for Data Analysis"
   ]
  },
  {
   "cell_type": "markdown",
   "metadata": {},
   "source": [
    "## Project 2019"
   ]
  },
  {
   "cell_type": "markdown",
   "metadata": {},
   "source": [
    "https://www.cso.ie/en/releasesandpublications/ep/p-1916/1916irl/people/names/"
   ]
  },
  {
   "cell_type": "markdown",
   "metadata": {},
   "source": [
    "https://www.independent.ie/irish-news/revealed-top-20-irish-surnames-31414892.html"
   ]
  },
  {
   "cell_type": "markdown",
   "metadata": {},
   "source": [
    "https://ie.soccerway.com/players/players_abroad/ireland-republic/"
   ]
  },
  {
   "cell_type": "markdown",
   "metadata": {},
   "source": [
    "https://en.wikipedia.org/wiki/List_of_Irish_counties_by_population"
   ]
  },
  {
   "cell_type": "code",
   "execution_count": 61,
   "metadata": {},
   "outputs": [],
   "source": [
    "import pandas as pd\n",
    "import numpy as np\n",
    "import matplotlib.pyplot as plt\n",
    "import seaborn as sns\n",
    "sns.set(style=\"darkgrid\")"
   ]
  },
  {
   "cell_type": "code",
   "execution_count": 62,
   "metadata": {},
   "outputs": [],
   "source": [
    "df_fornames = pd.read_csv(\"data/fornames.csv\")"
   ]
  },
  {
   "cell_type": "code",
   "execution_count": 63,
   "metadata": {},
   "outputs": [],
   "source": [
    "df_surenames = pd.read_csv(\"data/surname.csv\")"
   ]
  },
  {
   "cell_type": "code",
   "execution_count": 64,
   "metadata": {},
   "outputs": [],
   "source": [
    "df_leagues = pd.read_csv(\"data/leagues.csv\")"
   ]
  },
  {
   "cell_type": "code",
   "execution_count": 65,
   "metadata": {},
   "outputs": [],
   "source": [
    "df_county = pd.read_csv(\"data/population_per_county.csv\")"
   ]
  },
  {
   "cell_type": "markdown",
   "metadata": {},
   "source": [
    "Name, Surname, Age, County, Position, League"
   ]
  },
  {
   "cell_type": "markdown",
   "metadata": {},
   "source": [
    "## Name"
   ]
  },
  {
   "cell_type": "code",
   "execution_count": 66,
   "metadata": {},
   "outputs": [
    {
     "data": {
      "text/html": [
       "<div>\n",
       "<style scoped>\n",
       "    .dataframe tbody tr th:only-of-type {\n",
       "        vertical-align: middle;\n",
       "    }\n",
       "\n",
       "    .dataframe tbody tr th {\n",
       "        vertical-align: top;\n",
       "    }\n",
       "\n",
       "    .dataframe thead th {\n",
       "        text-align: right;\n",
       "    }\n",
       "</style>\n",
       "<table border=\"1\" class=\"dataframe\">\n",
       "  <thead>\n",
       "    <tr style=\"text-align: right;\">\n",
       "      <th></th>\n",
       "      <th>Name</th>\n",
       "      <th>Qty</th>\n",
       "      <th>Percentage</th>\n",
       "    </tr>\n",
       "  </thead>\n",
       "  <tbody>\n",
       "    <tr>\n",
       "      <th>0</th>\n",
       "      <td>Jack</td>\n",
       "      <td>786</td>\n",
       "      <td>0.055705</td>\n",
       "    </tr>\n",
       "    <tr>\n",
       "      <th>1</th>\n",
       "      <td>James</td>\n",
       "      <td>695</td>\n",
       "      <td>0.049256</td>\n",
       "    </tr>\n",
       "    <tr>\n",
       "      <th>2</th>\n",
       "      <td>Daniel</td>\n",
       "      <td>638</td>\n",
       "      <td>0.045216</td>\n",
       "    </tr>\n",
       "    <tr>\n",
       "      <th>3</th>\n",
       "      <td>Conor</td>\n",
       "      <td>581</td>\n",
       "      <td>0.041176</td>\n",
       "    </tr>\n",
       "    <tr>\n",
       "      <th>4</th>\n",
       "      <td>Seán</td>\n",
       "      <td>526</td>\n",
       "      <td>0.037279</td>\n",
       "    </tr>\n",
       "  </tbody>\n",
       "</table>\n",
       "</div>"
      ],
      "text/plain": [
       "     Name  Qty  Percentage\n",
       "0    Jack  786    0.055705\n",
       "1   James  695    0.049256\n",
       "2  Daniel  638    0.045216\n",
       "3   Conor  581    0.041176\n",
       "4    Seán  526    0.037279"
      ]
     },
     "execution_count": 66,
     "metadata": {},
     "output_type": "execute_result"
    }
   ],
   "source": [
    "df_fornames.head()"
   ]
  },
  {
   "cell_type": "code",
   "execution_count": 84,
   "metadata": {},
   "outputs": [
    {
     "name": "stdout",
     "output_type": "stream",
     "text": [
      "['Kyle']\n"
     ]
    },
    {
     "data": {
      "text/plain": [
       "numpy.ndarray"
      ]
     },
     "execution_count": 84,
     "metadata": {},
     "output_type": "execute_result"
    }
   ],
   "source": [
    "forname_array = df_fornames[\"Name\"].tolist()\n",
    "forname_percent = df_fornames[\"Percentage\"].tolist()\n",
    "#print(forname_array)\n",
    "#print(forname_percent)\n",
    "\n",
    "\n",
    "forname = np.random.choice(forname_array, 1, p=forname_percent)\n",
    "F_name = str(forname)\n",
    "\n",
    "print(F_name)\n",
    "type(forname)"
   ]
  },
  {
   "cell_type": "markdown",
   "metadata": {},
   "source": [
    "## Surname"
   ]
  },
  {
   "cell_type": "code",
   "execution_count": 78,
   "metadata": {},
   "outputs": [
    {
     "data": {
      "text/html": [
       "<div>\n",
       "<style scoped>\n",
       "    .dataframe tbody tr th:only-of-type {\n",
       "        vertical-align: middle;\n",
       "    }\n",
       "\n",
       "    .dataframe tbody tr th {\n",
       "        vertical-align: top;\n",
       "    }\n",
       "\n",
       "    .dataframe thead th {\n",
       "        text-align: right;\n",
       "    }\n",
       "</style>\n",
       "<table border=\"1\" class=\"dataframe\">\n",
       "  <thead>\n",
       "    <tr style=\"text-align: right;\">\n",
       "      <th></th>\n",
       "      <th>Surname</th>\n",
       "    </tr>\n",
       "  </thead>\n",
       "  <tbody>\n",
       "    <tr>\n",
       "      <th>0</th>\n",
       "      <td>Murphy</td>\n",
       "    </tr>\n",
       "    <tr>\n",
       "      <th>1</th>\n",
       "      <td>Kelly</td>\n",
       "    </tr>\n",
       "    <tr>\n",
       "      <th>2</th>\n",
       "      <td>Byrne</td>\n",
       "    </tr>\n",
       "    <tr>\n",
       "      <th>3</th>\n",
       "      <td>Ryan</td>\n",
       "    </tr>\n",
       "    <tr>\n",
       "      <th>4</th>\n",
       "      <td>O'Brien</td>\n",
       "    </tr>\n",
       "  </tbody>\n",
       "</table>\n",
       "</div>"
      ],
      "text/plain": [
       "    Surname\n",
       "0    Murphy\n",
       "1     Kelly\n",
       "2     Byrne\n",
       "3      Ryan\n",
       "4   O'Brien"
      ]
     },
     "execution_count": 78,
     "metadata": {},
     "output_type": "execute_result"
    }
   ],
   "source": [
    "df_surenames.head()"
   ]
  },
  {
   "cell_type": "code",
   "execution_count": 69,
   "metadata": {},
   "outputs": [
    {
     "name": "stdout",
     "output_type": "stream",
     "text": [
      "0          Murphy\n",
      "1           Kelly\n",
      "2           Byrne\n",
      "3            Ryan\n",
      "4         O'Brien\n",
      "5           Walsh\n",
      "6      O'Sullivan\n",
      "7        O'Connor\n",
      "8           Doyle\n",
      "9        McCarthy\n",
      "10        O'Neill\n",
      "11          Lynch\n",
      "12       O'Reilly\n",
      "13          Dunne\n",
      "14       McDonagh\n",
      "15        Brennan\n",
      "16     Fitzgerald\n",
      "17           Daly\n",
      "18       Kavanagh\n",
      "19          Nolan\n",
      "Name: Surname, dtype: object\n"
     ]
    }
   ],
   "source": [
    "surname = df_surenames[\"Surname\"]\n",
    "print(surname)"
   ]
  },
  {
   "cell_type": "code",
   "execution_count": 81,
   "metadata": {},
   "outputs": [
    {
     "data": {
      "text/plain": [
       "str"
      ]
     },
     "execution_count": 81,
     "metadata": {},
     "output_type": "execute_result"
    }
   ],
   "source": [
    "S_name = surname[int(np.random.choice(19,1))]\n",
    "type(S_name)"
   ]
  },
  {
   "cell_type": "markdown",
   "metadata": {},
   "source": [
    "## Age"
   ]
  },
  {
   "cell_type": "markdown",
   "metadata": {},
   "source": [
    "## County"
   ]
  },
  {
   "cell_type": "code",
   "execution_count": 71,
   "metadata": {},
   "outputs": [
    {
     "name": "stdout",
     "output_type": "stream",
     "text": [
      "<class 'pandas.core.frame.DataFrame'>\n",
      "RangeIndex: 32 entries, 0 to 31\n",
      "Data columns (total 3 columns):\n",
      "County        32 non-null object\n",
      "Population    32 non-null float64\n",
      "Province      32 non-null object\n",
      "dtypes: float64(1), object(2)\n",
      "memory usage: 848.0+ bytes\n"
     ]
    }
   ],
   "source": [
    "df_county.info()"
   ]
  },
  {
   "cell_type": "code",
   "execution_count": 92,
   "metadata": {},
   "outputs": [
    {
     "data": {
      "text/html": [
       "<div>\n",
       "<style scoped>\n",
       "    .dataframe tbody tr th:only-of-type {\n",
       "        vertical-align: middle;\n",
       "    }\n",
       "\n",
       "    .dataframe tbody tr th {\n",
       "        vertical-align: top;\n",
       "    }\n",
       "\n",
       "    .dataframe thead th {\n",
       "        text-align: right;\n",
       "    }\n",
       "</style>\n",
       "<table border=\"1\" class=\"dataframe\">\n",
       "  <thead>\n",
       "    <tr style=\"text-align: right;\">\n",
       "      <th></th>\n",
       "      <th>County</th>\n",
       "      <th>Population</th>\n",
       "      <th>Province</th>\n",
       "    </tr>\n",
       "  </thead>\n",
       "  <tbody>\n",
       "    <tr>\n",
       "      <th>0</th>\n",
       "      <td>Dublin</td>\n",
       "      <td>1347359.0</td>\n",
       "      <td>Leinster</td>\n",
       "    </tr>\n",
       "    <tr>\n",
       "      <th>1</th>\n",
       "      <td>Antrim</td>\n",
       "      <td>618108.0</td>\n",
       "      <td>Ulster</td>\n",
       "    </tr>\n",
       "    <tr>\n",
       "      <th>2</th>\n",
       "      <td>Cork</td>\n",
       "      <td>542868.0</td>\n",
       "      <td>Munster</td>\n",
       "    </tr>\n",
       "    <tr>\n",
       "      <th>3</th>\n",
       "      <td>Down</td>\n",
       "      <td>531665.0</td>\n",
       "      <td>Ulster</td>\n",
       "    </tr>\n",
       "    <tr>\n",
       "      <th>4</th>\n",
       "      <td>Galway</td>\n",
       "      <td>258058.0</td>\n",
       "      <td>Connacht</td>\n",
       "    </tr>\n",
       "  </tbody>\n",
       "</table>\n",
       "</div>"
      ],
      "text/plain": [
       "   County  Population  Province\n",
       "0  Dublin   1347359.0  Leinster\n",
       "1  Antrim    618108.0    Ulster\n",
       "2    Cork    542868.0   Munster\n",
       "3    Down    531665.0    Ulster\n",
       "4  Galway    258058.0  Connacht"
      ]
     },
     "execution_count": 92,
     "metadata": {},
     "output_type": "execute_result"
    }
   ],
   "source": [
    "df_county.head()"
   ]
  },
  {
   "cell_type": "code",
   "execution_count": 99,
   "metadata": {},
   "outputs": [
    {
     "name": "stdout",
     "output_type": "stream",
     "text": [
      "6573732.0\n"
     ]
    }
   ],
   "source": [
    "#print(\"League - Percentage Breakdown of the 244 entries\")\n",
    "#print(df_county.groupby(['County'])['Percentage']\n",
    "pop = df_county['Population'].sum()\n",
    "print(pop)\n",
    "df_county['propibility'] = df_county['Population'] / pop"
   ]
  },
  {
   "cell_type": "code",
   "execution_count": 100,
   "metadata": {},
   "outputs": [
    {
     "data": {
      "text/html": [
       "<div>\n",
       "<style scoped>\n",
       "    .dataframe tbody tr th:only-of-type {\n",
       "        vertical-align: middle;\n",
       "    }\n",
       "\n",
       "    .dataframe tbody tr th {\n",
       "        vertical-align: top;\n",
       "    }\n",
       "\n",
       "    .dataframe thead th {\n",
       "        text-align: right;\n",
       "    }\n",
       "</style>\n",
       "<table border=\"1\" class=\"dataframe\">\n",
       "  <thead>\n",
       "    <tr style=\"text-align: right;\">\n",
       "      <th></th>\n",
       "      <th>County</th>\n",
       "      <th>Population</th>\n",
       "      <th>Province</th>\n",
       "      <th>propibility</th>\n",
       "    </tr>\n",
       "  </thead>\n",
       "  <tbody>\n",
       "    <tr>\n",
       "      <th>0</th>\n",
       "      <td>Dublin</td>\n",
       "      <td>1347359.0</td>\n",
       "      <td>Leinster</td>\n",
       "      <td>0.204961</td>\n",
       "    </tr>\n",
       "    <tr>\n",
       "      <th>1</th>\n",
       "      <td>Antrim</td>\n",
       "      <td>618108.0</td>\n",
       "      <td>Ulster</td>\n",
       "      <td>0.094027</td>\n",
       "    </tr>\n",
       "    <tr>\n",
       "      <th>2</th>\n",
       "      <td>Cork</td>\n",
       "      <td>542868.0</td>\n",
       "      <td>Munster</td>\n",
       "      <td>0.082581</td>\n",
       "    </tr>\n",
       "    <tr>\n",
       "      <th>3</th>\n",
       "      <td>Down</td>\n",
       "      <td>531665.0</td>\n",
       "      <td>Ulster</td>\n",
       "      <td>0.080877</td>\n",
       "    </tr>\n",
       "    <tr>\n",
       "      <th>4</th>\n",
       "      <td>Galway</td>\n",
       "      <td>258058.0</td>\n",
       "      <td>Connacht</td>\n",
       "      <td>0.039256</td>\n",
       "    </tr>\n",
       "  </tbody>\n",
       "</table>\n",
       "</div>"
      ],
      "text/plain": [
       "   County  Population  Province  propibility\n",
       "0  Dublin   1347359.0  Leinster     0.204961\n",
       "1  Antrim    618108.0    Ulster     0.094027\n",
       "2    Cork    542868.0   Munster     0.082581\n",
       "3    Down    531665.0    Ulster     0.080877\n",
       "4  Galway    258058.0  Connacht     0.039256"
      ]
     },
     "execution_count": 100,
     "metadata": {},
     "output_type": "execute_result"
    }
   ],
   "source": [
    "df_county.head()"
   ]
  },
  {
   "cell_type": "code",
   "execution_count": 101,
   "metadata": {},
   "outputs": [
    {
     "name": "stdout",
     "output_type": "stream",
     "text": [
      "['Limerick']\n"
     ]
    },
    {
     "data": {
      "text/plain": [
       "numpy.ndarray"
      ]
     },
     "execution_count": 101,
     "metadata": {},
     "output_type": "execute_result"
    }
   ],
   "source": [
    "county_array = df_county[\"County\"].tolist()\n",
    "county_percent = df_county[\"propibility\"].tolist()\n",
    "#print(forname_array)\n",
    "#print(forname_percent)\n",
    "\n",
    "\n",
    "county1 = np.random.choice(county_array, 1, p=county_percent)\n",
    "county = str(county1)\n",
    "\n",
    "print(county)\n",
    "type(forname)"
   ]
  },
  {
   "cell_type": "markdown",
   "metadata": {},
   "source": [
    "## League"
   ]
  },
  {
   "cell_type": "code",
   "execution_count": 74,
   "metadata": {},
   "outputs": [
    {
     "data": {
      "text/html": [
       "<div>\n",
       "<style scoped>\n",
       "    .dataframe tbody tr th:only-of-type {\n",
       "        vertical-align: middle;\n",
       "    }\n",
       "\n",
       "    .dataframe tbody tr th {\n",
       "        vertical-align: top;\n",
       "    }\n",
       "\n",
       "    .dataframe thead th {\n",
       "        text-align: right;\n",
       "    }\n",
       "</style>\n",
       "<table border=\"1\" class=\"dataframe\">\n",
       "  <thead>\n",
       "    <tr style=\"text-align: right;\">\n",
       "      <th></th>\n",
       "      <th>Player</th>\n",
       "      <th>League</th>\n",
       "      <th>Club</th>\n",
       "    </tr>\n",
       "  </thead>\n",
       "  <tbody>\n",
       "    <tr>\n",
       "      <th>0</th>\n",
       "      <td>K. Long</td>\n",
       "      <td>Premier League</td>\n",
       "      <td>Burnley</td>\n",
       "    </tr>\n",
       "    <tr>\n",
       "      <th>1</th>\n",
       "      <td>C. Kelleher</td>\n",
       "      <td>Premier League</td>\n",
       "      <td>Liverpool</td>\n",
       "    </tr>\n",
       "    <tr>\n",
       "      <th>2</th>\n",
       "      <td>L. Richards</td>\n",
       "      <td>Premier League</td>\n",
       "      <td>Wolverhampton Wanderers</td>\n",
       "    </tr>\n",
       "    <tr>\n",
       "      <th>3</th>\n",
       "      <td>G. Kilkenny</td>\n",
       "      <td>Premier League</td>\n",
       "      <td>AFC Bournemouth</td>\n",
       "    </tr>\n",
       "    <tr>\n",
       "      <th>4</th>\n",
       "      <td>S. Coleman</td>\n",
       "      <td>Premier League</td>\n",
       "      <td>Everton</td>\n",
       "    </tr>\n",
       "  </tbody>\n",
       "</table>\n",
       "</div>"
      ],
      "text/plain": [
       "        Player          League                     Club\n",
       "0      K. Long  Premier League                  Burnley\n",
       "1  C. Kelleher  Premier League                Liverpool\n",
       "2  L. Richards  Premier League  Wolverhampton Wanderers\n",
       "3  G. Kilkenny  Premier League          AFC Bournemouth\n",
       "4   S. Coleman  Premier League                  Everton"
      ]
     },
     "execution_count": 74,
     "metadata": {},
     "output_type": "execute_result"
    }
   ],
   "source": [
    "df_leagues.head()"
   ]
  },
  {
   "cell_type": "code",
   "execution_count": null,
   "metadata": {},
   "outputs": [],
   "source": [
    "print(\"League - Percentage Breakdown of the 244 entries\")\n",
    "print(df_leagues['League'].value_counts(normalize=True) * 100)"
   ]
  },
  {
   "cell_type": "markdown",
   "metadata": {},
   "source": [
    "## Final Data Point"
   ]
  },
  {
   "cell_type": "code",
   "execution_count": 103,
   "metadata": {},
   "outputs": [
    {
     "name": "stdout",
     "output_type": "stream",
     "text": [
      "Charlie, Fitzgerald,Cork\n",
      "Oliver, Walsh,Westmeath\n",
      "Michael, McDonagh,Down\n",
      "Jamie, Doyle,Wexford\n",
      "Ethan, Ryan,Tipperary\n",
      "Adam, Lynch,Dublin\n",
      "Finn, Fitzgerald,Mayo\n",
      "Seán, O'Brien,Tipperary\n",
      "Michael, O'Neill,Cork\n",
      "Michael, Byrne,Kildare\n",
      "Darragh, McCarthy,Antrim\n",
      "Ryan, Daly,Dublin\n",
      "Ryan, Kavanagh,Antrim\n",
      "Michael, Fitzgerald,Waterford\n",
      "Daniel, Kavanagh,Donegal\n",
      "Matthew, Kavanagh,Cork\n",
      "Darragh, Lynch,Dublin\n",
      "Daniel, Walsh,Galway\n",
      "Fionn, O'Brien,Down\n",
      "Aaron, McDonagh,Dublin\n",
      "Cillian, Kavanagh,Donegal\n",
      "Rian, Ryan,Limerick\n",
      "Liam, O'Reilly,Clare\n",
      "Liam, Brennan,Dublin\n",
      "David, O'Reilly,Antrim\n",
      "Rian, O'Neill,Dublin\n",
      "Matthew, McCarthy,Antrim\n",
      "Oisin, Ryan,Antrim\n",
      "James, Byrne,Dublin\n",
      "Finn, Doyle,Down\n",
      "Alex, O'Neill,Dublin\n",
      "Patrick, Dunne,Dublin\n",
      "Aaron, Lynch,Monaghan\n",
      "Jamie, O'Reilly,Cork\n",
      "Aaron, O'Brien,Tipperary\n",
      "John, Dunne,Cork\n",
      "Liam, Daly,Down\n",
      "Oisin, Dunne,Down\n",
      "Oliver, McCarthy,Wexford\n",
      "Charlie, McDonagh,Cork\n",
      "Ethan, Ryan,Roscommon\n",
      "Charlie, Byrne,Kerry\n",
      "Conor, Ryan,Kildare\n",
      "Matthew, Dunne,Dublin\n",
      "David, Byrne,Kerry\n",
      "Ethan, Byrne,Cork\n",
      "Noah, O'Reilly,Down\n",
      "Thomas, McCarthy,Meath\n",
      "Luke, Ryan,Antrim\n",
      "Luke, O'Reilly,Kildare\n",
      "Kyle, O'Reilly,Louth\n",
      "Oisin, Byrne,Londonderry\n",
      "Charlie, Kelly,Dublin\n",
      "Jack, O'Neill,Kerry\n",
      "Alex, O'Brien,Londonderry\n",
      "Adam, Kelly,Down\n",
      "Callum, O'Connor,Armagh\n",
      "Daniel, O'Reilly,Meath\n",
      "James, Walsh,Galway\n",
      "Adam, Kavanagh,Dublin\n",
      "Seán, Byrne,Dublin\n",
      "Conor, O'Reilly,Antrim\n",
      "Oisin, Byrne,Dublin\n",
      "John, Walsh,Dublin\n",
      "Finn, Murphy,Dublin\n",
      "Darragh, Doyle,Mayo\n",
      "Aaron, Kelly,Wexford\n",
      "Luke, Byrne,Down\n",
      "Jack, Murphy,Tyrone\n",
      "Alexander, Ryan,Meath\n",
      "Nathan, Ryan,Antrim\n",
      "Liam, O'Reilly,Cork\n",
      "Kyle, Fitzgerald,Down\n",
      "Ben, O'Neill,Dublin\n",
      "Adam, McCarthy,Antrim\n",
      "Joshua, Walsh,Dublin\n",
      "Darragh, Fitzgerald,Sligo\n",
      "Michael, Walsh,Antrim\n",
      "Aaron, Lynch,Antrim\n",
      "Aaron, O'Sullivan,Down\n",
      "Rian, O'Neill,Waterford\n",
      "David, Brennan,Dublin\n",
      "Luke, McCarthy,Antrim\n",
      "Matthew, Byrne,Dublin\n",
      "Noah, McDonagh,Dublin\n",
      "Ben, Doyle,Dublin\n",
      "Thomas, Byrne,Donegal\n",
      "Kyle, Brennan,Dublin\n",
      "Dylan, Dunne,Londonderry\n",
      "James, Kelly,Cavan\n",
      "Dylan, Lynch,Wexford\n",
      "Daniel, Walsh,Carlow\n",
      "Luke, O'Brien,Donegal\n",
      "Cillian, Fitzgerald,Cork\n",
      "Aaron, O'Connor,Donegal\n",
      "Michael, Fitzgerald,Louth\n",
      "Jake, Lynch,Down\n",
      "Luke, O'Reilly,Dublin\n",
      "Ryan, Walsh,Cork\n",
      "Jamie, Ryan,Louth\n"
     ]
    }
   ],
   "source": [
    "for i in range(100):\n",
    "    name = np.random.choice(forname_array, 1, p=forname_percent)\n",
    "    county = np.random.choice(county_array, 1, p=county_percent)\n",
    "    print(str(name[0]) + \",\" + str(surname[int(np.random.choice(19,1))]) + \",\" + county[0])"
   ]
  },
  {
   "cell_type": "code",
   "execution_count": null,
   "metadata": {},
   "outputs": [],
   "source": []
  }
 ],
 "metadata": {
  "kernelspec": {
   "display_name": "Python 3",
   "language": "python",
   "name": "python3"
  },
  "language_info": {
   "codemirror_mode": {
    "name": "ipython",
    "version": 3
   },
   "file_extension": ".py",
   "mimetype": "text/x-python",
   "name": "python",
   "nbconvert_exporter": "python",
   "pygments_lexer": "ipython3",
   "version": "3.7.1"
  }
 },
 "nbformat": 4,
 "nbformat_minor": 4
}
